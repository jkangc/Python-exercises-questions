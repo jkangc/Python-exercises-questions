{
 "cells": [
  {
   "cell_type": "markdown",
   "id": "483c562d",
   "metadata": {},
   "source": [
    "# Jupyter Node:\n",
    "1. show Shortcut using => \"h\" or Help -> keyboard Shortcuts\n",
    "2. change edit mode to command mode => y\n",
    "3. change command mode to edit mode => m\n",
    "4. execute cell + insert one line => option + enter \n",
    "5. execute cell => control + enter \n",
    "6. delete cell => dd\n",
    "7. insert cell above => a\n",
    "8. insert cell below => b\n"
   ]
  },
  {
   "cell_type": "markdown",
   "id": "787def2d",
   "metadata": {},
   "source": [
    "# Python practice"
   ]
  },
  {
   "cell_type": "code",
   "execution_count": 19,
   "id": "ca17d261",
   "metadata": {},
   "outputs": [
    {
     "name": "stdout",
     "output_type": "stream",
     "text": [
      "hello world\n",
      "please enter your name: jason\n"
     ]
    },
    {
     "data": {
      "text/plain": [
       "'jason'"
      ]
     },
     "execution_count": 19,
     "metadata": {},
     "output_type": "execute_result"
    }
   ],
   "source": [
    "print(\"hello world\")\n",
    "\n",
    "name = input('please enter your name: ')\n",
    "name"
   ]
  },
  {
   "cell_type": "code",
   "execution_count": 22,
   "id": "28b7e967",
   "metadata": {},
   "outputs": [
    {
     "name": "stdout",
     "output_type": "stream",
     "text": [
      "0.2\n"
     ]
    }
   ],
   "source": [
    "s1 = 72\n",
    "s2 = 85\n",
    "r = (s2-s1)/s1\n",
    "print('%.1f' % r)"
   ]
  },
  {
   "cell_type": "markdown",
   "id": "e1477134",
   "metadata": {},
   "source": [
    "# List"
   ]
  },
  {
   "cell_type": "code",
   "execution_count": 39,
   "id": "3eb45d16",
   "metadata": {},
   "outputs": [
    {
     "data": {
      "text/plain": [
       "['Michael', 'Bob', 'Tracy']"
      ]
     },
     "execution_count": 39,
     "metadata": {},
     "output_type": "execute_result"
    }
   ],
   "source": [
    "# 列出班里所有同学的名字，就可以用一个list表示：\n",
    "classmates = ['Michael', 'Bob', 'Tracy']\n",
    "classmates"
   ]
  },
  {
   "cell_type": "code",
   "execution_count": 38,
   "id": "4469aa83",
   "metadata": {},
   "outputs": [
    {
     "data": {
      "text/plain": [
       "6"
      ]
     },
     "execution_count": 38,
     "metadata": {},
     "output_type": "execute_result"
    }
   ],
   "source": [
    "# 变量classmates就是一个list。用len()函数可以获得list元素的个数：\n",
    "len(classmates)"
   ]
  },
  {
   "cell_type": "code",
   "execution_count": 37,
   "id": "79fc5633",
   "metadata": {},
   "outputs": [
    {
     "data": {
      "text/plain": [
       "4"
      ]
     },
     "execution_count": 37,
     "metadata": {},
     "output_type": "execute_result"
    }
   ],
   "source": [
    "# list元素也可以是另一个list，比如：\n",
    "s = ['python', 'java', ['asp', 'php'], 'scheme']\n",
    "len(s)"
   ]
  },
  {
   "cell_type": "code",
   "execution_count": 36,
   "id": "48dc8ada",
   "metadata": {},
   "outputs": [
    {
     "data": {
      "text/plain": [
       "['Michael', 'Jack', 'Bob', 'Tracy', 'Adam', 'Adam']"
      ]
     },
     "execution_count": 36,
     "metadata": {},
     "output_type": "execute_result"
    }
   ],
   "source": [
    "# list是一个可变的有序表，所以，可以往list中追加元素到末尾：\n",
    "classmates.append('Adam')\n",
    "classmates"
   ]
  },
  {
   "cell_type": "code",
   "execution_count": 35,
   "id": "a6e7e56a",
   "metadata": {},
   "outputs": [
    {
     "data": {
      "text/plain": [
       "['Michael', 'Jack', 'Bob', 'Tracy', 'Adam']"
      ]
     },
     "execution_count": 35,
     "metadata": {},
     "output_type": "execute_result"
    }
   ],
   "source": [
    "# 也可以把元素插入到指定的位置，比如索引号为1的位置：\n",
    "classmates.insert(1, 'Jack')\n",
    "classmates"
   ]
  },
  {
   "cell_type": "code",
   "execution_count": 34,
   "id": "5740db60",
   "metadata": {},
   "outputs": [
    {
     "data": {
      "text/plain": [
       "['python', 'java', ['asp', 'php'], 'scheme']"
      ]
     },
     "execution_count": 34,
     "metadata": {},
     "output_type": "execute_result"
    }
   ],
   "source": [
    "# 要注意s只有4个元素，其中s[2]又是一个list，如果拆开写就更容易理解了：\n",
    "p = ['asp', 'php']\n",
    "s = ['python', 'java', p, 'scheme']\n",
    "s"
   ]
  },
  {
   "cell_type": "code",
   "execution_count": 33,
   "id": "878d422e",
   "metadata": {},
   "outputs": [
    {
     "data": {
      "text/plain": [
       "0"
      ]
     },
     "execution_count": 33,
     "metadata": {},
     "output_type": "execute_result"
    }
   ],
   "source": [
    "# 如果一个list中一个元素也没有，就是一个空的list，它的长度为0：\n",
    "L = []\n",
    "len(L)"
   ]
  },
  {
   "cell_type": "markdown",
   "id": "144a6df4",
   "metadata": {},
   "source": [
    "# Tuple"
   ]
  },
  {
   "cell_type": "code",
   "execution_count": 40,
   "id": "8b1aff1f",
   "metadata": {},
   "outputs": [],
   "source": [
    "# 另一种有序列表叫元组：tuple。tuple和list非常类似，但是tuple一旦初始化就不能修改，比如同样是列出同学的名字：\n",
    "classmates = ('Michael', 'Bob', 'Tracy')"
   ]
  },
  {
   "cell_type": "code",
   "execution_count": 42,
   "id": "19db467c",
   "metadata": {},
   "outputs": [
    {
     "data": {
      "text/plain": [
       "('a', 'b', ['X', 'Y'])"
      ]
     },
     "execution_count": 42,
     "metadata": {},
     "output_type": "execute_result"
    }
   ],
   "source": [
    "# Python在显示只有1个元素的tuple时，也会加一个逗号,，以免你误解成数学计算意义上的括号。\n",
    "t = ('a', 'b', ['A', 'B'])\n",
    "t[2][0] = 'X'\n",
    "t[2][1] = 'Y'\n",
    "t"
   ]
  },
  {
   "cell_type": "code",
   "execution_count": 43,
   "id": "446a3f17",
   "metadata": {},
   "outputs": [
    {
     "data": {
      "text/plain": [
       "(1,)"
      ]
     },
     "execution_count": 43,
     "metadata": {},
     "output_type": "execute_result"
    }
   ],
   "source": [
    "# 只有1个元素的tuple定义时必须加一个逗号,，来消除歧义：\n",
    "t = (1,)\n",
    "t"
   ]
  },
  {
   "cell_type": "markdown",
   "id": "4b6e1c01",
   "metadata": {},
   "source": [
    "# 练习\n",
    "小明身高1.75，体重80.5kg。请根据BMI公式（体重除以身高的平方）帮小明计算他的BMI指数，并根据BMI指数：\n",
    "\n",
    "低于18.5：过轻\n",
    "18.5-25：正常\n",
    "25-28：过重\n",
    "28-32：肥胖\n",
    "高于32：严重肥胖\n",
    "用if-elif判断并打印结果：\n",
    "'''"
   ]
  },
  {
   "cell_type": "code",
   "execution_count": 44,
   "id": "cf74c57d",
   "metadata": {},
   "outputs": [
    {
     "name": "stdout",
     "output_type": "stream",
     "text": [
      "小明的BMI指数：过重 26.3\n"
     ]
    }
   ],
   "source": [
    "height = 1.75\n",
    "weight = 80.5\n",
    "\n",
    "variable = '小明的BMI指数：'\n",
    "bmi = weight/(height**2)\n",
    "if bmi<18.5:\n",
    "    print(f'{variable }过轻')\n",
    "elif bmi < 25:\n",
    "    print('{0}正常'.format(variable ))\n",
    "elif bmi < 28:\n",
    "    print(f'%s过重 {bmi:.1f}' % variable )\n",
    "elif bmi <32:\n",
    "    print(f'bmi is {bmi:.1f},肥胖')\n",
    "else:\n",
    "    print(f'bmi is {bmi:.1f}, 严重肥胖')"
   ]
  },
  {
   "cell_type": "markdown",
   "id": "ed7a4d68",
   "metadata": {},
   "source": [
    "# Lintcode Note"
   ]
  },
  {
   "cell_type": "code",
   "execution_count": 65,
   "id": "21d32b66",
   "metadata": {},
   "outputs": [],
   "source": [
    "# open file and wirte, close\n",
    "# with open(path, 'w') as f:\n",
    "#    f.write('Hello World!')\n",
    "# f.close()\n",
    "\n",
    "# with open(input_filepath, 'r') as f:\n",
    "#     data_list = f.read().split(' ')\n",
    "# print (sum(map(int, data_list)))\n",
    "\n",
    "# print([i for i in var_str.replace('_', ' ').replace('Zhuge Dan','Zhuge Liang').split('#') if i !=''])"
   ]
  },
  {
   "cell_type": "code",
   "execution_count": 58,
   "id": "5ddc892c",
   "metadata": {},
   "outputs": [],
   "source": [
    "# from a_plus_b import plus\n",
    "\n",
    "# from folder_name import module_name\n",
    "\n",
    "# import math\n",
    "# print (int(math.sqrt(c**2 - a**2)))"
   ]
  },
  {
   "cell_type": "code",
   "execution_count": 56,
   "id": "8c852f7d",
   "metadata": {},
   "outputs": [],
   "source": [
    "# L = [i for i in list_1 if i[0] in  ['j', 'z', 'd', 'f', 'h']]\n",
    "\n",
    "# l = [i for i in range(range1, range2) if i > 4 and i%2 == 0]\n",
    "\n",
    "# if list_1.count(i) %2 == 1:"
   ]
  },
  {
   "cell_type": "code",
   "execution_count": 52,
   "id": "c3443f24",
   "metadata": {},
   "outputs": [],
   "source": [
    "# import datetime\n",
    "# return today + datetime.timedelta(days = -1)"
   ]
  },
  {
   "cell_type": "code",
   "execution_count": 53,
   "id": "efb12614",
   "metadata": {},
   "outputs": [],
   "source": [
    "# list_in.sort(reverse=True) "
   ]
  },
  {
   "cell_type": "code",
   "execution_count": 57,
   "id": "ce385f57",
   "metadata": {},
   "outputs": [],
   "source": [
    "# combine 2 list => list_a+list_b\n",
    "\n",
    "# repeat 3 time => list_a*3\n",
    "\n",
    "# bool whether the value exist => return value in list_a\n",
    "# print(num_1 is num_2)\n",
    "\n",
    "# list the initial character in each element => return [i[0] for i in list_a]\n",
    "\n",
    "# divide and round down => print((num_1+num_1*num_1)//(num_1+2) in list_1)"
   ]
  },
  {
   "cell_type": "code",
   "execution_count": 60,
   "id": "9e235567",
   "metadata": {},
   "outputs": [],
   "source": [
    "# exception, %s\n",
    "# raise DiscoverBlacklist('Alert, %s is on the blacklist.' % customer)"
   ]
  },
  {
   "cell_type": "code",
   "execution_count": 61,
   "id": "2a1c85ed",
   "metadata": {},
   "outputs": [],
   "source": [
    "# de, short, en expland\n",
    "# print(content.decode())\n",
    "# print(text.encode())"
   ]
  },
  {
   "cell_type": "code",
   "execution_count": 62,
   "id": "6171c9be",
   "metadata": {},
   "outputs": [],
   "source": [
    "# 2939 · Complete the chain table class (II)"
   ]
  },
  {
   "cell_type": "code",
   "execution_count": 63,
   "id": "4a68dbf2",
   "metadata": {},
   "outputs": [],
   "source": [
    "# var = \n",
    "# f\"var is {var}\"\n",
    "# \"var is {}\".format(var)\n",
    "# \"var is {v}\".format(v=var)\n",
    "# \"var is %s\" % var"
   ]
  },
  {
   "cell_type": "code",
   "execution_count": null,
   "id": "b70d4cc0",
   "metadata": {},
   "outputs": [],
   "source": []
  }
 ],
 "metadata": {
  "kernelspec": {
   "display_name": "Python 3 (ipykernel)",
   "language": "python",
   "name": "python3"
  },
  "language_info": {
   "codemirror_mode": {
    "name": "ipython",
    "version": 3
   },
   "file_extension": ".py",
   "mimetype": "text/x-python",
   "name": "python",
   "nbconvert_exporter": "python",
   "pygments_lexer": "ipython3",
   "version": "3.9.7"
  }
 },
 "nbformat": 4,
 "nbformat_minor": 5
}
