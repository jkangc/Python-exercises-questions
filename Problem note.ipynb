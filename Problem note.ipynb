{
 "cells": [
  {
   "cell_type": "markdown",
   "id": "005bf4c9",
   "metadata": {},
   "source": [
    "## 001， 2089 Implement timer decorator"
   ]
  },
  {
   "cell_type": "code",
   "execution_count": 84,
   "id": "9e740cc2",
   "metadata": {},
   "outputs": [],
   "source": [
    "import time\n",
    "\n",
    "\n",
    "# write your code here\n",
    "# you need to implement a decorator named timer\n",
    "# the decorator will timer the decorated function and print the name of the\n",
    "# function and the running time in format 'function a cost 0.1 seconds'\n",
    "def timer(func):\n",
    "    def wrapper(*args, **kwargs):\n",
    "        t = time.time()\n",
    "        func(*args, **kwargs)\n",
    "        t = time.time() - t\n",
    "        print('function %s cost %.1f seconds' % (func.__name__, t))\n",
    "    return wrapper"
   ]
  },
  {
   "cell_type": "markdown",
   "id": "e5d9fb63",
   "metadata": {},
   "source": [
    "## 002， 2097 Find the sum of two parameters"
   ]
  },
  {
   "cell_type": "code",
   "execution_count": null,
   "id": "333dc9a9",
   "metadata": {},
   "outputs": [],
   "source": [
    "import sys\n",
    "\n",
    "# try to import the function plus from a_plus_b.py in the same directory\n",
    "# - write your code here -\n",
    "from a_plus_b import plus\n",
    "# read two parameters from command like `python main.py 1 2` by sys.argv\n",
    "# - write your code here -\n",
    "a, b = int(sys.argv[1]), int(sys.argv[2])\n",
    "# call plus function and add them up\n",
    "# - write your code here -\n",
    "s = a+b\n",
    "# print the sum to the console\n",
    "# - write your code here -\n",
    "print(s)"
   ]
  },
  {
   "cell_type": "markdown",
   "id": "e73ec9e0",
   "metadata": {},
   "source": [
    "## 003， 2098 Read the values in the file and sum them"
   ]
  },
  {
   "cell_type": "code",
   "execution_count": null,
   "id": "96d9e6ad",
   "metadata": {},
   "outputs": [],
   "source": [
    "import sys\n",
    "\n",
    "input_filepath = sys.argv[1]\n",
    "\n",
    "# write your code here to read file content\n",
    "# and print it to console\n",
    "with open(input_filepath,'r') as f:\n",
    "    data_list = f.read().split(' ')\n",
    "print(sum(map(int,data_list)))"
   ]
  },
  {
   "cell_type": "markdown",
   "id": "fc7480de",
   "metadata": {},
   "source": [
    "## 004， 2105 Write Hello World! in the file"
   ]
  },
  {
   "cell_type": "code",
   "execution_count": null,
   "id": "fa72941a",
   "metadata": {},
   "outputs": [],
   "source": [
    "def write_to_file(filepath):\n",
    "    # write your code here\n",
    "    # you code should write \"Hello World!\" to the give filepath\n",
    "    # do not change the function name\n",
    "    with open(filepath, 'w') as f:\n",
    "        f.write(\"Hello World!\")\n",
    "        f.close()"
   ]
  },
  {
   "cell_type": "markdown",
   "id": "8e376a25",
   "metadata": {},
   "source": [
    "## 005， 2106 Create a file directory and write Hello World!"
   ]
  },
  {
   "cell_type": "code",
   "execution_count": null,
   "id": "0191d970",
   "metadata": {},
   "outputs": [],
   "source": [
    "import os\n",
    "def write_to_file(path):\n",
    "    file = os.path.dirname(path)\n",
    "    if not os.path.exists(file):\n",
    "        os.makedirs(file)\n",
    "    with open(path, 'w') as f:\n",
    "        f.write('Hello World!')"
   ]
  },
  {
   "cell_type": "markdown",
   "id": "431e145b",
   "metadata": {},
   "source": [
    "## 006，2107 · Copy files in bulk"
   ]
  },
  {
   "cell_type": "code",
   "execution_count": null,
   "id": "542741c0",
   "metadata": {},
   "outputs": [],
   "source": [
    "import shutil\n",
    "import os\n",
    "\n",
    "\n",
    "def copy_folder(from_dir_path, to_dir_path):\n",
    "    # write your code here\n",
    "    shutil.copytree(from_dir_path, to_dir_path)"
   ]
  },
  {
   "cell_type": "markdown",
   "id": "c2802459",
   "metadata": {},
   "source": [
    "## 007， 2123 Get yesterday's date"
   ]
  },
  {
   "cell_type": "code",
   "execution_count": null,
   "id": "90947278",
   "metadata": {},
   "outputs": [],
   "source": [
    "# import the required modules\n",
    "import datetime\n",
    "\n",
    "# complete custom functions\n",
    "def yesterday(today: datetime) -> datetime:\n",
    "    '''\n",
    "    :param today: get the date to be queried\n",
    "    :return: the date of yesterday\n",
    "    '''\n",
    "    # write your code here\n",
    "    return today + datetime.timedelta(days = -1)"
   ]
  },
  {
   "cell_type": "markdown",
   "id": "6d3186df",
   "metadata": {},
   "source": [
    "## 008， 2124 print hello"
   ]
  },
  {
   "cell_type": "code",
   "execution_count": null,
   "id": "3c05491d",
   "metadata": {},
   "outputs": [],
   "source": [
    "def hello_python():\n",
    "    # --write your code here--\n",
    "    print('Hello Python!')"
   ]
  },
  {
   "cell_type": "markdown",
   "id": "375bfccd",
   "metadata": {},
   "source": [
    "## 009， 2125 Call the methods in the file main"
   ]
  },
  {
   "cell_type": "code",
   "execution_count": null,
   "id": "d0ca0265",
   "metadata": {},
   "outputs": [],
   "source": [
    "# --write your code here--\n",
    "from main import let_run\n",
    "let_run()"
   ]
  },
  {
   "cell_type": "markdown",
   "id": "4ba23ef1",
   "metadata": {},
   "source": [
    "## 010， 2126 Import one of the files in a module folder"
   ]
  },
  {
   "cell_type": "code",
   "execution_count": null,
   "id": "ce51026a",
   "metadata": {},
   "outputs": [],
   "source": [
    "# write your code here\n",
    "from branch import solution \n",
    "# keep the code below\n",
    "solution.do()"
   ]
  },
  {
   "cell_type": "markdown",
   "id": "4345ca18",
   "metadata": {},
   "source": [
    "## 011， 2127 Implementing reverse sorting of numbers in a list"
   ]
  },
  {
   "cell_type": "code",
   "execution_count": null,
   "id": "3ba95ffc",
   "metadata": {},
   "outputs": [],
   "source": [
    "def list_sort(list_in: list) -> list:\n",
    "    \"\"\"\n",
    "    :param list_in: The first input list\n",
    "    :return: A list sorted from largest to smallest\n",
    "    \"\"\"\n",
    "    # write your code here\n",
    "    list_in.sort(reverse=True)\n",
    "    return list_in"
   ]
  },
  {
   "cell_type": "markdown",
   "id": "7e0d0f24",
   "metadata": {},
   "source": [
    "## 012， 2128 Use of list built-in methods"
   ]
  },
  {
   "cell_type": "code",
   "execution_count": null,
   "id": "11d8bf6f",
   "metadata": {},
   "outputs": [],
   "source": [
    "def get_len(list_in: list) -> int:\n",
    "    \"\"\"\n",
    "    :param list_in: The first input list\n",
    "    :return: The length of the list_in\n",
    "    \"\"\"\n",
    "    # write your code here\n",
    "    return len(list_in)\n",
    "\n",
    "def get_max(list_in: list) -> int:\n",
    "    \"\"\"\n",
    "    :param list_in: The first input list\n",
    "    :return: The largest value of list_in\n",
    "    \"\"\"\n",
    "    # write your code here\n",
    "    return max(list_in)\n",
    "\n",
    "def get_min(list_in: list) -> int:\n",
    "    \"\"\"\n",
    "    :param list_in: The first input list\n",
    "    :return: The smallest value of list_in\n",
    "    \"\"\"\n",
    "    # write your code here\n",
    "    return min(list_in)\n",
    "\n",
    "def pop_list(list_in: list) -> list:\n",
    "    \"\"\"\n",
    "    :param tuple_in: The first input tuple\n",
    "    :return: The list delete the last element\n",
    "    \"\"\"\n",
    "    # write your code here\n",
    "    return list_in.pop()"
   ]
  },
  {
   "cell_type": "markdown",
   "id": "8cd053de",
   "metadata": {},
   "source": [
    "## 013， 2129 Modify the value of a specified subscript of a list"
   ]
  },
  {
   "cell_type": "code",
   "execution_count": null,
   "id": "251bb7a2",
   "metadata": {},
   "outputs": [],
   "source": [
    "def update(list_in: list, idx: int, value: str) -> list:\n",
    "    \"\"\"\n",
    "    :param list_in: The first input list\n",
    "    :param idx: The index of update element\n",
    "    :param value: The new element after update old element\n",
    "    :return: The new list after update the index element\n",
    "    \"\"\"\n",
    "    # write your code here\n",
    "    list_in[idx] = value\n",
    "    return list_in"
   ]
  },
  {
   "cell_type": "markdown",
   "id": "1860b681",
   "metadata": {},
   "source": [
    "## 014， 2130 The subscript element of the specified list"
   ]
  },
  {
   "cell_type": "code",
   "execution_count": null,
   "id": "23f2d550",
   "metadata": {},
   "outputs": [],
   "source": [
    "def delete(list_in: list, idx: int) -> list:\n",
    "    \"\"\"\n",
    "    :param list_in: The first source list\n",
    "    :param idx: The input index of list_in\n",
    "    :return: A list after delete the index element of list_in\n",
    "    \"\"\"\n",
    "    # write your code here\n",
    "    list_in.pop(idx)\n",
    "    return list_in"
   ]
  },
  {
   "cell_type": "markdown",
   "id": "aa296466",
   "metadata": {},
   "source": [
    "## 015， 2131 Nesting of lists"
   ]
  },
  {
   "cell_type": "code",
   "execution_count": null,
   "id": "9fea880e",
   "metadata": {},
   "outputs": [],
   "source": [
    "def nest(list_a: list, list_b: list) -> list:\n",
    "    \"\"\"\n",
    "    :param list_a: The first source list\n",
    "    :param list_b: The second source list\n",
    "    :return: A list contains list_a and list_b\n",
    "    \"\"\"\n",
    "    # write your code here\n",
    "    return [list_a, list_b]"
   ]
  },
  {
   "cell_type": "markdown",
   "id": "3c78662a",
   "metadata": {},
   "source": [
    "## 016， 2132 · Importing a module"
   ]
  },
  {
   "cell_type": "code",
   "execution_count": null,
   "id": "b50e225a",
   "metadata": {},
   "outputs": [],
   "source": [
    "# write your code here\n",
    "import solution\n",
    "# keep the code below\n",
    "solution.do()"
   ]
  },
  {
   "cell_type": "markdown",
   "id": "6df1f200",
   "metadata": {},
   "source": [
    "## 017， 2133 Use list derivatives to filter elements in any range"
   ]
  },
  {
   "cell_type": "code",
   "execution_count": null,
   "id": "29b0bac9",
   "metadata": {},
   "outputs": [],
   "source": [
    "def list_comprehension(range1: int, range2: int) -> list:\n",
    "    \"\"\"\n",
    "    :param range1: The first num of range\n",
    "    :param range2: The second num of range\n",
    "    :return: A list of elements that meet the conditions in the range \n",
    "             from range1 to range2\n",
    "    \"\"\"\n",
    "    # write your code here\n",
    "    l = [i for i in range(range1, range2) if i > 4 and i%2 == 0]\n",
    "    return l"
   ]
  },
  {
   "cell_type": "markdown",
   "id": "52088f0a",
   "metadata": {},
   "source": [
    "## 018， 2134 General operation of the list"
   ]
  },
  {
   "cell_type": "code",
   "execution_count": null,
   "id": "2f4f0525",
   "metadata": {},
   "outputs": [],
   "source": [
    "def get_len_of_list(list_a: list) -> int:\n",
    "    \"\"\"\n",
    "    :param list_a: The first source list\n",
    "    :return: A length of list_in\n",
    "    \"\"\"\n",
    "    # --write your code here--\n",
    "    return len(list_a)\n",
    "\n",
    "def add_two_list(list_a: list, list_b: list) -> list:\n",
    "    \"\"\"\n",
    "    :param list_a: The second source list\n",
    "    :param list_b: The third source list\n",
    "    :return: A list about the combination of list_a and list_b\n",
    "    \"\"\"\n",
    "    # write your code here\n",
    "    return list_a+list_b\n",
    "\n",
    "def repeat_list(list_a: list) -> list:\n",
    "    \"\"\"\n",
    "    :param list_a: The first source list\n",
    "    :return: A list about 3 times reputations of list_in\n",
    "    \"\"\"\n",
    "    # write your code here\n",
    "    return list_a*3\n",
    "\n",
    "def is_in_list(value: str, list_a: list) -> bool:\n",
    "    \"\"\"\n",
    "    :param value: The fourth source string\n",
    "    :param list_a: The second source list\n",
    "    :return: A bool whether value is in list_a\n",
    "    \"\"\"\n",
    "    # write your code here\n",
    "    return value in list_a\n",
    "\n",
    "def iterate_list(list_a: list) -> list:\n",
    "    \"\"\"\n",
    "    :param list_a: The second source list\n",
    "    :return: A list about the initial character in each element of list_a\n",
    "    \"\"\"\n",
    "    # write your code here\n",
    "    return [i[0] for i in list_a]"
   ]
  },
  {
   "cell_type": "markdown",
   "id": "bce75eb7",
   "metadata": {},
   "source": [
    "## 019， 2135 Import a module and alias it"
   ]
  },
  {
   "cell_type": "code",
   "execution_count": null,
   "id": "2e95ac99",
   "metadata": {},
   "outputs": [],
   "source": [
    "# Please write your code here\n",
    "import datetime as LintCode_t"
   ]
  },
  {
   "cell_type": "markdown",
   "id": "641a4b71",
   "metadata": {},
   "source": [
    "## 020， 2137 Print out SMS verification code"
   ]
  },
  {
   "cell_type": "code",
   "execution_count": null,
   "id": "94be393d",
   "metadata": {},
   "outputs": [],
   "source": [
    "import sys\n",
    "\n",
    "name = str(sys.argv[1])\n",
    "SMS_verification_code = str(sys.argv[2])\n",
    "\n",
    "# print \"Hello, name! Your validation code is SMS_verification_code\n",
    "# please keep it in secret.\"\n",
    "print('Hello, %s! Your validation code is %s, please keep it in secret.' % (name, SMS_verification_code))"
   ]
  },
  {
   "cell_type": "markdown",
   "id": "4a55088f",
   "metadata": {},
   "source": [
    "## 021， 2139 print format outputs course information"
   ]
  },
  {
   "cell_type": "code",
   "execution_count": null,
   "id": "39065528",
   "metadata": {},
   "outputs": [],
   "source": [
    "import sys\n",
    "# keep this code\n",
    "course_name = str(sys.argv[1])\n",
    "number = str(sys.argv[2])\n",
    "# write your code here\n",
    "print('course_name:%s,number:%s' % (course_name, number))"
   ]
  },
  {
   "cell_type": "markdown",
   "id": "963abea9",
   "metadata": {},
   "source": [
    "## 022， 2140 The number of the two numbers in the list whose sum is equal to n"
   ]
  },
  {
   "cell_type": "code",
   "execution_count": null,
   "id": "9fdd9187",
   "metadata": {},
   "outputs": [],
   "source": [
    "def twonums_sum(n, lst):\n",
    "# -- write your code here --\n",
    "    for i in range(len(lst)):\n",
    "        for j in range(i+1, len(lst)):\n",
    "            if lst[i]+lst[j] == n:\n",
    "                return print((i, j))\n",
    "    return print('not found')"
   ]
  },
  {
   "cell_type": "markdown",
   "id": "b66abad7",
   "metadata": {},
   "source": [
    "## 023， 2141 Determine if a string is uppercase and the consecutive characters are not repeated"
   ]
  },
  {
   "cell_type": "code",
   "execution_count": null,
   "id": "1ef8903b",
   "metadata": {},
   "outputs": [],
   "source": [
    "def solution(var_str):\n",
    "    # Iterate through the string\n",
    "\n",
    "    # for i in range(len(var_str)):\n",
    "\n",
    "    # Determine if the character is in A ~ Z. If not, return 'Dislikes'\n",
    "\n",
    "    # Determine if this character is the last character\n",
    "\n",
    "    # Determine if this character is equal to the next character, and if so, return 'Dislikes'\n",
    "\n",
    "    # If not, continue the for loop\n",
    "\n",
    "    # If the loop does not return after execution, return 'Likes'\n",
    "    for i in range(len(var_str)-1):\n",
    "        if var_str[i] == var_str[i+1]:\n",
    "            return 'Dislikes'\n",
    "    return 'Likes'"
   ]
  },
  {
   "cell_type": "markdown",
   "id": "131b57cc",
   "metadata": {},
   "source": [
    "## 024， 2142 Replace the elements in a string"
   ]
  },
  {
   "cell_type": "code",
   "execution_count": null,
   "id": "52240f19",
   "metadata": {},
   "outputs": [],
   "source": [
    "def solution(var_str):\n",
    "\n",
    "    # Determine if the end of the string is '#', if so remove it.\n",
    "    # if condition:\n",
    "    # Convert a string to a list and output\n",
    "    # var_list =\n",
    "    # print(var_list)\n",
    "    # Traversing the entire table, Replace 'Zhuge Dan' in the character with 'Zhuge Liang' and output\n",
    "    # for i in range(len(var_list)):\n",
    "    print([i for i in var_str.replace('_', ' ').split('#') if i != ''])\n",
    "    print([i for i in var_str.replace('_', ' ').replace('Zhuge Dan','Zhuge Liang').split('#') if i !=''])"
   ]
  },
  {
   "cell_type": "markdown",
   "id": "42c52720",
   "metadata": {},
   "source": [
    "## 025， 2145 Exception Handling"
   ]
  },
  {
   "cell_type": "code",
   "execution_count": 1,
   "id": "3162b57b",
   "metadata": {},
   "outputs": [],
   "source": [
    "def division(a, b):\n",
    "    # write your code here\n",
    "    try:\n",
    "        c = (a+b)/(a-b)\n",
    "        print('a = %d, b = %d, (a+b)/(a-b) = %s' % (a, b, c))        \n",
    "    except: \n",
    "        print ('a = %d, b = %d, the denominator of (a+b)/(a-b) cannot be zero' % (a, b))"
   ]
  },
  {
   "cell_type": "markdown",
   "id": "7b9188dd",
   "metadata": {},
   "source": [
    "## 026，2146 Implement Decorator with Parameters"
   ]
  },
  {
   "cell_type": "code",
   "execution_count": 9,
   "id": "317bbeda",
   "metadata": {
    "scrolled": true
   },
   "outputs": [
    {
     "name": "stdout",
     "output_type": "stream",
     "text": [
      "before function run\n",
      "function run\n",
      "after function run\n"
     ]
    }
   ],
   "source": [
    "# please implement a decorator named repeat_func here, it takes one parameter n,\n",
    "# indicate how many times we need to repeat running the decorated function\n",
    "def repeat_func(n):\n",
    "    def wrapper(func):\n",
    "        def dec(*args, **kwargs):\n",
    "            print('before function run')\n",
    "            for i in range(n):\n",
    "                func(*args, **kwargs)\n",
    "                print('after function run')\n",
    "                #return func(*args, **kwargs)  --return back to the function and execute the rest of code\n",
    "        return dec\n",
    "    return wrapper\n",
    "\n",
    "@repeat_func(1==1)\n",
    "def func():\n",
    "    print('function run')\n",
    "func()"
   ]
  },
  {
   "cell_type": "markdown",
   "id": "c01ba7dd",
   "metadata": {},
   "source": [
    "## 027， 2158 Custom Exceptions"
   ]
  },
  {
   "cell_type": "code",
   "execution_count": null,
   "id": "13149e35",
   "metadata": {},
   "outputs": [],
   "source": [
    "class MyError(Exception):\n",
    "    def __init__(self, code):\n",
    "        # write your code here: \n",
    "        self.__code = code       \n",
    "\n",
    "    def __str__(self):\n",
    "        # write your code here:\n",
    "        return str(self.__code)"
   ]
  },
  {
   "cell_type": "markdown",
   "id": "a0793b86",
   "metadata": {},
   "source": [
    "## 028， 2170 Read file contents\n",
    "### Description: This problem requires reading the contents of an existing file in a folder. By manipulating the file, you could read the contents of the file and print them out."
   ]
  },
  {
   "cell_type": "code",
   "execution_count": 10,
   "id": "04f9480c",
   "metadata": {},
   "outputs": [],
   "source": [
    "def read_file(input_path):\n",
    "# write your code here\n",
    "    with open(input_path, 'r') as f:\n",
    "        contents=f.read()\n",
    "        print(contents)"
   ]
  },
  {
   "cell_type": "markdown",
   "id": "faace65c",
   "metadata": {},
   "source": [
    "## 029， 2174 Query the number of 'your' words in the file\n",
    "### Description: Write Python code that implements a function called num_your. This function will count the number of occurrences of the word 'your' in the file and finally return the count value."
   ]
  },
  {
   "cell_type": "code",
   "execution_count": 11,
   "id": "9cc34f74",
   "metadata": {},
   "outputs": [],
   "source": [
    "def num_your(poem):\n",
    "    # write your code here\n",
    "    return poem.count(' your ')"
   ]
  },
  {
   "cell_type": "markdown",
   "id": "9302591d",
   "metadata": {},
   "source": [
    "## 030， 2178 Iterators and Fibonacci series"
   ]
  },
  {
   "cell_type": "code",
   "execution_count": null,
   "id": "a0af7fc5",
   "metadata": {},
   "outputs": [],
   "source": [
    "class FibonacciIterator:\n",
    "    def __init__(self):\n",
    "        self.a, self.b = 0, 1\n",
    "\n",
    "    def __iter__(self):\n",
    "        return self   \n",
    "\n",
    "    def __next__(self):\n",
    "        # write your code here:\n",
    "        self.a, self.b = self.b, self.a+self.b\n",
    "        return self.a"
   ]
  },
  {
   "cell_type": "markdown",
   "id": "3f876286",
   "metadata": {},
   "source": [
    "## 031， 2180 Comparing the size of two numbers"
   ]
  },
  {
   "cell_type": "code",
   "execution_count": 12,
   "id": "3f10362b",
   "metadata": {},
   "outputs": [],
   "source": [
    "# write your code here\n",
    "def get_max(a, b):\n",
    "    return max(a, b)"
   ]
  },
  {
   "cell_type": "markdown",
   "id": "5e8fa74d",
   "metadata": {},
   "source": [
    "## 032， 2181 Iterator and an even series"
   ]
  },
  {
   "cell_type": "code",
   "execution_count": null,
   "id": "53bb9e4d",
   "metadata": {},
   "outputs": [],
   "source": [
    "class EvenIterator:\n",
    "    def __init__(self, max_value):\n",
    "        # write your code here:\n",
    "        self.max_value = max_value\n",
    "        self.num = 0\n",
    "\n",
    "    def __iter__(self):\n",
    "        return self\n",
    "\n",
    "    def __next__(self):\n",
    "        # write your code here:\n",
    "        if self.num > self.max_value:\n",
    "            raise StopIteration\n",
    "        else:\n",
    "            temp = self.num\n",
    "            self.num += 2\n",
    "            return temp"
   ]
  },
  {
   "cell_type": "markdown",
   "id": "d5ea788d",
   "metadata": {},
   "source": [
    "## 033， 2185 Count the number of times an element appears in the list"
   ]
  },
  {
   "cell_type": "code",
   "execution_count": 13,
   "id": "647f0f73",
   "metadata": {},
   "outputs": [],
   "source": [
    "def count_5(list_1: list) -> int:\n",
    "    '''\n",
    "    :param list_1: Input list\n",
    "    :param x: The elements to find\n",
    "    :return: The number of occurrences of the element\n",
    "    '''\n",
    "    # -- write your code here --\n",
    "    return list_1.count(5)"
   ]
  },
  {
   "cell_type": "markdown",
   "id": "ca7d59c0",
   "metadata": {},
   "source": [
    "## 034， 2186 Calculate the factorial of n"
   ]
  },
  {
   "cell_type": "code",
   "execution_count": 14,
   "id": "5a07009e",
   "metadata": {},
   "outputs": [],
   "source": [
    "# write your code here\n",
    "def fact(n):\n",
    "    if n == 0:\n",
    "        return 1\n",
    "    return n*fact(n-1)"
   ]
  },
  {
   "cell_type": "markdown",
   "id": "ff098715",
   "metadata": {},
   "source": [
    "## 035， 2187 Combining and sorting lists (one)"
   ]
  },
  {
   "cell_type": "code",
   "execution_count": 16,
   "id": "dd93b2c0",
   "metadata": {},
   "outputs": [],
   "source": [
    "def sorting_connection(list_1: list, list_2: list) -> None:\n",
    "    '''\n",
    "    :param list_1: Input list one\n",
    "    :param list_2: Input list two\n",
    "    :return: None\n",
    "    '''\n",
    "    # write your code here\n",
    "    print (sorted(list_1+list_2))"
   ]
  },
  {
   "cell_type": "markdown",
   "id": "b569553f",
   "metadata": {},
   "source": [
    "## 036， 2199 Remove empty lines from files"
   ]
  },
  {
   "cell_type": "code",
   "execution_count": 19,
   "id": "ccb8e9b6",
   "metadata": {},
   "outputs": [],
   "source": [
    "def remove_empty_lines(input_path, output_path):\n",
    "    '''\n",
    "    read the file in the input_path path\n",
    "    remove blank lines\n",
    "    write the data with the blank lines removed to the file\n",
    "    '''\n",
    "    # -- write your code here --\n",
    "    with open(input_path, 'r') as f:\n",
    "        a = f.readlines()\n",
    "    with open(output_path, 'w') as f:\n",
    "        for s in a:\n",
    "            if s != '\\n':\n",
    "                f.write(s)"
   ]
  },
  {
   "cell_type": "markdown",
   "id": "84789058",
   "metadata": {},
   "source": [
    "## 037， 2202 Calculate Sum (Python version)"
   ]
  },
  {
   "cell_type": "code",
   "execution_count": 20,
   "id": "f8ab138a",
   "metadata": {},
   "outputs": [
    {
     "name": "stdout",
     "output_type": "stream",
     "text": [
      "10\n",
      "55\n"
     ]
    }
   ],
   "source": [
    "# write your code here\n",
    "# read data from console\n",
    "n = int(input())\n",
    "# output the answer to the console according to the requirements of the question\n",
    "#print(int((1+n)*n/2))\n",
    "list = [i for i in range(1, n+1)]\n",
    "print(sum(list))"
   ]
  },
  {
   "cell_type": "markdown",
   "id": "b2951d75",
   "metadata": {},
   "source": [
    "## 038， 2204 The remainder of a partial function to divide two positive integers"
   ]
  },
  {
   "cell_type": "code",
   "execution_count": null,
   "id": "105435dc",
   "metadata": {},
   "outputs": [],
   "source": [
    "import functools\n",
    "\n",
    "\n",
    "def division(m, n):\n",
    "    return n % m\n",
    "\n",
    "\n",
    "# write your code here:\n",
    "result = functools.partial(division, 999)"
   ]
  },
  {
   "cell_type": "markdown",
   "id": "b868f993",
   "metadata": {},
   "source": [
    "## 039， 2205 Binary to decimal conversion"
   ]
  },
  {
   "cell_type": "code",
   "execution_count": 23,
   "id": "e257e6d2",
   "metadata": {},
   "outputs": [],
   "source": [
    "# write your code here\n",
    "# import functools\n",
    "from functools import partial\n",
    "def func():\n",
    "    # write your code here\n",
    "    # define the partial function\n",
    "    # return partial function\n",
    "    n = partial(int, base=2)\n",
    "    return n"
   ]
  },
  {
   "cell_type": "markdown",
   "id": "8b097351",
   "metadata": {},
   "source": [
    "## 040， 2207 Filter out all odd numbers"
   ]
  },
  {
   "cell_type": "code",
   "execution_count": null,
   "id": "643d481b",
   "metadata": {},
   "outputs": [],
   "source": [
    "def odd(list_in):\n",
    "    # write your code here\n",
    "    for i in list_in:\n",
    "        if i%2 != 0:\n",
    "            yield i"
   ]
  },
  {
   "cell_type": "markdown",
   "id": "e1ba1dfc",
   "metadata": {},
   "source": [
    "## 041， 2211 Judge the number of palindrome"
   ]
  },
  {
   "cell_type": "code",
   "execution_count": 24,
   "id": "ad0733d5",
   "metadata": {},
   "outputs": [],
   "source": [
    "def is_palindrome(str_1: str) -> bool:\n",
    "    '''\n",
    "    :param str_1: Input a string\n",
    "    :return: Whether it is a palindrome number\n",
    "    '''\n",
    "    # -- write your code here --\n",
    "    return str_1 == str_1[::-1]"
   ]
  },
  {
   "cell_type": "markdown",
   "id": "fde1fa2e",
   "metadata": {},
   "source": [
    "## 042， 2216 String summing, repeated output, slicing"
   ]
  },
  {
   "cell_type": "code",
   "execution_count": 25,
   "id": "6c7ea0df",
   "metadata": {},
   "outputs": [],
   "source": [
    "def add_repeat_slicing(str_1: str, str_2: str) -> tuple:\n",
    "    \"\"\"\n",
    "    :param str_1: The first source string\n",
    "    :param str_2: The Second source string\n",
    "    :return: tuple: A tuple containing three new strings\n",
    "    \"\"\"\n",
    "    # -- write your code here --\n",
    "    return str_1+str_2, str_1+str_1, str_1[1:4]"
   ]
  },
  {
   "cell_type": "markdown",
   "id": "8c85b8bc",
   "metadata": {},
   "source": [
    "## 043， 2226 Determine if the specified character is present in the string"
   ]
  },
  {
   "cell_type": "code",
   "execution_count": 26,
   "id": "05cb616e",
   "metadata": {},
   "outputs": [],
   "source": [
    "def member_judge(str_1: str, str_2: str) -> None:\n",
    "    \"\"\"\n",
    "    param str_1: a string\n",
    "    param str_2: another string\n",
    "    return: No return value is required\n",
    "    \"\"\"\n",
    "    # -- write your code here --\n",
    "    if 'H' in str_1:\n",
    "        print('H in str_1')\n",
    "    else:\n",
    "        print('H not in str_1')\n",
    "    if 'M' in str_2:\n",
    "        print('M in str_2')\n",
    "    else:\n",
    "        print('M not in str_2')"
   ]
  },
  {
   "cell_type": "markdown",
   "id": "8399519a",
   "metadata": {},
   "source": [
    "## 044， 2228 Slicing and Splicing"
   ]
  },
  {
   "cell_type": "code",
   "execution_count": 27,
   "id": "4a4c4f52",
   "metadata": {},
   "outputs": [],
   "source": [
    "def tup_operation(tup_1: tuple) -> tuple:\n",
    "    \"\"\"\n",
    "    param tup_1: a initial tuple\n",
    "    return: a new tuple\n",
    "    \"\"\"\n",
    "    # -- write your code here --\n",
    "    return tup_1[:2]+tup_1[-2:]"
   ]
  },
  {
   "cell_type": "markdown",
   "id": "b0e94f0e",
   "metadata": {},
   "source": [
    "## 045， 2229 Find the length, maximum value and minimum value of a tuple"
   ]
  },
  {
   "cell_type": "code",
   "execution_count": 28,
   "id": "7715f7d4",
   "metadata": {},
   "outputs": [],
   "source": [
    "def tup_len(tuple_1: tuple, tuple_2: tuple) -> tuple:\n",
    "    \"\"\"\n",
    "    \n",
    "    :param tuple_1: The first source tuple\n",
    "    :param tuple_2: The second source tuple\n",
    "    :return: tuple: A tuple containing three new int\n",
    "    \"\"\"\n",
    "    # --write your code here--\n",
    "    return (len(tuple_1), max(tuple_2), min(tuple_2))"
   ]
  },
  {
   "cell_type": "markdown",
   "id": "b31b11d6",
   "metadata": {},
   "source": [
    "## 046， 2240 Update string"
   ]
  },
  {
   "cell_type": "code",
   "execution_count": 29,
   "id": "f213139d",
   "metadata": {},
   "outputs": [],
   "source": [
    "def str_update(txt: str) -> str:\n",
    "    \"\"\"\n",
    "    :param txt: a input string\n",
    "    :return: a changed string\n",
    "    \"\"\"\n",
    "    # write your code here\n",
    "    return txt[7:]+' welcomes!'"
   ]
  },
  {
   "cell_type": "markdown",
   "id": "9e79ac6b",
   "metadata": {},
   "source": [
    "## 047， 2247 decision odd or even"
   ]
  },
  {
   "cell_type": "code",
   "execution_count": 30,
   "id": "5ef6dcb8",
   "metadata": {},
   "outputs": [],
   "source": [
    "def judge(num: int) -> int:\n",
    "    \"\"\"\n",
    "    :param num: a random integer input\n",
    "    :return: a integer after judgment\n",
    "    \"\"\"\n",
    "\t# -- write your code here --\n",
    "    if num % 2 == 1:\n",
    "        return num*2\n",
    "    return num"
   ]
  },
  {
   "cell_type": "markdown",
   "id": "11c80a58",
   "metadata": {},
   "source": [
    "## 048， 2250 The absolute value of an integer"
   ]
  },
  {
   "cell_type": "code",
   "execution_count": 31,
   "id": "2947c24b",
   "metadata": {},
   "outputs": [],
   "source": [
    "def abslute_value(num: int) -> int:\n",
    "    \"\"\"\n",
    "    num: a number of any\n",
    "    return: the absolute value of this number\n",
    "    \"\"\"\n",
    "    # -- write your code here --\n",
    "    return abs(num)"
   ]
  },
  {
   "cell_type": "markdown",
   "id": "bafc1750",
   "metadata": {},
   "source": [
    "## 049， 2252 Judgment Results"
   ]
  },
  {
   "cell_type": "code",
   "execution_count": 32,
   "id": "ec26cb10",
   "metadata": {},
   "outputs": [],
   "source": [
    "def mark_jud(marks: int) -> str:\n",
    "    \"\"\"\n",
    "    :param marks: The source int\n",
    "    :return: A str of grade\n",
    "    \"\"\"\n",
    "    # --write your code here--\n",
    "    if marks >= 90: return 'A'\n",
    "    elif marks >= 80: return 'B'\n",
    "    elif marks >= 70: return 'C'\n",
    "    elif marks >= 60: return 'D'\n",
    "    elif marks >= 50: return 'E'\n",
    "    else: \n",
    "        print('Maybe you should work hard')\n",
    "        return 'No grade'"
   ]
  },
  {
   "cell_type": "markdown",
   "id": "1fee3707",
   "metadata": {},
   "source": [
    "## 050， 2257 Determining whether a number is prime or not"
   ]
  },
  {
   "cell_type": "code",
   "execution_count": 33,
   "id": "6fbb0730",
   "metadata": {},
   "outputs": [],
   "source": [
    "from math import sqrt\n",
    "def prime(num: int) -> int:\n",
    "    \"\"\"\n",
    "    :param num: a random integer\n",
    "    :return: determine if the result is a prime number and return 1 otherwise other values\n",
    "    \"\"\"\n",
    "\t# write your code here\n",
    "    if num > 1:\n",
    "        for i in range(2, int(sqrt(num)+1)):\n",
    "            if num%i == 0:\n",
    "                return False\n",
    "        return True\n",
    "    else:\n",
    "        return False"
   ]
  },
  {
   "cell_type": "markdown",
   "id": "b6162a36",
   "metadata": {},
   "source": [
    "## 2258 Find the largest prime number backwards\n",
    "### Description: The main purpose of this question is that we will provide a natural number greater than 1, and then determine whether the number is a prime number, if it is a prime number, then print it directly, if it is not a prime number, look for the previous digit, then the first prime number found is the largest Prime number."
   ]
  },
  {
   "cell_type": "code",
   "execution_count": 34,
   "id": "05ddecef",
   "metadata": {},
   "outputs": [],
   "source": [
    "from math import sqrt\n",
    "def Find_prime_numbers_backwards(n:int) -> int:\n",
    "    '''\n",
    "    :param n: Natural number greater than 1\n",
    "    :return: Maximum prime number\n",
    "    '''\n",
    "    # write your code here\n",
    "    for i in range(2, int(sqrt(n)+1)):\n",
    "            if n%i == 0:\n",
    "                n = n-1\n",
    "    print(n)"
   ]
  },
  {
   "cell_type": "markdown",
   "id": "a5d8bd74",
   "metadata": {},
   "source": [
    "## 2260 List slicing with step\n",
    "### Description: Write Python code that implements a function called list_update. This function will slice the data from the 4th to the last 3 bits of the integer list, taking every 3rd one, and return the sliced array."
   ]
  },
  {
   "cell_type": "code",
   "execution_count": 41,
   "id": "188b1abf",
   "metadata": {},
   "outputs": [],
   "source": [
    "# def list_update(list_input: list[int]) -> list[int]:\n",
    "    # write your code here\n",
    "    # list_input[3:-3:3]"
   ]
  },
  {
   "cell_type": "markdown",
   "id": "b6ed95ca",
   "metadata": {},
   "source": [
    "## 2261 Delete elements in the list"
   ]
  },
  {
   "cell_type": "code",
   "execution_count": 43,
   "id": "2bb0544b",
   "metadata": {},
   "outputs": [],
   "source": [
    "def del_list_element(list_1:list) -> list:\n",
    "    '''\n",
    "    :param list_1: Input List\n",
    "    :return: The list after deleting the specified element\n",
    "    '''\n",
    "    # -- write your code here --\n",
    "    # return list_1[:3]+list_1[6:]\n",
    "    #return del list_1[4:6]"
   ]
  },
  {
   "cell_type": "markdown",
   "id": "ea476ff9",
   "metadata": {},
   "source": [
    "## 2262 Splicing and copying of lists"
   ]
  },
  {
   "cell_type": "code",
   "execution_count": 44,
   "id": "b33fa8fe",
   "metadata": {},
   "outputs": [],
   "source": [
    "def list_operation(list_1: list) -> list:\n",
    "    \"\"\"\n",
    "    :list_1: a list of any\n",
    "    :return: a list after operator operation\n",
    "    \"\"\"\n",
    "    # -- write your code here --\n",
    "    return (list_1[:2]+list_1[-2:])*2"
   ]
  },
  {
   "cell_type": "markdown",
   "id": "376f2533",
   "metadata": {},
   "source": [
    "## 2263 string splicing"
   ]
  },
  {
   "cell_type": "code",
   "execution_count": 45,
   "id": "9d569546",
   "metadata": {},
   "outputs": [],
   "source": [
    "def str_join(seq: tuple) -> tuple:\n",
    "    \"\"\"\n",
    "\n",
    "    :param seq: The source tuple\n",
    "    :return: a tuple contain two str after jion\n",
    "    \"\"\"\n",
    "    # write your code here\n",
    "    return '-'.join(seq),''.join(seq)\n",
    "    # return str_3, str_4"
   ]
  },
  {
   "cell_type": "markdown",
   "id": "d747beb6",
   "metadata": {},
   "source": [
    "## 2264 Convert upper and lower case letters in a string"
   ]
  },
  {
   "cell_type": "code",
   "execution_count": 46,
   "id": "569bd925",
   "metadata": {},
   "outputs": [],
   "source": [
    "def str_conversion(str_in: str) -> str:\n",
    "    \"\"\"\n",
    "    :param str_in: The first input str\n",
    "    :return: The new str after conversion str case\n",
    "    \"\"\"\n",
    "    # write your code here\n",
    "    return str_in.swapcase()"
   ]
  },
  {
   "cell_type": "markdown",
   "id": "a5e1a771",
   "metadata": {},
   "source": [
    "## 2265 Find the maximum and minimum values of the elements in a tuple"
   ]
  },
  {
   "cell_type": "code",
   "execution_count": 47,
   "id": "48890355",
   "metadata": {},
   "outputs": [],
   "source": [
    "def maximum_and_minimum_value_of_tuple(tuple_1: tuple) -> tuple:\n",
    "    '''\n",
    "    :param tuple_1: Input tuple\n",
    "    :return: Maximum and minimum value of tuple\n",
    "    '''\n",
    "    # -- write your code here --\n",
    "    return (max(tuple_1), min(tuple_1))"
   ]
  },
  {
   "cell_type": "markdown",
   "id": "61a0193e",
   "metadata": {},
   "source": [
    "## 2267 Find The Maximum Of Three Numbers (Python version)"
   ]
  },
  {
   "cell_type": "code",
   "execution_count": 50,
   "id": "48c15c1f",
   "metadata": {},
   "outputs": [],
   "source": [
    "import sys\n",
    "\n",
    "#a = int(sys.argv[1])\n",
    "#b = int(sys.argv[2])\n",
    "#c = int(sys.argv[3])\n",
    "# write your code here\n",
    "# you need to print the maximum\n",
    "# print(max(max(a, b), c))"
   ]
  },
  {
   "cell_type": "markdown",
   "id": "ab833de6",
   "metadata": {},
   "source": [
    "## 2269 Swap Two Integers (Python version)"
   ]
  },
  {
   "cell_type": "code",
   "execution_count": 52,
   "id": "b104dca5",
   "metadata": {},
   "outputs": [
    {
     "name": "stdout",
     "output_type": "stream",
     "text": [
      "2\n",
      "3\n",
      "a = 3, b = 2\n"
     ]
    }
   ],
   "source": [
    "# write your code here\n",
    "# read data from console\n",
    "a = int(input())\n",
    "b = int(input())\n",
    "# output the answer to the console according to the requirements of the question\n",
    "c = a\n",
    "a = b\n",
    "b = c\n",
    "print('a = %d, b = %d' % (a, b))"
   ]
  },
  {
   "cell_type": "markdown",
   "id": "6be40c3f",
   "metadata": {},
   "source": [
    "## 2271 Integer Arithmetic (Python version)"
   ]
  },
  {
   "cell_type": "code",
   "execution_count": 53,
   "id": "16d5cc23",
   "metadata": {},
   "outputs": [
    {
     "name": "stdout",
     "output_type": "stream",
     "text": [
      "1\n",
      "2\n",
      "3\n",
      "-1\n",
      "2\n",
      "0\n"
     ]
    }
   ],
   "source": [
    "# write your code here\n",
    "# read data from console\n",
    "a = int(input())\n",
    "b = int(input())\n",
    "# output the answer to the console according to the requirements of the question\n",
    "#print('%d' % (a+b))\n",
    "#print('%d' % (a-b))\n",
    "#print('%d' % (a*b))\n",
    "#print('%d' % (int(a/b)))\n",
    "print(a+b, a-b, a*b, a//b, sep='\\n')"
   ]
  },
  {
   "cell_type": "markdown",
   "id": "c4bfdc33",
   "metadata": {},
   "source": [
    "## 2273 Sequential Output (Python version)"
   ]
  },
  {
   "cell_type": "code",
   "execution_count": 54,
   "id": "c215a65f",
   "metadata": {},
   "outputs": [
    {
     "name": "stdout",
     "output_type": "stream",
     "text": [
      "2\n",
      "[0, 1]\n"
     ]
    }
   ],
   "source": [
    "# write your code here\n",
    "# read data from console\n",
    "n = int(input())\n",
    "# output the answer to the console according to the requirements of the question\n",
    "print([i for i in range(n)], sep='\\n')"
   ]
  },
  {
   "cell_type": "markdown",
   "id": "edb936db",
   "metadata": {},
   "source": [
    "## 2274 First Python Code: Print Hello World"
   ]
  },
  {
   "cell_type": "code",
   "execution_count": 55,
   "id": "336b153f",
   "metadata": {},
   "outputs": [
    {
     "name": "stdout",
     "output_type": "stream",
     "text": [
      "Hello World\n"
     ]
    }
   ],
   "source": [
    "# Your first python code\n",
    "# print Hello World to console\n",
    "print('Hello World')"
   ]
  },
  {
   "cell_type": "markdown",
   "id": "b9f4c21b",
   "metadata": {},
   "source": [
    "## 2276 Modify and delete elements in the dictionary"
   ]
  },
  {
   "cell_type": "code",
   "execution_count": 56,
   "id": "fd76eb1b",
   "metadata": {},
   "outputs": [],
   "source": [
    "def modify_and_delete_elements_in_the_dictionary(dict_1: dict) -> dict:\n",
    "    '''\n",
    "    :param dict_1: Input dictionary\n",
    "    :return: Newly generated dictionary after modification and deletion\n",
    "    '''\n",
    "    # -- write your code here --\n",
    "    dict_1['Team'] = 'Los_Angeles_Lakers'\n",
    "    return  dict_1.pop('Age')"
   ]
  },
  {
   "cell_type": "markdown",
   "id": "3bdce1fd",
   "metadata": {},
   "source": [
    "## 2277 Calculate the sum of all values in the dictionary"
   ]
  },
  {
   "cell_type": "code",
   "execution_count": 57,
   "id": "452fd441",
   "metadata": {},
   "outputs": [],
   "source": [
    "def dict_value_sum(dict_1: dict) -> dict:\n",
    "    '''\n",
    "    :param dict_1: Input dictionary\n",
    "    :return: Sum of dictionary values\n",
    "    '''\n",
    "    # -- write your code here --\n",
    "    n = 0\n",
    "    for i in dict_1:\n",
    "        n += dict_1[i]\n",
    "    return n"
   ]
  },
  {
   "cell_type": "markdown",
   "id": "59c90d29",
   "metadata": {},
   "source": [
    "## 2279 Reverse Integer Order (Python version)"
   ]
  },
  {
   "cell_type": "code",
   "execution_count": 58,
   "id": "f958820e",
   "metadata": {},
   "outputs": [
    {
     "name": "stdout",
     "output_type": "stream",
     "text": [
      "23\n",
      "32\n"
     ]
    }
   ],
   "source": [
    "# write your code here\n",
    "# read data from console\n",
    "n = int(input())\n",
    "# output the answer to the console according to the requirements of the question\n",
    "s = 0\n",
    "while n:\n",
    "\ts = s*10 + n%10\n",
    "\tn = n//10\n",
    "print(s)\n",
    "# print(int(str(n)[::-1]))"
   ]
  },
  {
   "cell_type": "markdown",
   "id": "0f435e39",
   "metadata": {},
   "source": [
    "## 2281 Merge dictionary"
   ]
  },
  {
   "cell_type": "code",
   "execution_count": 60,
   "id": "86783b16",
   "metadata": {},
   "outputs": [],
   "source": [
    "def merge(dict_1, dict_2: dict) -> dict:\n",
    "    '''\n",
    "    :param dict_1: Input dictionary one\n",
    "    :param dict_2: Input dictionary two\n",
    "    :return: Merge dictionary\n",
    "    '''\n",
    "    # -- write your code here --\n",
    "    dict_2.update(dict_1)"
   ]
  },
  {
   "cell_type": "markdown",
   "id": "423b9f7f",
   "metadata": {},
   "source": [
    "## 2282 Circular Perimeter (Python version)"
   ]
  },
  {
   "cell_type": "code",
   "execution_count": 62,
   "id": "c19e590d",
   "metadata": {},
   "outputs": [],
   "source": [
    "import sys\n",
    "import math\n",
    "# r = int(sys.argv[1])\n",
    "# write your code here\n",
    "# please print the perimeter of the circle\n",
    "# print('%.2f' % (2*math.pi*r))"
   ]
  },
  {
   "cell_type": "markdown",
   "id": "1ccb0d8c",
   "metadata": {},
   "source": [
    "## 2284 Judge The Multiple Of 3 And 5 (Python version)"
   ]
  },
  {
   "cell_type": "code",
   "execution_count": 65,
   "id": "f626b236",
   "metadata": {},
   "outputs": [],
   "source": [
    "import sys\n",
    "\n",
    "# n = int(sys.argv[1])\n",
    "# write your code here\n",
    "# print(n%15 is 0)"
   ]
  },
  {
   "cell_type": "markdown",
   "id": "5cca88fc",
   "metadata": {},
   "source": [
    "## 2286 Find the greatest common divisor (Python version)"
   ]
  },
  {
   "cell_type": "code",
   "execution_count": 67,
   "id": "365f3f1e",
   "metadata": {},
   "outputs": [],
   "source": [
    "import sys\n",
    "\n",
    "# a = int(sys.argv[1])\n",
    "# b = int(sys.argv[2])\n",
    "# write your code here\n",
    "# please print the greatest common divisor of a and b\n",
    "# i = min(a, b)\n",
    "# while a%i or b%i:\n",
    "# \ti -= 1\n",
    "# print(i)"
   ]
  },
  {
   "cell_type": "markdown",
   "id": "146e4a15",
   "metadata": {},
   "source": [
    "## 2288 ASCII Code Of The Character (Python version)"
   ]
  },
  {
   "cell_type": "code",
   "execution_count": 69,
   "id": "be0b8d2a",
   "metadata": {},
   "outputs": [
    {
     "name": "stdout",
     "output_type": "stream",
     "text": [
      "a\n",
      "97\n"
     ]
    }
   ],
   "source": [
    "# write your code here\n",
    "c = input()\n",
    "print((ord(c)))"
   ]
  },
  {
   "cell_type": "markdown",
   "id": "e3bc7bf2",
   "metadata": {},
   "source": [
    "## 2291 Splicing and copying of tuple"
   ]
  },
  {
   "cell_type": "code",
   "execution_count": 70,
   "id": "30799703",
   "metadata": {},
   "outputs": [],
   "source": [
    "def tuple_connections_repeat(tup_1: tuple, tup_2: tuple) -> None:\n",
    "    \"\"\"\n",
    "    :param tup_1: The first source tuple\n",
    "    :param tup_2: The second source tuple\n",
    "    :return: None\n",
    "    \"\"\"\n",
    "    # --write your code here--\n",
    "\n",
    "    # print tup_3, tup_4\n",
    "    tup_3 = tup_1 + tup_2\n",
    "    tup_4 = tup_2*3\n",
    "    print(tup_3, tup_4, sep='\\n')"
   ]
  },
  {
   "cell_type": "markdown",
   "id": "bce0a958",
   "metadata": {},
   "source": [
    "## 2314 List modification, addition and deletion of elements"
   ]
  },
  {
   "cell_type": "code",
   "execution_count": 71,
   "id": "df35e257",
   "metadata": {},
   "outputs": [],
   "source": [
    "def list_update_del(list_1: list) -> list:\n",
    "    \"\"\"\n",
    "    :param list_1:  the source list\n",
    "    :return: modified list_1\n",
    "    \"\"\"\n",
    "    # --write your code here--\n",
    "    list_1[2] = 1999\n",
    "    del list_1[0]\n",
    "    list_1.append('jiuzhang')\n",
    "    return list_1"
   ]
  },
  {
   "cell_type": "markdown",
   "id": "978a69db",
   "metadata": {},
   "source": [
    "## 2315 Judge the triangle (Python version)"
   ]
  },
  {
   "cell_type": "code",
   "execution_count": 72,
   "id": "12ff5cd7",
   "metadata": {},
   "outputs": [
    {
     "name": "stdout",
     "output_type": "stream",
     "text": [
      "2\n",
      "3\n",
      "4\n",
      "Is a triangle\n"
     ]
    }
   ],
   "source": [
    "# write your code here\n",
    "# read data from console\n",
    "# output the answer to the console according to the requirements of the question\n",
    "a = int(input())\n",
    "b = int(input())\n",
    "c = int(input())\n",
    "\n",
    "list_1 = [a, b, c]\n",
    "if 2*(max(list_1)) < sum(list_1):\n",
    "\tprint('Is a triangle')\n",
    "else:\n",
    "\tprint('Not a triangle')"
   ]
  },
  {
   "cell_type": "markdown",
   "id": "80135dcf",
   "metadata": {},
   "source": [
    "## 2317 Take A Square Root (Python version)"
   ]
  },
  {
   "cell_type": "code",
   "execution_count": 73,
   "id": "dabf0f19",
   "metadata": {},
   "outputs": [
    {
     "name": "stdout",
     "output_type": "stream",
     "text": [
      "4\n",
      "2.00\n"
     ]
    }
   ],
   "source": [
    "# write your code here\n",
    "# read data from console\n",
    "from math import sqrt\n",
    "# output the answer to the console according to the requirements of the question\n",
    "n = int(input())\n",
    "print('%.2f' % sqrt(n))"
   ]
  },
  {
   "cell_type": "markdown",
   "id": "7ac905c0",
   "metadata": {},
   "source": [
    "## 2319 List nesting"
   ]
  },
  {
   "cell_type": "code",
   "execution_count": 74,
   "id": "fd86b7cd",
   "metadata": {},
   "outputs": [],
   "source": [
    "def list_nesting(list_1: list, list_2: list) -> list:\n",
    "    \"\"\"\n",
    "    :param list_1: the first list\n",
    "    :param list_2: the second list\n",
    "    :return: a new list\n",
    "    \"\"\"\n",
    "    # --write your code here--\n",
    "\n",
    "    # return list_3\n",
    "    list_3 = [list_1, list_2]\n",
    "    return list_3"
   ]
  },
  {
   "cell_type": "markdown",
   "id": "53d51225",
   "metadata": {},
   "source": [
    "## 2321 Hit rate rating (Python version)"
   ]
  },
  {
   "cell_type": "code",
   "execution_count": 75,
   "id": "c05a54c1",
   "metadata": {
    "scrolled": true
   },
   "outputs": [
    {
     "name": "stdout",
     "output_type": "stream",
     "text": [
      "78\n",
      "C\n"
     ]
    }
   ],
   "source": [
    "# write your code here\n",
    "# read data from console\n",
    "n = int(input())\n",
    "# output the answer to the console according to the requirements of the question\n",
    "if n >= 90: print('A')\n",
    "elif n >= 80: print('B')\n",
    "elif n >= 70: print('C')\n",
    "elif n >= 60: print('D')\n",
    "else: print('E')"
   ]
  },
  {
   "cell_type": "markdown",
   "id": "e286cdb8",
   "metadata": {},
   "source": [
    "## 2324 Output String In Reverse Order (Python version)"
   ]
  },
  {
   "cell_type": "code",
   "execution_count": 76,
   "id": "7f9016d5",
   "metadata": {},
   "outputs": [
    {
     "name": "stdout",
     "output_type": "stream",
     "text": [
      "dsadas\n",
      "sadasd\n"
     ]
    }
   ],
   "source": [
    "# write your code here\n",
    "# read data from console\n",
    "s = input()\n",
    "# output the answer to the console according to the requirements of the question\n",
    "print(s[::-1])"
   ]
  },
  {
   "cell_type": "markdown",
   "id": "caac4a9f",
   "metadata": {},
   "source": [
    "## 2327 Finding The Distance Between Two Points In Rectangular Coordinate System (Python version)"
   ]
  },
  {
   "cell_type": "code",
   "execution_count": 77,
   "id": "7e19288e",
   "metadata": {},
   "outputs": [
    {
     "name": "stdout",
     "output_type": "stream",
     "text": [
      "3\n",
      "4\n",
      "5\n",
      "6\n",
      "2.83\n"
     ]
    }
   ],
   "source": [
    "# write your code here\n",
    "# read data from console\n",
    "x1 = int(input())\n",
    "y1 = int(input())\n",
    "x2 = int(input())\n",
    "y2 = int(input())\n",
    "# output the answer to the console according to the requirements of the question\n",
    "print('%.2f' % (((x1-x2))**2 + (y1-y2)**2)**0.5)"
   ]
  },
  {
   "cell_type": "markdown",
   "id": "eee89cef",
   "metadata": {},
   "source": [
    "## 2328 Operations between sets"
   ]
  },
  {
   "cell_type": "code",
   "execution_count": 78,
   "id": "754fcb2a",
   "metadata": {},
   "outputs": [],
   "source": [
    "def set_operations(set_1: set, set_2: set) -> set:\n",
    "    '''\n",
    "    :param set_1: Input set one\n",
    "    :param set_2: Input set two\n",
    "    :return: The result of the set operation\n",
    "    '''\n",
    "    # -- write your code here --\n",
    "    print('Intersection: %d' % (set_1&set_2))\n",
    "    print('Union: %d' % (set_1|set_2))\n",
    "    print('Difference: %d' % (set_1-set_2))\n",
    "    print('Symmetric Difference: %d' % (set_1^set_2))"
   ]
  },
  {
   "cell_type": "markdown",
   "id": "1e02c233",
   "metadata": {},
   "source": [
    "## 2330 Calculate the time after x seconds"
   ]
  },
  {
   "cell_type": "code",
   "execution_count": 79,
   "id": "09e91007",
   "metadata": {},
   "outputs": [
    {
     "name": "stdout",
     "output_type": "stream",
     "text": [
      "23:45:34\n",
      "79\n",
      "23:46:53\n"
     ]
    }
   ],
   "source": [
    "# write your code here\n",
    "# read data from console\n",
    "\n",
    "# output the answer to the console according to the requirements of the question\n",
    "s = input().replace('\\r', '').split(':')\n",
    "x = int(input())\n",
    "\n",
    "a = []\n",
    "for i in s:\n",
    "\ta.append(int(i))\n",
    "b = a[0]*60**2+a[1]*60+a[2]+x\n",
    "h = b//3600\n",
    "if h > 24:\n",
    "\th = h%24\n",
    "m = b%3600//60\n",
    "s = b%3600%60\n",
    "print('%02d:%02d:%02d' % (h, m, s))"
   ]
  },
  {
   "cell_type": "markdown",
   "id": "f5711d64",
   "metadata": {},
   "source": [
    "## 2331 Find the length, maximum value and minimum value of list"
   ]
  },
  {
   "cell_type": "code",
   "execution_count": 80,
   "id": "c82269a7",
   "metadata": {},
   "outputs": [],
   "source": [
    "def list_max_min_len(list_1: list) -> tuple:\n",
    "    \"\"\"\n",
    "    :param list_1: the source list\n",
    "    :return: return the length, mdef list_max_min_len(list_1: list) -> tuple:\n",
    "    \"\"\"\n",
    "    # --write your code here--\n",
    "    return(len(list_1), max(list_1), min(list_1))"
   ]
  },
  {
   "cell_type": "markdown",
   "id": "021f4a39",
   "metadata": {},
   "source": [
    "## 2332 Calculate Factorial (Python Edition)"
   ]
  },
  {
   "cell_type": "code",
   "execution_count": 81,
   "id": "1080c5b8",
   "metadata": {},
   "outputs": [
    {
     "name": "stdout",
     "output_type": "stream",
     "text": [
      "3\n",
      "6\n"
     ]
    }
   ],
   "source": [
    "# write your code here\n",
    "# read data from console\n",
    "n = int(input())\n",
    "# output the answer to the console according to the\n",
    "# requirements of the question\n",
    "a = 1\n",
    "for i in range(2,n+1):\n",
    "\ta = a*i\n",
    "print(a)"
   ]
  },
  {
   "cell_type": "markdown",
   "id": "51a60ef7",
   "metadata": {},
   "source": [
    "## 2937 The rightmost 1 of a binary number"
   ]
  },
  {
   "cell_type": "code",
   "execution_count": 82,
   "id": "af22a17e",
   "metadata": {},
   "outputs": [
    {
     "name": "stdout",
     "output_type": "stream",
     "text": [
      "6\n",
      "2\n"
     ]
    }
   ],
   "source": [
    "# Get the number a\n",
    "num_1 = int(input())\n",
    "# Please write your code here\n",
    "print(num_1 & (-num_1))"
   ]
  },
  {
   "cell_type": "markdown",
   "id": "16dc93a6",
   "metadata": {},
   "source": [
    "## 2333 Print matrix (Python version)"
   ]
  },
  {
   "cell_type": "code",
   "execution_count": 88,
   "id": "af52fd1c",
   "metadata": {},
   "outputs": [
    {
     "name": "stdout",
     "output_type": "stream",
     "text": [
      "3\n",
      "1 2 3\n",
      "4 5 6\n",
      "7 8 9\n"
     ]
    }
   ],
   "source": [
    "# write your code here\n",
    "# read data from console\n",
    "n = int(input())\n",
    "# output the answer to the console according to the requirements of the question\n",
    "l = []\n",
    "for i in range(1, n**2+1):\n",
    "    if i%n != 0:\n",
    "        print(i, end=' ')\n",
    "    else:\n",
    "        print(i)"
   ]
  },
  {
   "cell_type": "markdown",
   "id": "4a46b778",
   "metadata": {},
   "source": [
    "## 2335 Find all the daffodils (Python version)"
   ]
  },
  {
   "cell_type": "code",
   "execution_count": 89,
   "id": "8f65231c",
   "metadata": {},
   "outputs": [
    {
     "name": "stdout",
     "output_type": "stream",
     "text": [
      "153\n",
      "370\n",
      "371\n",
      "407\n"
     ]
    }
   ],
   "source": [
    "# write your code here\n",
    "# output the answer to the console according to the requirements of the question\n",
    "for i in range(100, 1000):\n",
    "    i = str(i)\n",
    "    if sum([int(j)**3 for j in i]) == int(i):\n",
    "        print(i)"
   ]
  },
  {
   "cell_type": "markdown",
   "id": "74368dba",
   "metadata": {},
   "source": [
    "## 2337 Set containment"
   ]
  },
  {
   "cell_type": "code",
   "execution_count": 90,
   "id": "187af148",
   "metadata": {},
   "outputs": [],
   "source": [
    "def set_containment(set_1: set, set_2: set) -> None:\n",
    "    '''\n",
    "    :param set_1: Input set_1\n",
    "    :param set_2: Input set_2\n",
    "    :return: None\n",
    "    '''\n",
    "    # -- write your code here --\n",
    "    # print(len(set_2-set_1)==0)\n",
    "    # print(len(set_1-set_2)==0)\n",
    "    # print(len(set_1&set_2)==0)\n",
    "\n",
    "    a = set_2.issubset(set_1)\n",
    "    b = set_1.issubset(set_2)\n",
    "    c = set_1.isdisjoint(set_2)\n",
    "    print(a, b, c, sep='\\n')"
   ]
  },
  {
   "cell_type": "markdown",
   "id": "fd8f1e7c",
   "metadata": {},
   "source": [
    "## 2340 Count the number of lowercase letters (Python version)"
   ]
  },
  {
   "cell_type": "code",
   "execution_count": 91,
   "id": "e01253b4",
   "metadata": {},
   "outputs": [
    {
     "name": "stdout",
     "output_type": "stream",
     "text": [
      "asda\n",
      "4\n"
     ]
    }
   ],
   "source": [
    "# write your code here\n",
    "# read data from console\n",
    "s = input()\n",
    "# output the answer to the console according to the requirements of the question\n",
    "count =0\n",
    "for ss in s:\n",
    "    if ss.islower():\n",
    "        count+=1\n",
    "print(count)"
   ]
  },
  {
   "cell_type": "markdown",
   "id": "9b9e993b",
   "metadata": {},
   "source": [
    "## 2342 The sum of the main diagonal elements (Python version)"
   ]
  },
  {
   "cell_type": "code",
   "execution_count": 92,
   "id": "18586aac",
   "metadata": {},
   "outputs": [
    {
     "name": "stdout",
     "output_type": "stream",
     "text": [
      "1\n",
      "3\n",
      "3\n"
     ]
    }
   ],
   "source": [
    "# write your code here\n",
    "# read data from console\n",
    "n = int(input())\n",
    "# output the answer to the console according to the requirements of the question\n",
    "s = 0\n",
    "if n == 1:\n",
    "    print(input())\n",
    "else:\n",
    "    for i in range(n):\n",
    "        nums = input()\n",
    "        nums = nums.split(\" \")\n",
    "        s += int(nums[i])\n",
    "    print(s)"
   ]
  },
  {
   "cell_type": "markdown",
   "id": "8196ef06",
   "metadata": {},
   "source": [
    "## 2343 Judge Whether It Is A Complete Number (Python version)"
   ]
  },
  {
   "cell_type": "code",
   "execution_count": 95,
   "id": "7dc168c0",
   "metadata": {},
   "outputs": [
    {
     "name": "stdout",
     "output_type": "stream",
     "text": [
      "23\n",
      "not perfect number\n"
     ]
    }
   ],
   "source": [
    "# write your code here\n",
    "# read data from console\n",
    "n = int(input())\n",
    "# output the answer to the console according to the requirements of the question\n",
    "list_1 = []\n",
    "for i in range(1, n):\n",
    "    if n%i == 0:\n",
    "        list_1.append(i)\n",
    "if sum(list_1)==n:\n",
    "    print('is perfect number')\n",
    "else:\n",
    "    print('not perfect number')"
   ]
  },
  {
   "cell_type": "markdown",
   "id": "2301a81d",
   "metadata": {},
   "source": [
    "## 2345 Movement distance calculation (Python version)"
   ]
  },
  {
   "cell_type": "code",
   "execution_count": null,
   "id": "d4ae7e9c",
   "metadata": {},
   "outputs": [],
   "source": [
    "# write your code here\n",
    "# read data from console\n",
    "n = int(input())\n",
    "# output the answer to the console according to the requirements of the question\n",
    "res = 100\n",
    "first = 100\n",
    "for i in range(1, n):\n",
    "    res += first\n",
    "    first /= 2\n",
    "print('%.2f' % sum)"
   ]
  },
  {
   "cell_type": "markdown",
   "id": "00e829ac",
   "metadata": {},
   "source": [
    "## 2350 Judging Leap Year (Python version)"
   ]
  },
  {
   "cell_type": "code",
   "execution_count": null,
   "id": "a771cee2",
   "metadata": {},
   "outputs": [],
   "source": [
    "# write your code here\n",
    "# read data from console\n",
    "n = int(input())\n",
    "# output the answer to the console according to the requirements of the question\n",
    "if(n%4==0 and n%100!=0 or n%400==0):\n",
    "    print('is a leap year')\n",
    "else:\n",
    "    print('not a leap year')"
   ]
  },
  {
   "cell_type": "markdown",
   "id": "498535df",
   "metadata": {},
   "source": [
    "## 2351 Splicing Two Strings (Python version)"
   ]
  },
  {
   "cell_type": "code",
   "execution_count": null,
   "id": "2e3f2be8",
   "metadata": {},
   "outputs": [],
   "source": [
    "# write your code here\n",
    "# read data from console\n",
    "s1 = input()\n",
    "s2 = input()\n",
    "# output the answer to the console according to the requirements of the question\n",
    "print(s1+s2)"
   ]
  },
  {
   "cell_type": "markdown",
   "id": "2207086b",
   "metadata": {},
   "source": [
    "## 2353 Generate a dictionary of perfect squares"
   ]
  },
  {
   "cell_type": "code",
   "execution_count": null,
   "id": "c1d99168",
   "metadata": {},
   "outputs": [],
   "source": [
    "def square_of_value(int_1: int) -> dict:\n",
    "    '''\n",
    "    :param int_1: Input value\n",
    "    :return: The square of the value corresponding to each key in the dictionary\n",
    "    '''\n",
    "    # -- write your code here --\n",
    "    dict = {}\n",
    "    for i in range(1, int_1 +1):\n",
    "        dict[i] = i**2\n",
    "    return dict"
   ]
  },
  {
   "cell_type": "markdown",
   "id": "d2724635",
   "metadata": {},
   "source": [
    "## 2355 Odd Sum And Even Sum (Python Edition)"
   ]
  },
  {
   "cell_type": "code",
   "execution_count": null,
   "id": "257fd0ea",
   "metadata": {},
   "outputs": [],
   "source": [
    "# write your code here\n",
    "# read data from console\n",
    "n = int(input())\n",
    "# output the answer to the console according to the requirements of the question\n",
    "even = 0\n",
    "odd = 0\n",
    "for i in range(1, n+1):\n",
    "    if i%2 == 0: \n",
    "        even += i \n",
    "    else:\n",
    "        odd += i\n",
    "print(odd, even, sep='\\n')"
   ]
  },
  {
   "cell_type": "markdown",
   "id": "5a629a1e",
   "metadata": {},
   "source": [
    "## 2356 Print nine-nine multiplication table (Python version)"
   ]
  },
  {
   "cell_type": "code",
   "execution_count": null,
   "id": "fc43c81f",
   "metadata": {},
   "outputs": [],
   "source": [
    "# write your code here\n",
    "# output the answer to the console according to the requirements of the question\n",
    "for i in range(1, 10):\n",
    "    for j in range(1, i+1):\n",
    "        print('%d*%d=%d' % (j, i, i*j), end=' ' if j<i else '\\n')"
   ]
  },
  {
   "cell_type": "markdown",
   "id": "d96623cd",
   "metadata": {},
   "source": [
    "## 2357 Exchange within an array (Python version)"
   ]
  },
  {
   "cell_type": "code",
   "execution_count": null,
   "id": "638ca3bf",
   "metadata": {},
   "outputs": [],
   "source": [
    "# write your code here\n",
    "# read data from console\n",
    "s = eval(input())\n",
    "# output the answer to the console according to the requirements of the question\n",
    "s[0],s[-1] = s[-1], s[0]\n",
    "print(s)"
   ]
  },
  {
   "cell_type": "markdown",
   "id": "f1efb645",
   "metadata": {},
   "source": [
    "## 2362 Count the number of elements consisting of pure numbers and pure letters from the specified list separately"
   ]
  },
  {
   "cell_type": "code",
   "execution_count": null,
   "id": "2ef2f3b6",
   "metadata": {},
   "outputs": [],
   "source": [
    "def count_numbers(list_in: list) -> dict:\n",
    "    \"\"\"\n",
    "    :param list_in: The list of first input Parameter\n",
    "    :return: A dict contain isdigit num and isalpha num\n",
    "    \"\"\"\n",
    "    # write your code here\n",
    "    d, a = 0, 0\n",
    "    for i in list_in:\n",
    "        if i.isdigit():\n",
    "            d += 1\n",
    "        elif i.isalpha():\n",
    "            a+=1\n",
    "    return {'Digits num': d, 'Alphas num': a}"
   ]
  },
  {
   "cell_type": "markdown",
   "id": "e5d3301b",
   "metadata": {},
   "source": [
    "## 2364 Output the nth prime number"
   ]
  },
  {
   "cell_type": "code",
   "execution_count": null,
   "id": "2899b67a",
   "metadata": {},
   "outputs": [],
   "source": [
    "# write your code here\n",
    "# read data from console\n",
    "n = int(input())\n",
    "# output the answer to the console according to the requirements of the question\n",
    "i = 2\n",
    "while True:\n",
    "    for j in range(2, int(i**0.5+1)):\n",
    "        if i%j == 0:\n",
    "            n += 1\n",
    "            break;\n",
    "    n-=1\n",
    "    if n==0:\n",
    "        print(i)\n",
    "        break;\n",
    "    i+=1"
   ]
  },
  {
   "cell_type": "markdown",
   "id": "b3e1135c",
   "metadata": {},
   "source": [
    "## 2365 Calculate the sum of the array (Python version)"
   ]
  },
  {
   "cell_type": "code",
   "execution_count": null,
   "id": "15f17a90",
   "metadata": {},
   "outputs": [],
   "source": [
    "# write your code here\n",
    "# read data from console\n",
    "n = int(input())\n",
    "# output the answer to the console according to the requirements of the question\n",
    "if n != 0:\n",
    "    list_1 = input().split()\n",
    "    print([int(list_1[i]) for i in range(n)])\n",
    "else:\n",
    "    print(0)"
   ]
  },
  {
   "cell_type": "markdown",
   "id": "5d88ecd5",
   "metadata": {},
   "source": [
    "## 2370 Dictionary key value swap"
   ]
  },
  {
   "cell_type": "code",
   "execution_count": null,
   "id": "c4f68579",
   "metadata": {},
   "outputs": [],
   "source": [
    "def reversal(src: dict[str:str]) -> dict[str:str]:\n",
    "    \"\"\"\n",
    "    :param src: Original dictionary\n",
    "    :return: Return a reversed dictionary\n",
    "    \"\"\"\n",
    "    # -- write your code here --\n",
    "    return {value:key for key, value in src.items()}"
   ]
  },
  {
   "cell_type": "markdown",
   "id": "0c69a618",
   "metadata": {},
   "source": [
    "## 2371 Converts a specified temperature from Fahrenheit to Celsius"
   ]
  },
  {
   "cell_type": "code",
   "execution_count": null,
   "id": "c8d5af8e",
   "metadata": {},
   "outputs": [],
   "source": [
    "def temperature_conversion(float_in: float) -> float:\n",
    "    \"\"\"\n",
    "    :param float_in: The float of first input Parameter about temperature\n",
    "    :return: A new float after Fahrenheit to Celsius about temperature\n",
    "    \"\"\"\n",
    "    # write your code here\n",
    "    return ('%.1f' % ((float_in-32)/1.8))"
   ]
  },
  {
   "cell_type": "markdown",
   "id": "21f7f5da",
   "metadata": {},
   "source": [
    "## 2372 break Out Of Loop (Python version)"
   ]
  },
  {
   "cell_type": "code",
   "execution_count": null,
   "id": "7edc6d0d",
   "metadata": {},
   "outputs": [],
   "source": [
    "n = int(input())\n",
    "m = int(input())\n",
    "\n",
    "for i in range(1, n):\n",
    "    # write your code here\n",
    "    # you need to break when i is equal to m\n",
    "    # output the answer to the console according to \n",
    "    # the requirements of the question\n",
    "    print(i)\n",
    "    if i == m:\n",
    "        break"
   ]
  },
  {
   "cell_type": "markdown",
   "id": "d66747c0",
   "metadata": {},
   "source": [
    "## 2379 Connect list elements (Python version)"
   ]
  },
  {
   "cell_type": "code",
   "execution_count": null,
   "id": "58b45a83",
   "metadata": {},
   "outputs": [],
   "source": [
    "# write your code here\n",
    "# read data from console\n",
    "n = int(input())\n",
    "l = input().split(' ')\n",
    "# output the answer to the console according to the requirements of the question\n",
    "print('-'.join(l))"
   ]
  },
  {
   "cell_type": "markdown",
   "id": "9b0b977c",
   "metadata": {},
   "source": [
    "## 2382 Can drink at most a few bottles of wine (Python version)"
   ]
  },
  {
   "cell_type": "code",
   "execution_count": null,
   "id": "72b0f084",
   "metadata": {},
   "outputs": [],
   "source": [
    "# write your code here\n",
    "# read data from console\n",
    "n = int(input())\n",
    "# output the answer to the console according to the requirements of the question\n",
    "count = 0\n",
    "for i in range(1, n+1):\n",
    "\tif i%5 == 0:\n",
    "\t\tcount+=1\n",
    "\t\tif count % 5 == 0:\n",
    "\t\t\tcount+=1\n",
    "print(count)"
   ]
  },
  {
   "cell_type": "markdown",
   "id": "b5933fcb",
   "metadata": {},
   "source": [
    "## 2383 Headerised strings"
   ]
  },
  {
   "cell_type": "code",
   "execution_count": null,
   "id": "8944c8ab",
   "metadata": {},
   "outputs": [],
   "source": [
    "def title_str(str_in: str) -> str:\n",
    "    \"\"\"\n",
    "    :param str_in: The first input parameter is a string\n",
    "    :return: A new string after the str_in be titled\n",
    "    \"\"\"\n",
    "    # write your code here\n",
    "    str_1 = str_in.split(' ')\n",
    "    str_list = (' '.join([s[0].upper()+s[1:] for s in str_1])).split('-')\n",
    "    return ('-'.join(ss[0].upper()+ss[1:] for ss in str_list))"
   ]
  },
  {
   "cell_type": "markdown",
   "id": "a27ffb48",
   "metadata": {},
   "source": [
    "## 2385 Find a To The Power Of b (Python version)"
   ]
  },
  {
   "cell_type": "code",
   "execution_count": null,
   "id": "02173fdc",
   "metadata": {},
   "outputs": [],
   "source": [
    "# write your code here\n",
    "# read data from console\n",
    "a = int(input())\n",
    "b = int(input())\n",
    "# output the answer to the console according to the requirements of the question\n",
    "print(a**b)"
   ]
  },
  {
   "cell_type": "markdown",
   "id": "e0628af6",
   "metadata": {},
   "source": [
    "## 2387 Find the most expensive item"
   ]
  },
  {
   "cell_type": "code",
   "execution_count": null,
   "id": "2fd3c557",
   "metadata": {},
   "outputs": [],
   "source": [
    "def search(src: list) -> str:\n",
    "    \"\"\"\n",
    "    :param src: The list of goods, each element is a dictionary\n",
    "    :return: The name of the most expensive item\n",
    "    \"\"\"\n",
    "    # -- write your code here --\n",
    "    res = 'None'\n",
    "    for i in range(1, len(src)):\n",
    "        if src[i]['price'] > src[i-1]['price']:\n",
    "            res = src[i]['name']\n",
    "    return res"
   ]
  },
  {
   "cell_type": "markdown",
   "id": "0236d758",
   "metadata": {},
   "source": [
    "## 2390 Complete the string determination as required"
   ]
  },
  {
   "cell_type": "code",
   "execution_count": null,
   "id": "8672618c",
   "metadata": {},
   "outputs": [],
   "source": [
    "def check_string(str_in: str) -> None:\n",
    "    \"\"\"\n",
    "    :param str_in: The first input parameter is a string\n",
    "    :return: None\n",
    "    \"\"\"\n",
    "    # write your code here\n",
    "    print('str_in starts with Nobody' if str_in[:6] == 'Nobody' else 'str_in does not start with Nobody')\n",
    "    print('str_in starts with a subscript of 13 and begin with' if str_in[13:17] == 'with' else 'str_in starts with a subscript of 13 and does not begin with with')\n",
    "    print('str_in subscript from 23 to 29 in a character fragment that start with people' if str_in[23:29] == 'people' else 'str_in subscript from 23 to 29 in a character fragment that does not start with people')"
   ]
  },
  {
   "cell_type": "markdown",
   "id": "8dec1085",
   "metadata": {},
   "source": [
    "## 2392 Iterate over the key-value pairs in the print dictionary"
   ]
  },
  {
   "cell_type": "code",
   "execution_count": null,
   "id": "153e69f1",
   "metadata": {},
   "outputs": [],
   "source": [
    "def access_dict(dict_in: dict) -> None:\n",
    "    \"\"\"\n",
    "    :param dict_in: The first input dict\n",
    "    :return: None\n",
    "    \"\"\"\n",
    "    # write your code here\n",
    "    for key, value in dict_in.items():\n",
    "        print('%s: %s' % (key, value))\n",
    "    return"
   ]
  },
  {
   "cell_type": "markdown",
   "id": "4919bd4d",
   "metadata": {},
   "source": [
    "## 2395 Count the number of occurrences of a string"
   ]
  },
  {
   "cell_type": "code",
   "execution_count": null,
   "id": "bc0e92ab",
   "metadata": {},
   "outputs": [],
   "source": [
    "def count_string(str_1: str) -> tuple:\n",
    "    '''\n",
    "    :param str_1: Input string\n",
    "    :return: Count the number of occurrences of a string\n",
    "    '''\n",
    "    # -- write your code here --\n",
    "    return(str_1.count('a'), str_1.count('going', 0, 40))"
   ]
  },
  {
   "cell_type": "markdown",
   "id": "f113f6a0",
   "metadata": {},
   "source": [
    "## 2401 Letter transformation (Python version)"
   ]
  },
  {
   "cell_type": "code",
   "execution_count": null,
   "id": "f08a2785",
   "metadata": {},
   "outputs": [],
   "source": [
    "# write your code here\n",
    "# read data from console\n",
    "s = input()\n",
    "# output the answer to the console according to the requirements of the question\n",
    "res = ''\n",
    "for i in range(len(s)):\n",
    "\tidx = ord(s[i]) - ord('A') + 1\n",
    "\tres += chr(26 - idx + ord('A'))\n",
    "print(res)"
   ]
  },
  {
   "cell_type": "markdown",
   "id": "ddbb74ef",
   "metadata": {},
   "source": [
    "## 2405 String replacement"
   ]
  },
  {
   "cell_type": "code",
   "execution_count": null,
   "id": "94f9eb81",
   "metadata": {},
   "outputs": [],
   "source": [
    "def replace_string(str_1: str, str_2: str) -> None:\n",
    "    '''\n",
    "    :param str_1: Input string\n",
    "    :param str_2: Input string\n",
    "    :return: None\n",
    "    '''\n",
    "    # -- write your code here --\n",
    "    print(str_1.replace('*', 'career'))\n",
    "    print((str_2.replace('*', 'career', 1)))"
   ]
  },
  {
   "cell_type": "markdown",
   "id": "08d1ff16",
   "metadata": {},
   "source": [
    "## 2407 Calculate the value of a + aa + aaa + aaaa"
   ]
  },
  {
   "cell_type": "code",
   "execution_count": null,
   "id": "5a0aab99",
   "metadata": {},
   "outputs": [],
   "source": [
    "def calculate_sum(int_1: int) -> None:\n",
    "    \"\"\"\n",
    "    :param int_1: Input number\n",
    "    :return: None\n",
    "    \"\"\"\n",
    "    # -- write your code here --\n",
    "    num = int_1\n",
    "    num_1 = int_1\n",
    "    for i in range(3):\n",
    "        num_1 = num_1*10+int_1\n",
    "        num = num+num_1\n",
    "    print(num)"
   ]
  },
  {
   "cell_type": "markdown",
   "id": "4bb30cb2",
   "metadata": {},
   "source": [
    "## 2409 Create a dictionary with the specified sequence and values"
   ]
  },
  {
   "cell_type": "code",
   "execution_count": null,
   "id": "93daff29",
   "metadata": {},
   "outputs": [],
   "source": [
    "def create_dict(seq_keys: tuple, default_score: int) -> dict:\n",
    "    \"\"\"\n",
    "    :param seq_keys: The tuple sequence of strings\n",
    "    :param default_score: The second input parameters\n",
    "    :return: A new dict be created by two parameters\n",
    "    \"\"\"\n",
    "    # write your code here\n",
    "    return {i:default_score for i in seq_keys}"
   ]
  },
  {
   "cell_type": "markdown",
   "id": "f56afabd",
   "metadata": {},
   "source": [
    "## 2410 Delete the last key-value pair of the dictionary"
   ]
  },
  {
   "cell_type": "code",
   "execution_count": null,
   "id": "abcea05c",
   "metadata": {},
   "outputs": [],
   "source": [
    "def popitem_func(dict_in: dict) -> dict:\n",
    "    \"\"\"\n",
    "    :param dict_in: The first input dict\n",
    "    :return: A dict after randomly delete the last key-value pair\n",
    "    \"\"\"\n",
    "    # write your code here\n",
    "    dict_in.popitem()\n",
    "    return dict_in"
   ]
  },
  {
   "cell_type": "markdown",
   "id": "b1900193",
   "metadata": {},
   "source": [
    "## 2412 continue To Continue The Loop (Python version)"
   ]
  },
  {
   "cell_type": "code",
   "execution_count": null,
   "id": "6e69daff",
   "metadata": {},
   "outputs": [],
   "source": [
    "# write your code here\n",
    "# read data from console\n",
    "n = int(input())\n",
    "# output the answer to the console according to the requirements of the question\n",
    "list_1 = [str(i) for i in range(n+1) if i%3!= 0]\n",
    "print('\\n'.join(list_1))"
   ]
  },
  {
   "cell_type": "markdown",
   "id": "9f4b4100",
   "metadata": {},
   "source": [
    "## 2414 Print prime numbers (Python version)"
   ]
  },
  {
   "cell_type": "code",
   "execution_count": null,
   "id": "ecb37675",
   "metadata": {},
   "outputs": [],
   "source": [
    "# write your code here\n",
    "# read data from console\n",
    "n = int(input())\n",
    "# output the answer to the console according to the requirements of the question\n",
    "for i in range(2, n+1):\n",
    "\tss = 1\n",
    "\tfor j in range(2, int(i**0.5+1)):\n",
    "\t\tif i%j == 0:\n",
    "\t\t\tss = 0\n",
    "\t\t\tbreak\n",
    "\tif ss == 1:\n",
    "\t\tprint(i)"
   ]
  },
  {
   "cell_type": "markdown",
   "id": "20c2b27f",
   "metadata": {},
   "source": [
    "## 2418 Bit arithmetic shift left by three bits (Python version)"
   ]
  },
  {
   "cell_type": "code",
   "execution_count": null,
   "id": "241eeee4",
   "metadata": {},
   "outputs": [],
   "source": [
    "# write your code here\n",
    "# read data from console\n",
    "n = int(input())\n",
    "# output the answer to the console according to the requirements of the question\n",
    "print(n<<3)"
   ]
  },
  {
   "cell_type": "markdown",
   "id": "21498f33",
   "metadata": {},
   "source": [
    "## 2420 Looking for missing numbers (Python version)"
   ]
  },
  {
   "cell_type": "code",
   "execution_count": null,
   "id": "a093ab68",
   "metadata": {},
   "outputs": [],
   "source": [
    "# write your code here\n",
    "# read data from console\n",
    "n = int(input())\n",
    "list_1 = input().split()\n",
    "# output the answer to the console according to the requirements of the question\n",
    "for i in range(1, n+1):\n",
    "\tif str(i) not in list_1:\n",
    "\t\tprint(i)"
   ]
  },
  {
   "cell_type": "markdown",
   "id": "1c731961",
   "metadata": {},
   "source": [
    "## 2511 Code constructor to initialize student class instance"
   ]
  },
  {
   "cell_type": "code",
   "execution_count": null,
   "id": "ece61029",
   "metadata": {},
   "outputs": [],
   "source": [
    "# -- write your code here --\n",
    "class Student:\n",
    "    count = 0\n",
    "\n",
    "    def __init__(self, name):\n",
    "        # write your code to initialize a student\n",
    "        # -- write your code here --\n",
    "        self.name = name\n",
    "        Student.count+=1\n",
    "\n",
    "    def speaking(self):\n",
    "        # print something like `Hello, My name is John , there are 1 students in total!`\n",
    "        # -- write your code here --\n",
    "        print('Hello, My name is ' + self.name +' , there are ' + str(Student.count) + ' students in total!')"
   ]
  },
  {
   "cell_type": "markdown",
   "id": "353de613",
   "metadata": {},
   "source": [
    "## 2908 Replace Kth string"
   ]
  },
  {
   "cell_type": "code",
   "execution_count": null,
   "id": "29892ad9",
   "metadata": {},
   "outputs": [],
   "source": [
    "def change_str(txt, k, s) -> str:\n",
    "    # write your code here\n",
    "    return txt[:k] + s + txt[k+1:]"
   ]
  },
  {
   "cell_type": "markdown",
   "id": "cb6f38fa",
   "metadata": {},
   "source": [
    "## 2917 [Exercise] Logical operations between two variables"
   ]
  },
  {
   "cell_type": "code",
   "execution_count": null,
   "id": "e1376e68",
   "metadata": {},
   "outputs": [],
   "source": [
    "# read data from console\n",
    "a = eval(input())\n",
    "b = eval(input())\n",
    "# write your code here\n",
    "print(a and b)\n",
    "print(a or b)\n",
    "print(not a)\n",
    "print(not b)"
   ]
  },
  {
   "cell_type": "markdown",
   "id": "822e0d12",
   "metadata": {},
   "source": [
    "## 2919 Integer Operations 2"
   ]
  },
  {
   "cell_type": "code",
   "execution_count": null,
   "id": "4a6a63dc",
   "metadata": {},
   "outputs": [],
   "source": [
    "# write your code here\n",
    "# read data from console\n",
    "a = int(input())\n",
    "b = int(input())\n",
    "# output the answer to the console according to the requirements of the question\n",
    "print(a%b)\n",
    "print(a**b)\n",
    "print(a//b)"
   ]
  },
  {
   "cell_type": "markdown",
   "id": "8650b5f9",
   "metadata": {},
   "source": [
    "## 2920 Get the input data and print it"
   ]
  },
  {
   "cell_type": "code",
   "execution_count": null,
   "id": "b65e5ad0",
   "metadata": {},
   "outputs": [],
   "source": [
    "# Please write your code here\n",
    "s = input()\n",
    "print(s)"
   ]
  },
  {
   "cell_type": "markdown",
   "id": "5ca71ce3",
   "metadata": {},
   "source": [
    "## 2923 Define a list"
   ]
  },
  {
   "cell_type": "code",
   "execution_count": null,
   "id": "d583a179",
   "metadata": {},
   "outputs": [],
   "source": [
    "# read data from console\n",
    "str_1 = str(input())\n",
    "num_1 = int(input())\n",
    "# Please print the list of definitions\n",
    "print([str_1, num_1])"
   ]
  },
  {
   "cell_type": "markdown",
   "id": "123519a1",
   "metadata": {},
   "source": [
    "## 2924 Define strings and numbers and print them"
   ]
  },
  {
   "cell_type": "code",
   "execution_count": null,
   "id": "c823278d",
   "metadata": {},
   "outputs": [],
   "source": [
    "# Please write your code here\n",
    "s = 'Hello world'\n",
    "n = 1\n",
    "print(type(s))\n",
    "print(type(n))\n",
    "print(s)\n",
    "print(n)"
   ]
  },
  {
   "cell_type": "markdown",
   "id": "711bd586",
   "metadata": {},
   "source": [
    "## 2925 Define a tuple"
   ]
  },
  {
   "cell_type": "code",
   "execution_count": null,
   "id": "6a58e166",
   "metadata": {},
   "outputs": [],
   "source": [
    "# read data from console\n",
    "num_1 = int(input())\n",
    "num_2 = eval(input())\n",
    "# Please print the list of definitions\n",
    "t = (num_1, num_2)\n",
    "print(t)\n",
    "print((type(t)))"
   ]
  },
  {
   "cell_type": "markdown",
   "id": "4b8882c1",
   "metadata": {},
   "source": [
    "## 2926 Retrieve the month in the date string and add one（I）"
   ]
  },
  {
   "cell_type": "code",
   "execution_count": null,
   "id": "841eb2b1",
   "metadata": {},
   "outputs": [],
   "source": [
    "# read data from console\n",
    "date_time = str(input())\n",
    "# Please write your code here\n",
    "month = int(date_time[4:6])+1\n",
    "print(date_time[:4]+str(month)+date_time[6:])"
   ]
  },
  {
   "cell_type": "markdown",
   "id": "5a183539",
   "metadata": {},
   "source": [
    "## 2927 Number Classification"
   ]
  },
  {
   "cell_type": "code",
   "execution_count": null,
   "id": "322f5153",
   "metadata": {},
   "outputs": [],
   "source": [
    "# Get the array\n",
    "num_1 = int(input())\n",
    "num_2 = int(input())\n",
    "arr = eval(input())\n",
    "# please write your code here\n",
    "arr1 = []\n",
    "arr2 = []\n",
    "arr1 = [i if i %num_1 == 0 else 0 for i in arr]\n",
    "arr2 = [i if i %num_2 == 0 else 0 for i in arr]\n",
    "\n",
    "print([arr1, arr2])"
   ]
  },
  {
   "cell_type": "markdown",
   "id": "54ceff86",
   "metadata": {},
   "source": [
    "## 2928 Finding Common Multiples"
   ]
  },
  {
   "cell_type": "code",
   "execution_count": null,
   "id": "fac9473b",
   "metadata": {},
   "outputs": [],
   "source": [
    "# Get the array\n",
    "num_1 = int(input())\n",
    "num_2 = int(input())\n",
    "list_1 = eval(input())\n",
    "# please write your code here\n",
    "print([s if s%num_1 == 0 and s%num_2 == 0 else 0 for s in list_1])"
   ]
  },
  {
   "cell_type": "markdown",
   "id": "0d1831af",
   "metadata": {},
   "source": [
    "## 2929 Find the most expensive items (list version)"
   ]
  },
  {
   "cell_type": "code",
   "execution_count": null,
   "id": "838c100b",
   "metadata": {},
   "outputs": [],
   "source": [
    "def get_goods(goods: list) -> str:\n",
    "    # Please write your code here\n",
    "    m = 0\n",
    "    for i in goods:\n",
    "        if i[1] > m:\n",
    "            m = i[1]\n",
    "            res = i[0]\n",
    "    return res"
   ]
  },
  {
   "cell_type": "markdown",
   "id": "15852663",
   "metadata": {},
   "source": [
    "## 2930 Writing a list to a file"
   ]
  },
  {
   "cell_type": "code",
   "execution_count": null,
   "id": "5bb79c7f",
   "metadata": {},
   "outputs": [],
   "source": [
    "def write_list(path: str, list_1: list):\n",
    "    # Please write your code\n",
    "    with open(path, 'w') as f:\n",
    "        s = ' '.join(str(i) for i in list_1)\n",
    "        print(s)\n",
    "        #f.writeline(list_1)\n",
    "        #f.close()"
   ]
  },
  {
   "cell_type": "markdown",
   "id": "c848d3be",
   "metadata": {},
   "source": [
    "## 2931 Read the dictionary from the file and modify it"
   ]
  },
  {
   "cell_type": "code",
   "execution_count": null,
   "id": "c9580122",
   "metadata": {},
   "outputs": [],
   "source": [
    "import json\n",
    "\n",
    "def get_write_dict(path:str):\n",
    "    # Please write your code\n",
    "    dict = {}\n",
    "    with open(path, 'r') as f:\n",
    "        s = f.readline()\n",
    "        s = s.replace(s[-3:-1], '18')\n",
    "    with open(path, 'w') as f:\n",
    "        f.write(s)\n",
    "        f.close()"
   ]
  },
  {
   "cell_type": "markdown",
   "id": "c119c0c5",
   "metadata": {},
   "source": [
    "## 2932 Print Student Grade Point Average"
   ]
  },
  {
   "cell_type": "code",
   "execution_count": null,
   "id": "7389e0c1",
   "metadata": {},
   "outputs": [],
   "source": [
    "# Please write your code here\n",
    "def print_avg(*arg, **kwarg):\n",
    "\tname = kwarg['student_name']\n",
    "\tage = kwarg['student_age']\n",
    "\tavg = sum(arg)/len(arg)\n",
    "\treturn('name: %s, age: %d, avg: %.2f' % (name, age, avg))"
   ]
  },
  {
   "cell_type": "markdown",
   "id": "79b9d9e2",
   "metadata": {},
   "source": [
    "## 2934 Read csv file and modify"
   ]
  },
  {
   "cell_type": "code",
   "execution_count": null,
   "id": "1c4c9926",
   "metadata": {},
   "outputs": [],
   "source": [
    "import csv\n",
    "\n",
    "def get_write_csv(path:str):\n",
    "    # Please write your code\n",
    "    with open(path, 'r') as f:\n",
    "        lines = f.readlines()\n",
    "        lines[0] = lines[0].replace('name', 'student_name')\n",
    "    with open(path, 'w') as f:\n",
    "        f.writelines(lines)\n",
    "    f.close()"
   ]
  },
  {
   "cell_type": "markdown",
   "id": "9050f495",
   "metadata": {},
   "source": [
    "## 2937 The rightmost 1 of a binary number"
   ]
  },
  {
   "cell_type": "code",
   "execution_count": null,
   "id": "542c56af",
   "metadata": {},
   "outputs": [],
   "source": [
    "# Get the number a\n",
    "num_1 = int(input())\n",
    "# Please write your code here\n",
    "print(num_1 & (-num_1))"
   ]
  },
  {
   "cell_type": "markdown",
   "id": "a70bc6d0",
   "metadata": {},
   "source": [
    "## 2938 Complete the chain table class (I) (Medium)\n",
    "### Description: Given an unfinished linked list class LinkedList, complete the iterable methods of this class and iterate over the instances of this class to obtain the complete linked list."
   ]
  },
  {
   "cell_type": "code",
   "execution_count": 22,
   "id": "1ff02058",
   "metadata": {},
   "outputs": [],
   "source": [
    "class Node:\n",
    "    def __init__(self, val=None, next=None):\n",
    "        self.val = val\n",
    "        self.next = next\n",
    "\n",
    "\n",
    "class LinkedList:\n",
    "    def __init__(self):\n",
    "        self.__length = 0\n",
    "        self.head = None\n",
    "        self.tail = None\n",
    "\n",
    "    def add(self, val):\n",
    "        newnode = Node(val)\n",
    "        if self.__length == 0:\n",
    "            self.head = newnode\n",
    "            self.tail = self.head\n",
    "        else:\n",
    "            self.tail.next = newnode\n",
    "            self.tail = newnode\n",
    "        self.__length += 1\n",
    "\n",
    "    def __iter__(self):\n",
    "    # Please write your code here\n",
    "        cur = self.head\n",
    "        while cur:\n",
    "            yield cur.val\n",
    "            cur = cur.next\n",
    "        return cur"
   ]
  },
  {
   "cell_type": "markdown",
   "id": "b27d178b",
   "metadata": {},
   "source": [
    "## 2939 Complete the chain table class (II)\n",
    "### Description: Given an unfinished linked list class LinkedList, add a method to this class so that calling the len() method on an instance of this class will return the length of this linked list."
   ]
  },
  {
   "cell_type": "code",
   "execution_count": null,
   "id": "c8820709",
   "metadata": {},
   "outputs": [],
   "source": [
    "class Node:\n",
    "    def __init__(self, val=None, next=None):\n",
    "        self.val = val\n",
    "        self.next = next\n",
    "\n",
    "\n",
    "class LinkedList:\n",
    "    def __init__(self):\n",
    "        self.length = 0\n",
    "        self.head = None\n",
    "        self.tail = None\n",
    "\n",
    "    def add(self, val):\n",
    "        newnode = Node(val)\n",
    "        if self.length == 0:\n",
    "            self.head = newnode\n",
    "            self.tail = self.head\n",
    "        else:\n",
    "            self.tail.next = newnode\n",
    "            self.tail = newnode\n",
    "        self.length += 1\n",
    "\n",
    "    def __iter__(self):\n",
    "        cur = self.head\n",
    "        while cur:\n",
    "            yield cur.val\n",
    "            cur = cur.next\n",
    "\n",
    "    # Please write your code here\n",
    "    def __len__(self):\n",
    "        return  self.length"
   ]
  },
  {
   "cell_type": "markdown",
   "id": "7ca31f20",
   "metadata": {},
   "source": [
    "## 2940 Byte string and string interconversion\n",
    "### Description: Given a byte string content, the string text asks you to convert this byte string to a string in the UTF-8 character set, convert the string to a byte string, and print them out."
   ]
  },
  {
   "cell_type": "code",
   "execution_count": null,
   "id": "8e1f9295",
   "metadata": {},
   "outputs": [],
   "source": [
    "# read data from console\n",
    "content = eval(input())\n",
    "text = eval(input())\n",
    "# output the answer to the console according to the requirements of the question\n",
    "print(content.decode())\n",
    "print(text.encode())"
   ]
  },
  {
   "cell_type": "markdown",
   "id": "1238b6b3",
   "metadata": {},
   "source": [
    "## 2942 Blocking people on the blacklist\n",
    "### Description: Given a list of blacklists blacklist and a list of customers customers for a store's year-end sale, please complete the function selection with strict control."
   ]
  },
  {
   "cell_type": "code",
   "execution_count": null,
   "id": "473ace9f",
   "metadata": {},
   "outputs": [],
   "source": [
    "class DiscoverBlacklist(Exception):\n",
    "    pass\n",
    "\n",
    "\n",
    "def selection(blacklist: list, customers: list):\n",
    "    # please write your code here\n",
    "    for customer in customers:\n",
    "        if customer in blacklist:\n",
    "            raise DiscoverBlacklist('Alert, %s is on the blacklist.' % customer) \n",
    "    return 'Welcome to the next visit'"
   ]
  },
  {
   "cell_type": "markdown",
   "id": "4438ceca",
   "metadata": {},
   "source": [
    "## 2947 Determine if it is in the list\n",
    "### Description: Given a number num_1 and a list list_1, add num_1 to the square of num_1 and divide by num_1 + 2, then determine if the number is in the list list_1 and print out the result."
   ]
  },
  {
   "cell_type": "code",
   "execution_count": null,
   "id": "c78d49d3",
   "metadata": {},
   "outputs": [],
   "source": [
    "import sys\n",
    "# Get the num, list\n",
    "num_1 = int(sys.argv[1])\n",
    "list_1 = eval(sys.argv[2])\n",
    "# please write your code here\n",
    "print((num_1+num_1*num_1)//(num_1+2) in list_1)"
   ]
  },
  {
   "cell_type": "markdown",
   "id": "df1d1cf9",
   "metadata": {},
   "source": [
    "## 2948 Discounts for members\n",
    "### Description: There is a new item in the store and regular customers need to buy it at the original price, while members can enjoy 30% discount. If a customer is on the blacklist, then the store will not sell the item to him. There is a list of members, and a blacklist. A customer comes in and you print out the price that the customer will eventually have to pay. If the customer is on the blacklist, you need to print -1."
   ]
  },
  {
   "cell_type": "code",
   "execution_count": null,
   "id": "bb6629f5",
   "metadata": {},
   "outputs": [],
   "source": [
    "# Get Variables\n",
    "price = int(input())\n",
    "customer = eval(input())\n",
    "vip = eval(input())\n",
    "blacklist = eval(input())\n",
    "# please write your code here\n",
    "if customer in vip and customer not in blacklist:\n",
    "    print ('%.2f' % (0.7*price))\n",
    "else:\n",
    "    print(-1)"
   ]
  },
  {
   "cell_type": "markdown",
   "id": "3492626e",
   "metadata": {},
   "source": [
    "## 2949 Find the number that appears an odd number of times\n",
    "### Description: Given a list list_1 with one and only one number appearing an odd number of times and all other numbers appearing an even number of times, find this number and print it out."
   ]
  },
  {
   "cell_type": "code",
   "execution_count": null,
   "id": "30193c5b",
   "metadata": {},
   "outputs": [],
   "source": [
    "# Get List\n",
    "list_1 = eval(input())\n",
    "# Please write your code here\n",
    "for i in list_1: \n",
    "    if list_1.count(i) %2 == 1:\n",
    "        print (i)\n",
    "        break"
   ]
  },
  {
   "cell_type": "markdown",
   "id": "12a2fff2",
   "metadata": {},
   "source": [
    "## 2950 Check if it is the same object\n",
    "### Description: You are asked to define two variables num_1, num_2. Then do the following."
   ]
  },
  {
   "cell_type": "code",
   "execution_count": null,
   "id": "da51b4f3",
   "metadata": {},
   "outputs": [],
   "source": [
    "# Please write your code here\n",
    "for x in (256, 257, -5, -6):\n",
    "    num_1 = x\n",
    "    num_2 = x\n",
    "    print(num_1 is num_2)"
   ]
  },
  {
   "cell_type": "markdown",
   "id": "6d7d8713",
   "metadata": {},
   "source": [
    "## 2951 Find a right-angled side of a right triangle\n",
    "### Description: Given a right triangle with hypotenuse c, and one of its right-angled sides a, print out its other right-angled side.(Results are retained to integer digits only)"
   ]
  },
  {
   "cell_type": "code",
   "execution_count": null,
   "id": "3aefc7b3",
   "metadata": {},
   "outputs": [],
   "source": [
    "import math\n",
    "# Get a, c\n",
    "a = int(input())\n",
    "c = int(input())\n",
    "# Please write your code here\n",
    "print (int(math.sqrt(c**2 - a**2)))"
   ]
  },
  {
   "cell_type": "markdown",
   "id": "68c8798f",
   "metadata": {},
   "source": [
    "## 2955 Getting to know python deep and shallow copies\n",
    "### Description: Given a list list_1, and another list list_2, with list_1 nested in list_2, we will generate a shallow copy list list_3, and a deep copy list list_4, using a shallow copy, and a deep copy of the list_2 list, respectively, and ask you to print out five boolean values in order."
   ]
  },
  {
   "cell_type": "code",
   "execution_count": null,
   "id": "8f45b77e",
   "metadata": {},
   "outputs": [],
   "source": [
    "import copy\n",
    "list_1 = [1, 2, 3]\n",
    "list_2 = [list_1]\n",
    "list_3 = copy.copy(list_2)\n",
    "list_4 = copy.deepcopy(list_2)\n",
    "# Please write your code here\n",
    "print(list_1 is list_2[0])\n",
    "print(list_1 is list_3[0])\n",
    "print(list_1 is list_4)\n",
    "print(list_2[0] is list_3[0])\n",
    "print(list_2 is list_4)"
   ]
  },
  {
   "cell_type": "markdown",
   "id": "e4b312ab",
   "metadata": {},
   "source": [
    "## 2956 Determine if a discount is available\n",
    "### Description: For a shop anniversary, given a list of all items, items starting with j, z, d, f and h will be discounted, please count the discounted items and print them to the console as a list."
   ]
  },
  {
   "cell_type": "code",
   "execution_count": null,
   "id": "79968703",
   "metadata": {},
   "outputs": [],
   "source": [
    "list_1 = eval(input())\n",
    "# Please write your code here\n",
    "L = [i for i in list_1 if i[0] in  ['j', 'z', 'd', 'f', 'h']]\n",
    "print(L)"
   ]
  },
  {
   "cell_type": "markdown",
   "id": "9b1c4325",
   "metadata": {},
   "source": [
    "## 2958 Fetch the numbers in the list for operation\n",
    "### Description: Given a list list_1 containing four character numbers, convert the four character numbers to integer numbers by performing the following operations. a÷b×(c+d), keeping two decimal places for the result, and then print the result to the console."
   ]
  },
  {
   "cell_type": "code",
   "execution_count": null,
   "id": "65499c92",
   "metadata": {},
   "outputs": [],
   "source": [
    "list_1 = eval(input())\n",
    "# Please your code here\n",
    "a, b, c, d = map(int, list_1)\n",
    "print('%.2f' % (a/b*(c+d)))"
   ]
  },
  {
   "cell_type": "markdown",
   "id": "02845c66",
   "metadata": {},
   "source": [
    "## 2959 Find the average of the maximum values in each list\n",
    "### Description: Given a list list_1 with multiple nested lists, calculate the maximum value of each nested list and output the average of all the maximum values."
   ]
  },
  {
   "cell_type": "code",
   "execution_count": null,
   "id": "8bd70bd4",
   "metadata": {},
   "outputs": [],
   "source": [
    "list_1 = eval(input())\n",
    "# Please your code here\n",
    "max_list = [max(i) for i in list_1]\n",
    "print('%.2f' % (sum(max_list)/len(max_list)))"
   ]
  },
  {
   "cell_type": "markdown",
   "id": "e702018b",
   "metadata": {},
   "source": [
    "## 2960 Define a function\n",
    "### Description: You are asked to define a function my_name that returns a string 'hello'."
   ]
  },
  {
   "cell_type": "code",
   "execution_count": 4,
   "id": "af29ee6f",
   "metadata": {},
   "outputs": [],
   "source": [
    "def my_name(self):\n",
    "    return 'hello'"
   ]
  }
 ],
 "metadata": {
  "kernelspec": {
   "display_name": "Python 3 (ipykernel)",
   "language": "python",
   "name": "python3"
  },
  "language_info": {
   "codemirror_mode": {
    "name": "ipython",
    "version": 3
   },
   "file_extension": ".py",
   "mimetype": "text/x-python",
   "name": "python",
   "nbconvert_exporter": "python",
   "pygments_lexer": "ipython3",
   "version": "3.9.7"
  }
 },
 "nbformat": 4,
 "nbformat_minor": 5
}
