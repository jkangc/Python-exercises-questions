{
 "cells": [
  {
   "cell_type": "markdown",
   "id": "005bf4c9",
   "metadata": {},
   "source": [
    "## 2089 Implement timer decorator"
   ]
  },
  {
   "cell_type": "code",
   "execution_count": 84,
   "id": "9e740cc2",
   "metadata": {},
   "outputs": [],
   "source": [
    "import time\n",
    "\n",
    "\n",
    "# write your code here\n",
    "# you need to implement a decorator named timer\n",
    "# the decorator will timer the decorated function and print the name of the\n",
    "# function and the running time in format 'function a cost 0.1 seconds'\n",
    "def timer(func):\n",
    "    def wrapper(*args, **kwargs):\n",
    "        t = time.time()\n",
    "        func(*args, **kwargs)\n",
    "        t = time.time() - t\n",
    "        print('function %s cost %.1f seconds' % (func.__name__, t))\n",
    "    return wrapper"
   ]
  },
  {
   "cell_type": "markdown",
   "id": "e5d9fb63",
   "metadata": {},
   "source": [
    "## 2097 Find the sum of two parameters\n",
    "###  Description: Please write Python code, import the function plus from a_plus_b.py to main.py, and read two parameters from the command, then call the parameters from a_plus_b and output the sum of addition, and finally print the result."
   ]
  },
  {
   "cell_type": "code",
   "execution_count": null,
   "id": "333dc9a9",
   "metadata": {},
   "outputs": [],
   "source": [
    "import sys\n",
    "\n",
    "# try to import the function plus from a_plus_b.py in the same directory\n",
    "# - write your code here -\n",
    "from a_plus_b import plus\n",
    "# read two parameters from command like `python main.py 1 2` by sys.argv\n",
    "# - write your code here -\n",
    "a, b = int(sys.argv[1]), int(sys.argv[2])\n",
    "# call plus function and add them up\n",
    "# - write your code here -\n",
    "s = a+b\n",
    "# print the sum to the console\n",
    "# - write your code here -\n",
    "print(s)"
   ]
  },
  {
   "cell_type": "markdown",
   "id": "e73ec9e0",
   "metadata": {},
   "source": [
    "## 2098 Read the values in the file and sum them\n",
    "### Description: Please write the relevant Python code in main.py, read the contents of the file from the given path input_filepath, calculate and sum them, and finally print the result of the calculation."
   ]
  },
  {
   "cell_type": "code",
   "execution_count": null,
   "id": "96d9e6ad",
   "metadata": {},
   "outputs": [],
   "source": [
    "import sys\n",
    "\n",
    "input_filepath = sys.argv[1]\n",
    "\n",
    "# write your code here to read file content\n",
    "# and print it to console\n",
    "with open(input_filepath,'r') as f:\n",
    "    data_list = f.read().split(' ')\n",
    "print(sum(map(int,data_list)))"
   ]
  },
  {
   "cell_type": "markdown",
   "id": "fc7480de",
   "metadata": {},
   "source": [
    "## 2105 Write Hello World! in the file\n",
    "### Description: Please write the relevant Python code in the file write_hello_world.py, use the open() function to read the file content from the given file path filepath, and write'Hello World!' to the file."
   ]
  },
  {
   "cell_type": "code",
   "execution_count": null,
   "id": "fa72941a",
   "metadata": {},
   "outputs": [],
   "source": [
    "def write_to_file(filepath):\n",
    "    # write your code here\n",
    "    # you code should write \"Hello World!\" to the give filepath\n",
    "    # do not change the function name\n",
    "    with open(filepath, 'w') as f:\n",
    "        f.write(\"Hello World!\")\n",
    "        f.close()"
   ]
  },
  {
   "cell_type": "markdown",
   "id": "8e376a25",
   "metadata": {},
   "source": [
    "## 2106 Create a file directory and write Hello World!\n",
    "### Description: Please write Python code. If there may not be a file directory, import the os library and create a file directory, and write'Hello World!' into the newly created file."
   ]
  },
  {
   "cell_type": "code",
   "execution_count": null,
   "id": "0191d970",
   "metadata": {},
   "outputs": [],
   "source": [
    "import os\n",
    "def write_to_file(path):\n",
    "    file = os.path.dirname(path)\n",
    "    if not os.path.exists(file):\n",
    "        os.makedirs(file)\n",
    "    with open(path, 'w') as f:\n",
    "        f.write('Hello World!')"
   ]
  },
  {
   "cell_type": "markdown",
   "id": "c2802459",
   "metadata": {},
   "source": [
    "## 2123 Get yesterday's date\n",
    "### Description: Write Python code that implements a function named yesterday. This function will get the date of the day before the incoming date, and finally return that date."
   ]
  },
  {
   "cell_type": "code",
   "execution_count": null,
   "id": "90947278",
   "metadata": {},
   "outputs": [],
   "source": [
    "# import the required modules\n",
    "import datetime\n",
    "\n",
    "# complete custom functions\n",
    "def yesterday(today: datetime) -> datetime:\n",
    "    '''\n",
    "    :param today: get the date to be queried\n",
    "    :return: the date of yesterday\n",
    "    '''\n",
    "    # write your code here\n",
    "    return today + datetime.timedelta(days = -1)"
   ]
  },
  {
   "cell_type": "markdown",
   "id": "6d3186df",
   "metadata": {},
   "source": [
    "## 2124 print hello\n",
    "### Description: There is a function print_hello defined in solution and you need to refine the code in solution.py to print out the phrase Hello Python! We will import the code you refined in solution.py in main.py and run it. If your code logic works correctly, the program will print Hello Python!."
   ]
  },
  {
   "cell_type": "code",
   "execution_count": null,
   "id": "3c05491d",
   "metadata": {},
   "outputs": [],
   "source": [
    "def hello_python():\n",
    "    # --write your code here--\n",
    "    print('Hello Python!')"
   ]
  },
  {
   "cell_type": "markdown",
   "id": "375bfccd",
   "metadata": {},
   "source": [
    "## 2125 Call the methods in the file main\n",
    "### Description: In main.py there is a function we defined called let_run, please refine the code in solution.py to call and run the let_run method in main.py. If your code is logically correct and runs successfully, the program will print an I'm running! statement."
   ]
  },
  {
   "cell_type": "code",
   "execution_count": null,
   "id": "d0ca0265",
   "metadata": {},
   "outputs": [],
   "source": [
    "# --write your code here--\n",
    "from main import let_run\n",
    "let_run()"
   ]
  },
  {
   "cell_type": "markdown",
   "id": "4ba23ef1",
   "metadata": {},
   "source": [
    "## 2126 Import one of the files in a module folder\n",
    "### Description: In this question, we will practice the modules (files) under the import folder in python. In addition to importing modules from the current environment directory, Python can also import modules in the current environment directory. As follows:"
   ]
  },
  {
   "cell_type": "code",
   "execution_count": null,
   "id": "ce51026a",
   "metadata": {},
   "outputs": [],
   "source": [
    "# write your code here\n",
    "from branch import solution \n",
    "# keep the code below\n",
    "solution.do()"
   ]
  },
  {
   "cell_type": "markdown",
   "id": "4345ca18",
   "metadata": {},
   "source": [
    "## 2127 Implementing reverse sorting of numbers in a list\n",
    "### Description: Please refine the code in solution.py to implement the list_sort function. The list_sort function has one argument list_in, please sort the numbers in the argument list_in in reverse order and return it. We will import the code you refined in solution.py in main.py and run it. If your code is logically correct and runs successfully, the program will return a list as the result of the calculation.\n",
    "\n"
   ]
  },
  {
   "cell_type": "code",
   "execution_count": null,
   "id": "3ba95ffc",
   "metadata": {},
   "outputs": [],
   "source": [
    "def list_sort(list_in: list) -> list:\n",
    "    \"\"\"\n",
    "    :param list_in: The first input list\n",
    "    :return: A list sorted from largest to smallest\n",
    "    \"\"\"\n",
    "    # write your code here\n",
    "    list_in.sort(reverse=True)\n",
    "    return list_in"
   ]
  },
  {
   "cell_type": "markdown",
   "id": "7e0d0f24",
   "metadata": {},
   "source": [
    "## 2128 Use of list built-in methods\n",
    "### Description: Please refine the code in solution.py to implement the following functions"
   ]
  },
  {
   "cell_type": "code",
   "execution_count": null,
   "id": "11d8bf6f",
   "metadata": {},
   "outputs": [],
   "source": [
    "def get_len(list_in: list) -> int:\n",
    "    \"\"\"\n",
    "    :param list_in: The first input list\n",
    "    :return: The length of the list_in\n",
    "    \"\"\"\n",
    "    # write your code here\n",
    "    return len(list_in)\n",
    "\n",
    "def get_max(list_in: list) -> int:\n",
    "    \"\"\"\n",
    "    :param list_in: The first input list\n",
    "    :return: The largest value of list_in\n",
    "    \"\"\"\n",
    "    # write your code here\n",
    "    return max(list_in)\n",
    "\n",
    "def get_min(list_in: list) -> int:\n",
    "    \"\"\"\n",
    "    :param list_in: The first input list\n",
    "    :return: The smallest value of list_in\n",
    "    \"\"\"\n",
    "    # write your code here\n",
    "    return min(list_in)\n",
    "\n",
    "def pop_list(list_in: list) -> list:\n",
    "    \"\"\"\n",
    "    :param tuple_in: The first input tuple\n",
    "    :return: The list delete the last element\n",
    "    \"\"\"\n",
    "    # write your code here\n",
    "    return list_in.pop()"
   ]
  },
  {
   "cell_type": "markdown",
   "id": "8cd053de",
   "metadata": {},
   "source": [
    "## 2129 Modify the value of a specified subscript of a list\n",
    "### Description: Please refine the code in solution.py to implement the update function, which changes the value of the list list_in subscripted by idx to value. The update function takes three arguments: list_in, idx, and value. We will import the code you refined in solution.py into main.py and run it. If your code is logically correct and runs successfully, the program will return a list as the result of the operation."
   ]
  },
  {
   "cell_type": "code",
   "execution_count": null,
   "id": "251bb7a2",
   "metadata": {},
   "outputs": [],
   "source": [
    "def update(list_in: list, idx: int, value: str) -> list:\n",
    "    \"\"\"\n",
    "    :param list_in: The first input list\n",
    "    :param idx: The index of update element\n",
    "    :param value: The new element after update old element\n",
    "    :return: The new list after update the index element\n",
    "    \"\"\"\n",
    "    # write your code here\n",
    "    list_in[idx] = value\n",
    "    return list_in"
   ]
  },
  {
   "cell_type": "markdown",
   "id": "1860b681",
   "metadata": {},
   "source": [
    "## 2130 The subscript element of the specified list\n",
    "### Description: Please refine the code in solution.py to implement the delete function to delete the elements at the specified position in the list. We will import your code from solution.py in main.py and run it. If your code is logically correct and runs successfully, the program will output a list as the result of the operation."
   ]
  },
  {
   "cell_type": "code",
   "execution_count": null,
   "id": "23f2d550",
   "metadata": {},
   "outputs": [],
   "source": [
    "def delete(list_in: list, idx: int) -> list:\n",
    "    \"\"\"\n",
    "    :param list_in: The first source list\n",
    "    :param idx: The input index of list_in\n",
    "    :return: A list after delete the index element of list_in\n",
    "    \"\"\"\n",
    "    # write your code here\n",
    "    list_in.pop(idx)\n",
    "    return list_in"
   ]
  },
  {
   "cell_type": "markdown",
   "id": "aa296466",
   "metadata": {},
   "source": [
    "## 2131 Nesting of lists\n",
    "### Description: Please complete the code in solution.py to realize the function of nest. The nest function has two parameters: the column list_a and the list list_b. It returns a list with list_a' nested in this list. And list_b. We will import your perfect code in solution.py into main.py and run it. If your code logic is correct and run successfully, the program will output a list as the result of the operation.\n",
    "\n"
   ]
  },
  {
   "cell_type": "code",
   "execution_count": null,
   "id": "9fea880e",
   "metadata": {},
   "outputs": [],
   "source": [
    "def nest(list_a: list, list_b: list) -> list:\n",
    "    \"\"\"\n",
    "    :param list_a: The first source list\n",
    "    :param list_b: The second source list\n",
    "    :return: A list contains list_a and list_b\n",
    "    \"\"\"\n",
    "    # write your code here\n",
    "    return [list_a, list_b]"
   ]
  },
  {
   "cell_type": "markdown",
   "id": "3c78662a",
   "metadata": {},
   "source": [
    "## 2132 · Importing a module\n",
    "### Description: In this question, we will practice importing modules in python. A Python module, which is a Python file ending in .py, contains Python object definitions and Python statements. Modules allow you to organize your Python code snippets logically. Assigning related code to a module makes your code more usable and easier to understand. In addition, modules can define functions, classes, and variables, and they can contain executable code. This is shown below."
   ]
  },
  {
   "cell_type": "code",
   "execution_count": null,
   "id": "b50e225a",
   "metadata": {},
   "outputs": [],
   "source": [
    "# write your code here\n",
    "import solution\n",
    "# keep the code below\n",
    "solution.do()"
   ]
  },
  {
   "cell_type": "markdown",
   "id": "6df1f200",
   "metadata": {},
   "source": [
    "## 2133 Use list derivatives to filter elements in any range\n",
    "### Description: Please refine the code in solution.py to implement the list_comprehension function. The list_comprehension function has two arguments range1 and range2. Use the list derivative to find the elements from the given range range1 to range2, find elements that are both even and greater than 4, and return a list of those elements. We will import your code from solution.py in main.py and run it. If your code is logically correct and runs successfully, the program will return a list as the result."
   ]
  },
  {
   "cell_type": "code",
   "execution_count": null,
   "id": "29b0bac9",
   "metadata": {},
   "outputs": [],
   "source": [
    "def list_comprehension(range1: int, range2: int) -> list:\n",
    "    \"\"\"\n",
    "    :param range1: The first num of range\n",
    "    :param range2: The second num of range\n",
    "    :return: A list of elements that meet the conditions in the range \n",
    "             from range1 to range2\n",
    "    \"\"\"\n",
    "    # write your code here\n",
    "    l = [i for i in range(range1, range2) if i > 4 and i%2 == 0]\n",
    "    return l"
   ]
  },
  {
   "cell_type": "markdown",
   "id": "52088f0a",
   "metadata": {},
   "source": [
    "## 2134 General operation of the list\n",
    "### Description: Please complete the code in solution.py to realize the following functions\n",
    "\n"
   ]
  },
  {
   "cell_type": "code",
   "execution_count": null,
   "id": "2f4f0525",
   "metadata": {},
   "outputs": [],
   "source": [
    "def get_len_of_list(list_a: list) -> int:\n",
    "    \"\"\"\n",
    "    :param list_a: The first source list\n",
    "    :return: A length of list_in\n",
    "    \"\"\"\n",
    "    # --write your code here--\n",
    "    return len(list_a)\n",
    "\n",
    "def add_two_list(list_a: list, list_b: list) -> list:\n",
    "    \"\"\"\n",
    "    :param list_a: The second source list\n",
    "    :param list_b: The third source list\n",
    "    :return: A list about the combination of list_a and list_b\n",
    "    \"\"\"\n",
    "    # write your code here\n",
    "    return list_a+list_b\n",
    "\n",
    "def repeat_list(list_a: list) -> list:\n",
    "    \"\"\"\n",
    "    :param list_a: The first source list\n",
    "    :return: A list about 3 times reputations of list_in\n",
    "    \"\"\"\n",
    "    # write your code here\n",
    "    return list_a*3\n",
    "\n",
    "def is_in_list(value: str, list_a: list) -> bool:\n",
    "    \"\"\"\n",
    "    :param value: The fourth source string\n",
    "    :param list_a: The second source list\n",
    "    :return: A bool whether value is in list_a\n",
    "    \"\"\"\n",
    "    # write your code here\n",
    "    return value in list_a\n",
    "\n",
    "def iterate_list(list_a: list) -> list:\n",
    "    \"\"\"\n",
    "    :param list_a: The second source list\n",
    "    :return: A list about the initial character in each element of list_a\n",
    "    \"\"\"\n",
    "    # write your code here\n",
    "    return [i[0] for i in list_a]"
   ]
  },
  {
   "cell_type": "markdown",
   "id": "bce75eb7",
   "metadata": {},
   "source": [
    "## 2135 Import a module and alias it\n",
    "### Description: In the python syntax, there are many powerful libraries that we need to import if we want to use the methods in them. For example import xx. In this problem, we will practice importing and renaming methods using python modules. Write code in solution.py to import a module named time, using python's import syntax to import and name it LintCode_t."
   ]
  },
  {
   "cell_type": "code",
   "execution_count": null,
   "id": "2e95ac99",
   "metadata": {},
   "outputs": [],
   "source": [
    "# Please write your code here\n",
    "import datetime as LintCode_t"
   ]
  },
  {
   "cell_type": "markdown",
   "id": "641a4b71",
   "metadata": {},
   "source": [
    "## 2137 Print out SMS verification code\n",
    "### Description: print is one of the most basic methods in Python, and it's probably the first method we'll encounter when learning a language. When outputting a string, we can sometimes use the format method to output the variable along with it"
   ]
  },
  {
   "cell_type": "code",
   "execution_count": null,
   "id": "94be393d",
   "metadata": {},
   "outputs": [],
   "source": [
    "import sys\n",
    "\n",
    "name = str(sys.argv[1])\n",
    "SMS_verification_code = str(sys.argv[2])\n",
    "\n",
    "# print \"Hello, name! Your validation code is SMS_verification_code\n",
    "# please keep it in secret.\"\n",
    "print('Hello, %s! Your validation code is %s, please keep it in secret.' % (name, SMS_verification_code))"
   ]
  },
  {
   "cell_type": "markdown",
   "id": "4a55088f",
   "metadata": {},
   "source": [
    "## 2139 print format outputs course information\n",
    "### Description:Please edit the main.py file and use print format to print the course name and the number of people attending\n",
    "\n"
   ]
  },
  {
   "cell_type": "code",
   "execution_count": null,
   "id": "39065528",
   "metadata": {},
   "outputs": [],
   "source": [
    "import sys\n",
    "# keep this code\n",
    "course_name = str(sys.argv[1])\n",
    "number = str(sys.argv[2])\n",
    "# write your code here\n",
    "print('course_name:%s,number:%s' % (course_name, number))"
   ]
  },
  {
   "cell_type": "markdown",
   "id": "963abea9",
   "metadata": {},
   "source": [
    "## 2140 The number of the two numbers in the list whose sum is equal to n\n",
    "### Description: Python's for loop can traverse items of any sequence , such as a list or a string, and can traverse the elements in the list through a loop. For the list type variable lst, there are:"
   ]
  },
  {
   "cell_type": "code",
   "execution_count": null,
   "id": "9fdd9187",
   "metadata": {},
   "outputs": [],
   "source": [
    "def twonums_sum(n, lst):\n",
    "# -- write your code here --\n",
    "    for i in range(len(lst)):\n",
    "        for j in range(i+1, len(lst)):\n",
    "            if lst[i]+lst[j] == n:\n",
    "                return print((i, j))\n",
    "    return print('not found')"
   ]
  },
  {
   "cell_type": "markdown",
   "id": "b66abad7",
   "metadata": {},
   "source": [
    "## 2141 Determine if a string is uppercase and the consecutive characters are not repeated\n",
    "### Description: In using for loops we sometimes encounter situations where we don't have to execute the loop completely, but have to jump out of the loop when certain conditions are met, so we use continue, break, return, etc."
   ]
  },
  {
   "cell_type": "code",
   "execution_count": null,
   "id": "1ef8903b",
   "metadata": {},
   "outputs": [],
   "source": [
    "def solution(var_str):\n",
    "    # Iterate through the string\n",
    "\n",
    "    # for i in range(len(var_str)):\n",
    "\n",
    "    # Determine if the character is in A ~ Z. If not, return 'Dislikes'\n",
    "\n",
    "    # Determine if this character is the last character\n",
    "\n",
    "    # Determine if this character is equal to the next character, and if so, return 'Dislikes'\n",
    "\n",
    "    # If not, continue the for loop\n",
    "\n",
    "    # If the loop does not return after execution, return 'Likes'\n",
    "    for i in range(len(var_str)-1):\n",
    "        if var_str[i] == var_str[i+1]:\n",
    "            return 'Dislikes'\n",
    "    return 'Likes'"
   ]
  },
  {
   "cell_type": "markdown",
   "id": "131b57cc",
   "metadata": {},
   "source": [
    "## 2142 Replace the elements in a string\n",
    "### Description: String is a common data type in Python, and when we want to convert it to a list, we can use the character in the split() as the delimiter. We can iterate through the elements of any sequence with a for loop, and use if to determine execute what kind of operations when the condition is met"
   ]
  },
  {
   "cell_type": "code",
   "execution_count": null,
   "id": "52240f19",
   "metadata": {},
   "outputs": [],
   "source": [
    "def solution(var_str):\n",
    "\n",
    "    # Determine if the end of the string is '#', if so remove it.\n",
    "    # if condition:\n",
    "    # Convert a string to a list and output\n",
    "    # var_list =\n",
    "    # print(var_list)\n",
    "    # Traversing the entire table, Replace 'Zhuge Dan' in the character with 'Zhuge Liang' and output\n",
    "    # for i in range(len(var_list)):\n",
    "    print([i for i in var_str.replace('_', ' ').split('#') if i != ''])\n",
    "    print([i for i in var_str.replace('_', ' ').replace('Zhuge Dan','Zhuge Liang').split('#') if i !=''])"
   ]
  },
  {
   "cell_type": "markdown",
   "id": "718b27de",
   "metadata": {},
   "source": [
    "## 2145 Exception Handling\n",
    "### Description: An exception is an error report that interrupts the execution of your program. Even if a program makes an error, python's exception handling makes it possible to keep it from interrupting the execution of your program. Do the following for exception handling."
   ]
  },
  {
   "cell_type": "code",
   "execution_count": 1,
   "id": "c31a8f42",
   "metadata": {},
   "outputs": [],
   "source": [
    "def division(a, b):\n",
    "    # write your code here\n",
    "    try:\n",
    "        c = (a+b)/(a-b)\n",
    "        print('a = %d, b = %d, (a+b)/(a-b) = %s' % (a, b, c))        \n",
    "    except: \n",
    "        print ('a = %d, b = %d, the denominator of (a+b)/(a-b) cannot be zero' % (a, b))"
   ]
  },
  {
   "cell_type": "markdown",
   "id": "241c698c",
   "metadata": {},
   "source": [
    "## 2146 Implement Decorator with Parameters\n",
    "### Description: Please implement a decorator named repeat_func, it takes an integer n as parameter which indicate how many times to repeat running the decorated function."
   ]
  },
  {
   "cell_type": "code",
   "execution_count": 9,
   "id": "9362c412",
   "metadata": {},
   "outputs": [
    {
     "name": "stdout",
     "output_type": "stream",
     "text": [
      "before function run\n",
      "function run\n",
      "after function run\n"
     ]
    }
   ],
   "source": [
    "# please implement a decorator named repeat_func here, it takes one parameter n,\n",
    "# indicate how many times we need to repeat running the decorated function\n",
    "def repeat_func(n):\n",
    "    def wrapper(func):\n",
    "        def dec(*args, **kwargs):\n",
    "            print('before function run')\n",
    "            for i in range(n):\n",
    "                func(*args, **kwargs)\n",
    "                print('after function run')\n",
    "                #return func(*args, **kwargs)  --return back to the function and execute the rest of code\n",
    "        return dec\n",
    "    return wrapper\n",
    "\n",
    "@repeat_func(1==1)\n",
    "def func():\n",
    "    print('function run')\n",
    "func()"
   ]
  },
  {
   "cell_type": "markdown",
   "id": "ef9611c9",
   "metadata": {},
   "source": [
    "## 2170 Read file contents\n",
    "### Description: This problem requires reading the contents of an existing file in a folder. By manipulating the file, you could read the contents of the file and print them out."
   ]
  },
  {
   "cell_type": "code",
   "execution_count": 10,
   "id": "db773bd5",
   "metadata": {},
   "outputs": [],
   "source": [
    "def read_file(input_path):\n",
    "# write your code here\n",
    "    with open(input_path, 'r') as f:\n",
    "        contents=f.read()\n",
    "        print(contents)"
   ]
  },
  {
   "cell_type": "markdown",
   "id": "b8a6a73a",
   "metadata": {},
   "source": [
    "## 2174 Query the number of 'your' words in the file\n",
    "### Description: Write Python code that implements a function called num_your. This function will count the number of occurrences of the word 'your' in the file and finally return the count value."
   ]
  },
  {
   "cell_type": "code",
   "execution_count": 11,
   "id": "cc6782bb",
   "metadata": {},
   "outputs": [],
   "source": [
    "def num_your(poem):\n",
    "    # write your code here\n",
    "    return poem.count(' your ')"
   ]
  },
  {
   "cell_type": "markdown",
   "id": "66ffd9ea",
   "metadata": {},
   "source": [
    "## 2180 Comparing the size of two numbers\n",
    "### Description: There are two variables a and b in this problem. We need you to define a function get_max in solution.py that compares the magnitude of a and b and returns the larger value. We will import the code you refined in solution.py into main.py and run it. If your code is logically correct and runs successfully, the program will output the larger of a and b."
   ]
  },
  {
   "cell_type": "code",
   "execution_count": 12,
   "id": "ed0e4ec2",
   "metadata": {},
   "outputs": [],
   "source": [
    "# write your code here\n",
    "def get_max(a, b):\n",
    "    return max(a, b)"
   ]
  },
  {
   "cell_type": "markdown",
   "id": "d5c5590b",
   "metadata": {},
   "source": [
    "## 2185 Count the number of times an element appears in the list\n",
    "### Description: In this question, we will provide a list list_1. We have already written the count_5 function for you in solution.py. The list_1 of this function represents the initial list. The number of 5 is counted out and returned."
   ]
  },
  {
   "cell_type": "code",
   "execution_count": 13,
   "id": "1081d6f6",
   "metadata": {},
   "outputs": [],
   "source": [
    "def count_5(list_1: list) -> int:\n",
    "    '''\n",
    "    :param list_1: Input list\n",
    "    :param x: The elements to find\n",
    "    :return: The number of occurrences of the element\n",
    "    '''\n",
    "    # -- write your code here --\n",
    "    return list_1.count(5)"
   ]
  },
  {
   "cell_type": "markdown",
   "id": "e19fb4bd",
   "metadata": {},
   "source": [
    "## 2186 Calculate the factorial of n\n",
    "### Description: In this problem,we name the recursive function which receives a variable n as fact. We need you to write the code of recursive function in solution.py that computes the factorial result of n.\n",
    "\n"
   ]
  },
  {
   "cell_type": "code",
   "execution_count": 14,
   "id": "244dd98b",
   "metadata": {},
   "outputs": [],
   "source": [
    "# write your code here\n",
    "def fact(n):\n",
    "    if n == 0:\n",
    "        return 1\n",
    "    return n*fact(n-1)"
   ]
  },
  {
   "cell_type": "markdown",
   "id": "6cbe74d2",
   "metadata": {},
   "source": [
    "## 2187 Combining and sorting lists (one)\n",
    "### Description: We've declared the sorting_connection function in solution.py for you, where list_1 and list_2 represent the initial list, and you need to merge list_2 and list_1 together and sort it, then print it out.\n",
    "\n"
   ]
  },
  {
   "cell_type": "code",
   "execution_count": 16,
   "id": "677dcce0",
   "metadata": {},
   "outputs": [],
   "source": [
    "def sorting_connection(list_1: list, list_2: list) -> None:\n",
    "    '''\n",
    "    :param list_1: Input list one\n",
    "    :param list_2: Input list two\n",
    "    :return: None\n",
    "    '''\n",
    "    # write your code here\n",
    "    print (sorted(list_1+list_2))"
   ]
  },
  {
   "cell_type": "markdown",
   "id": "2200198c",
   "metadata": {},
   "source": [
    "## 2199 Remove empty lines from files\n",
    "### Description: Write python code that reads the contents of the file from the given path input_path by line, removes the empty lines, and writes them to the given path output_path.\n",
    "\n"
   ]
  },
  {
   "cell_type": "code",
   "execution_count": 19,
   "id": "b53a1105",
   "metadata": {},
   "outputs": [],
   "source": [
    "def remove_empty_lines(input_path, output_path):\n",
    "    '''\n",
    "    read the file in the input_path path\n",
    "    remove blank lines\n",
    "    write the data with the blank lines removed to the file\n",
    "    '''\n",
    "    # -- write your code here --\n",
    "    with open(input_path, 'r') as f:\n",
    "        a = f.readlines()\n",
    "    with open(output_path, 'w') as f:\n",
    "        for s in a:\n",
    "            if s != '\\n':\n",
    "                f.write(s)"
   ]
  },
  {
   "cell_type": "markdown",
   "id": "3ace07e0",
   "metadata": {},
   "source": [
    "## 2202 Calculate Sum (Python version)\n",
    "### Description: Please get a positive integer n from the standard input stream (console), and output the sum of all numbers in the interval [1,n]. You can use different loop statements (for or while) to achieve this problem."
   ]
  },
  {
   "cell_type": "code",
   "execution_count": 20,
   "id": "8aaac8af",
   "metadata": {},
   "outputs": [
    {
     "name": "stdout",
     "output_type": "stream",
     "text": [
      "10\n",
      "55\n"
     ]
    }
   ],
   "source": [
    "# write your code here\n",
    "# read data from console\n",
    "n = int(input())\n",
    "# output the answer to the console according to the requirements of the question\n",
    "#print(int((1+n)*n/2))\n",
    "list = [i for i in range(1, n+1)]\n",
    "print(sum(list))"
   ]
  },
  {
   "cell_type": "markdown",
   "id": "e3481ed1",
   "metadata": {},
   "source": [
    "## 2205 Binary to decimal conversion\n",
    "### Description: Python's functools module provides a number of useful features, one of which is biased function that make function calls more easily by setting default values for the arguments."
   ]
  },
  {
   "cell_type": "code",
   "execution_count": 23,
   "id": "e47b9c23",
   "metadata": {},
   "outputs": [],
   "source": [
    "# write your code here\n",
    "# import functools\n",
    "from functools import partial\n",
    "def func():\n",
    "    # write your code here\n",
    "    # define the partial function\n",
    "    # return partial function\n",
    "    n = partial(int, base=2)\n",
    "    return n"
   ]
  },
  {
   "cell_type": "markdown",
   "id": "2f063087",
   "metadata": {},
   "source": [
    "## 2211 Judge the number of palindrome\n",
    "### Description: In this question, we will provide a string str_1. We have already written the is_palindrome function for you in solution.py. The function str_1 represents the initial string. You need to determine whether the input string is It is a palindrome, if it is, it returns True, if it is not, it returns False.\n",
    "\n"
   ]
  },
  {
   "cell_type": "code",
   "execution_count": 24,
   "id": "18cdc1d3",
   "metadata": {},
   "outputs": [],
   "source": [
    "def is_palindrome(str_1: str) -> bool:\n",
    "    '''\n",
    "    :param str_1: Input a string\n",
    "    :return: Whether it is a palindrome number\n",
    "    '''\n",
    "    # -- write your code here --\n",
    "    return str_1 == str_1[::-1]"
   ]
  },
  {
   "cell_type": "markdown",
   "id": "94577db3",
   "metadata": {},
   "source": [
    "## 2216 String summing, repeated output, slicing\n",
    "### Description: This problem has two strings str1 and str2. We need you to refine the code in solution.py."
   ]
  },
  {
   "cell_type": "code",
   "execution_count": 25,
   "id": "21b51b27",
   "metadata": {},
   "outputs": [],
   "source": [
    "def add_repeat_slicing(str_1: str, str_2: str) -> tuple:\n",
    "    \"\"\"\n",
    "    :param str_1: The first source string\n",
    "    :param str_2: The Second source string\n",
    "    :return: tuple: A tuple containing three new strings\n",
    "    \"\"\"\n",
    "    # -- write your code here --\n",
    "    return str_1+str_2, str_1+str_1, str_1[1:4]"
   ]
  },
  {
   "cell_type": "markdown",
   "id": "1474aa8e",
   "metadata": {},
   "source": [
    "## 2226 Determine if the specified character is present in the string\n",
    "### Description: In this problem, we will practice the use of the membership operators in and not in. We have defined the function member_judge for you in solution.py, which has two arguments of type str, str_1 and str_2, and you need to write the code at the comment position You need to use the if else statement and the membership operators in and not in to determine whether the string H is in the variable str_1 and whether M is in the variable str_2, and print out the result with the print statement respectively. For example, to determine whether H is in the variable str_1, the two results of the print statement are in the following format."
   ]
  },
  {
   "cell_type": "code",
   "execution_count": 26,
   "id": "f80239d0",
   "metadata": {},
   "outputs": [],
   "source": [
    "def member_judge(str_1: str, str_2: str) -> None:\n",
    "    \"\"\"\n",
    "    param str_1: a string\n",
    "    param str_2: another string\n",
    "    return: No return value is required\n",
    "    \"\"\"\n",
    "    # -- write your code here --\n",
    "    if 'H' in str_1:\n",
    "        print('H in str_1')\n",
    "    else:\n",
    "        print('H not in str_1')\n",
    "    if 'M' in str_2:\n",
    "        print('M in str_2')\n",
    "    else:\n",
    "        print('M not in str_2')"
   ]
  },
  {
   "cell_type": "markdown",
   "id": "5662d864",
   "metadata": {},
   "source": [
    "## 2228 Slicing and Splicing\n",
    "### Description: In this problem, we will practice slicing and splicing tuples. We have already written the function tup_operation for you in solution.py, which has a parameter tup_1 of type - tuple representing our initial tuple, and the function eventually returns a new tuple with the return value of type tuple. You need to write code at the comment position to get the first two elements and the last two elements of the tup_1 tuple separately using the tuple slicing method, and then stitch them together to get a new tuple and return that tuple."
   ]
  },
  {
   "cell_type": "code",
   "execution_count": 27,
   "id": "59da9e74",
   "metadata": {},
   "outputs": [],
   "source": [
    "def tup_operation(tup_1: tuple) -> tuple:\n",
    "    \"\"\"\n",
    "    param tup_1: a initial tuple\n",
    "    return: a new tuple\n",
    "    \"\"\"\n",
    "    # -- write your code here --\n",
    "    return tup_1[:2]+tup_1[-2:]"
   ]
  },
  {
   "cell_type": "markdown",
   "id": "389d7499",
   "metadata": {},
   "source": [
    "## 2229 Find the length, maximum value and minimum value of a tuple\n",
    "### Description: The problem has two tuples tup_1 and tup_2, and we need you to refine the code in solution.py to implement."
   ]
  },
  {
   "cell_type": "code",
   "execution_count": 28,
   "id": "73ed4d59",
   "metadata": {},
   "outputs": [],
   "source": [
    "def tup_len(tuple_1: tuple, tuple_2: tuple) -> tuple:\n",
    "    \"\"\"\n",
    "    \n",
    "    :param tuple_1: The first source tuple\n",
    "    :param tuple_2: The second source tuple\n",
    "    :return: tuple: A tuple containing three new int\n",
    "    \"\"\"\n",
    "    # --write your code here--\n",
    "    return (len(tuple_1), max(tuple_2), min(tuple_2))"
   ]
  },
  {
   "cell_type": "markdown",
   "id": "6e3f1b40",
   "metadata": {},
   "source": [
    "## 2240 Update string\n",
    "### Description: Write Python code that implements a function called str_update. This function will extract the first 7 bytes of the given string, add `` welcomes!`'' to the string, and finally return the updated string."
   ]
  },
  {
   "cell_type": "code",
   "execution_count": 29,
   "id": "cc0b5ab1",
   "metadata": {},
   "outputs": [],
   "source": [
    "def str_update(txt: str) -> str:\n",
    "    \"\"\"\n",
    "    :param txt: a input string\n",
    "    :return: a changed string\n",
    "    \"\"\"\n",
    "    # write your code here\n",
    "    return txt[7:]+' welcomes!'"
   ]
  },
  {
   "cell_type": "markdown",
   "id": "65f579c1",
   "metadata": {},
   "source": [
    "## 2247 decision odd or even\n",
    "### Description: Write Python code that implements a function named judge. This function will determine the parity of the incoming integer and return twice that number if it is odd, or just return the number if it is even."
   ]
  },
  {
   "cell_type": "code",
   "execution_count": 30,
   "id": "6e14dd5d",
   "metadata": {},
   "outputs": [],
   "source": [
    "def judge(num: int) -> int:\n",
    "    \"\"\"\n",
    "    :param num: a random integer input\n",
    "    :return: a integer after judgment\n",
    "    \"\"\"\n",
    "\t# -- write your code here --\n",
    "    if num % 2 == 1:\n",
    "        return num*2\n",
    "    return num"
   ]
  },
  {
   "cell_type": "markdown",
   "id": "04170795",
   "metadata": {},
   "source": [
    "## 2250 The absolute value of an integer\n",
    "### Description: In this problem, we will practice finding the absolute value of an integer using the nested use of the if else statement. We have defined a function for you in solution.py that has an argument num of type int representing an integer, and the function eventually returns the absolute value of this integer, which is of type int. You need to write code at the comment position to condition our parameter num with the if else statement and the nested knowledge of if to return different values for different conditions of num."
   ]
  },
  {
   "cell_type": "code",
   "execution_count": 31,
   "id": "a2f2134b",
   "metadata": {},
   "outputs": [],
   "source": [
    "def abslute_value(num: int) -> int:\n",
    "    \"\"\"\n",
    "    num: a number of any\n",
    "    return: the absolute value of this number\n",
    "    \"\"\"\n",
    "    # -- write your code here --\n",
    "    return abs(num)"
   ]
  },
  {
   "cell_type": "markdown",
   "id": "3d2c45db",
   "metadata": {},
   "source": [
    "## 2252 Judgment Results\n",
    "### Description: The problem has a variable marks and we need you to give a grade for that grade based on marks, refine the code in solution.py to achieve this."
   ]
  },
  {
   "cell_type": "code",
   "execution_count": 32,
   "id": "6de5e3ab",
   "metadata": {},
   "outputs": [],
   "source": [
    "def mark_jud(marks: int) -> str:\n",
    "    \"\"\"\n",
    "    :param marks: The source int\n",
    "    :return: A str of grade\n",
    "    \"\"\"\n",
    "    # --write your code here--\n",
    "    if marks >= 90: return 'A'\n",
    "    elif marks >= 80: return 'B'\n",
    "    elif marks >= 70: return 'C'\n",
    "    elif marks >= 60: return 'D'\n",
    "    elif marks >= 50: return 'E'\n",
    "    else: \n",
    "        print('Maybe you should work hard')\n",
    "        return 'No grade'"
   ]
  },
  {
   "cell_type": "markdown",
   "id": "73bc7728",
   "metadata": {},
   "source": [
    "## 2257 Determining whether a number is prime or not\n",
    "### Description: Write Python code that implements a function named prime. This function will determine if the integer num is a prime number, and return True if it is, or False if it is not.\n",
    "\n"
   ]
  },
  {
   "cell_type": "code",
   "execution_count": 33,
   "id": "e4355bb8",
   "metadata": {},
   "outputs": [],
   "source": [
    "from math import sqrt\n",
    "def prime(num: int) -> int:\n",
    "    \"\"\"\n",
    "    :param num: a random integer\n",
    "    :return: determine if the result is a prime number and return 1 otherwise other values\n",
    "    \"\"\"\n",
    "\t# write your code here\n",
    "    if num > 1:\n",
    "        for i in range(2, int(sqrt(num)+1)):\n",
    "            if num%i == 0:\n",
    "                return False\n",
    "        return True\n",
    "    else:\n",
    "        return False"
   ]
  },
  {
   "cell_type": "markdown",
   "id": "87050025",
   "metadata": {},
   "source": [
    "## 2258 Find the largest prime number backwards\n",
    "### Description: The main purpose of this question is that we will provide a natural number greater than 1, and then determine whether the number is a prime number, if it is a prime number, then print it directly, if it is not a prime number, look for the previous digit, then the first prime number found is the largest Prime number."
   ]
  },
  {
   "cell_type": "code",
   "execution_count": 34,
   "id": "438d7d86",
   "metadata": {},
   "outputs": [],
   "source": [
    "from math import sqrt\n",
    "def Find_prime_numbers_backwards(n:int) -> int:\n",
    "    '''\n",
    "    :param n: Natural number greater than 1\n",
    "    :return: Maximum prime number\n",
    "    '''\n",
    "    # write your code here\n",
    "    for i in range(2, int(sqrt(n)+1)):\n",
    "            if n%i == 0:\n",
    "                n = n-1\n",
    "    print(n)"
   ]
  },
  {
   "cell_type": "markdown",
   "id": "bb53c941",
   "metadata": {},
   "source": [
    "## 2260 List slicing with step\n",
    "### Description: Write Python code that implements a function called list_update. This function will slice the data from the 4th to the last 3 bits of the integer list, taking every 3rd one, and return the sliced array."
   ]
  },
  {
   "cell_type": "code",
   "execution_count": 41,
   "id": "e02b1087",
   "metadata": {},
   "outputs": [],
   "source": [
    "# def list_update(list_input: list[int]) -> list[int]:\n",
    "    # write your code here\n",
    "    # list_input[3:-3:3]"
   ]
  },
  {
   "cell_type": "markdown",
   "id": "568545d0",
   "metadata": {},
   "source": [
    "## 2261 Delete elements in the list"
   ]
  },
  {
   "cell_type": "code",
   "execution_count": 43,
   "id": "b8710f3a",
   "metadata": {},
   "outputs": [],
   "source": [
    "def del_list_element(list_1:list) -> list:\n",
    "    '''\n",
    "    :param list_1: Input List\n",
    "    :return: The list after deleting the specified element\n",
    "    '''\n",
    "    # -- write your code here --\n",
    "    # return list_1[:3]+list_1[6:]\n",
    "    #return del list_1[4:6]"
   ]
  },
  {
   "cell_type": "markdown",
   "id": "86d3bd76",
   "metadata": {},
   "source": [
    "## 2262 Splicing and copying of lists"
   ]
  },
  {
   "cell_type": "code",
   "execution_count": 44,
   "id": "c38f40f8",
   "metadata": {},
   "outputs": [],
   "source": [
    "def list_operation(list_1: list) -> list:\n",
    "    \"\"\"\n",
    "    :list_1: a list of any\n",
    "    :return: a list after operator operation\n",
    "    \"\"\"\n",
    "    # -- write your code here --\n",
    "    return (list_1[:2]+list_1[-2:])*2"
   ]
  },
  {
   "cell_type": "markdown",
   "id": "78ec78ee",
   "metadata": {},
   "source": [
    "## 2263 string splicing"
   ]
  },
  {
   "cell_type": "code",
   "execution_count": 45,
   "id": "a6a29eb8",
   "metadata": {},
   "outputs": [],
   "source": [
    "def str_join(seq: tuple) -> tuple:\n",
    "    \"\"\"\n",
    "\n",
    "    :param seq: The source tuple\n",
    "    :return: a tuple contain two str after jion\n",
    "    \"\"\"\n",
    "    # write your code here\n",
    "    return '-'.join(seq),''.join(seq)\n",
    "    # return str_3, str_4"
   ]
  },
  {
   "cell_type": "markdown",
   "id": "026a3425",
   "metadata": {},
   "source": [
    "## 2264 Convert upper and lower case letters in a string"
   ]
  },
  {
   "cell_type": "code",
   "execution_count": 46,
   "id": "7db7c6d5",
   "metadata": {},
   "outputs": [],
   "source": [
    "def str_conversion(str_in: str) -> str:\n",
    "    \"\"\"\n",
    "    :param str_in: The first input str\n",
    "    :return: The new str after conversion str case\n",
    "    \"\"\"\n",
    "    # write your code here\n",
    "    return str_in.swapcase()"
   ]
  },
  {
   "cell_type": "markdown",
   "id": "b2eed9e4",
   "metadata": {},
   "source": [
    "## 2265 Find the maximum and minimum values of the elements in a tuple"
   ]
  },
  {
   "cell_type": "code",
   "execution_count": 47,
   "id": "b90eddb6",
   "metadata": {},
   "outputs": [],
   "source": [
    "def maximum_and_minimum_value_of_tuple(tuple_1: tuple) -> tuple:\n",
    "    '''\n",
    "    :param tuple_1: Input tuple\n",
    "    :return: Maximum and minimum value of tuple\n",
    "    '''\n",
    "    # -- write your code here --\n",
    "    return (max(tuple_1), min(tuple_1))"
   ]
  },
  {
   "cell_type": "markdown",
   "id": "53a30690",
   "metadata": {},
   "source": [
    "## 2267 Find The Maximum Of Three Numbers (Python version)"
   ]
  },
  {
   "cell_type": "code",
   "execution_count": 50,
   "id": "307b5702",
   "metadata": {},
   "outputs": [],
   "source": [
    "import sys\n",
    "\n",
    "#a = int(sys.argv[1])\n",
    "#b = int(sys.argv[2])\n",
    "#c = int(sys.argv[3])\n",
    "# write your code here\n",
    "# you need to print the maximum\n",
    "# print(max(max(a, b), c))"
   ]
  },
  {
   "cell_type": "markdown",
   "id": "a43a5e0a",
   "metadata": {},
   "source": [
    "## 2269 Swap Two Integers (Python version)"
   ]
  },
  {
   "cell_type": "code",
   "execution_count": 52,
   "id": "5a53e8e3",
   "metadata": {},
   "outputs": [
    {
     "name": "stdout",
     "output_type": "stream",
     "text": [
      "2\n",
      "3\n",
      "a = 3, b = 2\n"
     ]
    }
   ],
   "source": [
    "# write your code here\n",
    "# read data from console\n",
    "a = int(input())\n",
    "b = int(input())\n",
    "# output the answer to the console according to the requirements of the question\n",
    "c = a\n",
    "a = b\n",
    "b = c\n",
    "print('a = %d, b = %d' % (a, b))"
   ]
  },
  {
   "cell_type": "markdown",
   "id": "a8000e42",
   "metadata": {},
   "source": [
    "## 2271 Integer Arithmetic (Python version)"
   ]
  },
  {
   "cell_type": "code",
   "execution_count": 53,
   "id": "f5910b8c",
   "metadata": {},
   "outputs": [
    {
     "name": "stdout",
     "output_type": "stream",
     "text": [
      "1\n",
      "2\n",
      "3\n",
      "-1\n",
      "2\n",
      "0\n"
     ]
    }
   ],
   "source": [
    "# write your code here\n",
    "# read data from console\n",
    "a = int(input())\n",
    "b = int(input())\n",
    "# output the answer to the console according to the requirements of the question\n",
    "#print('%d' % (a+b))\n",
    "#print('%d' % (a-b))\n",
    "#print('%d' % (a*b))\n",
    "#print('%d' % (int(a/b)))\n",
    "print(a+b, a-b, a*b, a//b, sep='\\n')"
   ]
  },
  {
   "cell_type": "markdown",
   "id": "4e87d048",
   "metadata": {},
   "source": [
    "## 2273 Sequential Output (Python version)"
   ]
  },
  {
   "cell_type": "code",
   "execution_count": 54,
   "id": "e6c55f8e",
   "metadata": {},
   "outputs": [
    {
     "name": "stdout",
     "output_type": "stream",
     "text": [
      "2\n",
      "[0, 1]\n"
     ]
    }
   ],
   "source": [
    "# write your code here\n",
    "# read data from console\n",
    "n = int(input())\n",
    "# output the answer to the console according to the requirements of the question\n",
    "print([i for i in range(n)], sep='\\n')"
   ]
  },
  {
   "cell_type": "markdown",
   "id": "87bce2d5",
   "metadata": {},
   "source": [
    "## 2274 First Python Code: Print Hello World"
   ]
  },
  {
   "cell_type": "code",
   "execution_count": 55,
   "id": "de8472c7",
   "metadata": {},
   "outputs": [
    {
     "name": "stdout",
     "output_type": "stream",
     "text": [
      "Hello World\n"
     ]
    }
   ],
   "source": [
    "# Your first python code\n",
    "# print Hello World to console\n",
    "print('Hello World')"
   ]
  },
  {
   "cell_type": "markdown",
   "id": "bcbd5ac3",
   "metadata": {},
   "source": [
    "## 2276 Modify and delete elements in the dictionary"
   ]
  },
  {
   "cell_type": "code",
   "execution_count": 56,
   "id": "6a2e8b99",
   "metadata": {},
   "outputs": [],
   "source": [
    "def modify_and_delete_elements_in_the_dictionary(dict_1: dict) -> dict:\n",
    "    '''\n",
    "    :param dict_1: Input dictionary\n",
    "    :return: Newly generated dictionary after modification and deletion\n",
    "    '''\n",
    "    # -- write your code here --\n",
    "    dict_1['Team'] = 'Los_Angeles_Lakers'\n",
    "    return  dict_1.pop('Age')"
   ]
  },
  {
   "cell_type": "markdown",
   "id": "9ebc4f37",
   "metadata": {},
   "source": [
    "## 2277 Calculate the sum of all values in the dictionary"
   ]
  },
  {
   "cell_type": "code",
   "execution_count": 57,
   "id": "8d3f8277",
   "metadata": {},
   "outputs": [],
   "source": [
    "def dict_value_sum(dict_1: dict) -> dict:\n",
    "    '''\n",
    "    :param dict_1: Input dictionary\n",
    "    :return: Sum of dictionary values\n",
    "    '''\n",
    "    # -- write your code here --\n",
    "    n = 0\n",
    "    for i in dict_1:\n",
    "        n += dict_1[i]\n",
    "    return n"
   ]
  },
  {
   "cell_type": "markdown",
   "id": "27b174de",
   "metadata": {},
   "source": [
    "## 2279 Reverse Integer Order (Python version)"
   ]
  },
  {
   "cell_type": "code",
   "execution_count": 58,
   "id": "3777f540",
   "metadata": {},
   "outputs": [
    {
     "name": "stdout",
     "output_type": "stream",
     "text": [
      "23\n",
      "32\n"
     ]
    }
   ],
   "source": [
    "# write your code here\n",
    "# read data from console\n",
    "n = int(input())\n",
    "# output the answer to the console according to the requirements of the question\n",
    "s = 0\n",
    "while n:\n",
    "\ts = s*10 + n%10\n",
    "\tn = n//10\n",
    "print(s)\n",
    "# print(int(str(n)[::-1]))"
   ]
  },
  {
   "cell_type": "markdown",
   "id": "43cd78d9",
   "metadata": {},
   "source": [
    "## 2281 Merge dictionary"
   ]
  },
  {
   "cell_type": "code",
   "execution_count": 60,
   "id": "5b130dbe",
   "metadata": {},
   "outputs": [],
   "source": [
    "def merge(dict_1, dict_2: dict) -> dict:\n",
    "    '''\n",
    "    :param dict_1: Input dictionary one\n",
    "    :param dict_2: Input dictionary two\n",
    "    :return: Merge dictionary\n",
    "    '''\n",
    "    # -- write your code here --\n",
    "    dict_2.update(dict_1)"
   ]
  },
  {
   "cell_type": "markdown",
   "id": "4974d898",
   "metadata": {},
   "source": [
    "## 2282 Circular Perimeter (Python version)"
   ]
  },
  {
   "cell_type": "code",
   "execution_count": 62,
   "id": "1440f33a",
   "metadata": {},
   "outputs": [],
   "source": [
    "import sys\n",
    "import math\n",
    "# r = int(sys.argv[1])\n",
    "# write your code here\n",
    "# please print the perimeter of the circle\n",
    "# print('%.2f' % (2*math.pi*r))"
   ]
  },
  {
   "cell_type": "markdown",
   "id": "31fc57b5",
   "metadata": {},
   "source": [
    "## 2284 Judge The Multiple Of 3 And 5 (Python version)"
   ]
  },
  {
   "cell_type": "code",
   "execution_count": 65,
   "id": "709c951b",
   "metadata": {},
   "outputs": [],
   "source": [
    "import sys\n",
    "\n",
    "# n = int(sys.argv[1])\n",
    "# write your code here\n",
    "# print(n%15 is 0)"
   ]
  },
  {
   "cell_type": "markdown",
   "id": "689d1fe5",
   "metadata": {},
   "source": [
    "## 2286 Find the greatest common divisor (Python version)"
   ]
  },
  {
   "cell_type": "code",
   "execution_count": 67,
   "id": "f36e86c1",
   "metadata": {},
   "outputs": [],
   "source": [
    "import sys\n",
    "\n",
    "# a = int(sys.argv[1])\n",
    "# b = int(sys.argv[2])\n",
    "# write your code here\n",
    "# please print the greatest common divisor of a and b\n",
    "# i = min(a, b)\n",
    "# while a%i or b%i:\n",
    "# \ti -= 1\n",
    "# print(i)"
   ]
  },
  {
   "cell_type": "markdown",
   "id": "58c27250",
   "metadata": {},
   "source": [
    "## 2288 ASCII Code Of The Character (Python version)"
   ]
  },
  {
   "cell_type": "code",
   "execution_count": 69,
   "id": "77ee445c",
   "metadata": {},
   "outputs": [
    {
     "name": "stdout",
     "output_type": "stream",
     "text": [
      "a\n",
      "97\n"
     ]
    }
   ],
   "source": [
    "# write your code here\n",
    "c = input()\n",
    "print((ord(c)))"
   ]
  },
  {
   "cell_type": "markdown",
   "id": "02e270b7",
   "metadata": {},
   "source": [
    "## 2291 Splicing and copying of tuple"
   ]
  },
  {
   "cell_type": "code",
   "execution_count": 70,
   "id": "1abf70af",
   "metadata": {},
   "outputs": [],
   "source": [
    "def tuple_connections_repeat(tup_1: tuple, tup_2: tuple) -> None:\n",
    "    \"\"\"\n",
    "    :param tup_1: The first source tuple\n",
    "    :param tup_2: The second source tuple\n",
    "    :return: None\n",
    "    \"\"\"\n",
    "    # --write your code here--\n",
    "\n",
    "    # print tup_3, tup_4\n",
    "    tup_3 = tup_1 + tup_2\n",
    "    tup_4 = tup_2*3\n",
    "    print(tup_3, tup_4, sep='\\n')"
   ]
  },
  {
   "cell_type": "markdown",
   "id": "c9129bee",
   "metadata": {},
   "source": [
    "## 2314 List modification, addition and deletion of elements"
   ]
  },
  {
   "cell_type": "code",
   "execution_count": 71,
   "id": "02b1f5a4",
   "metadata": {},
   "outputs": [],
   "source": [
    "def list_update_del(list_1: list) -> list:\n",
    "    \"\"\"\n",
    "    :param list_1:  the source list\n",
    "    :return: modified list_1\n",
    "    \"\"\"\n",
    "    # --write your code here--\n",
    "    list_1[2] = 1999\n",
    "    del list_1[0]\n",
    "    list_1.append('jiuzhang')\n",
    "    return list_1"
   ]
  },
  {
   "cell_type": "markdown",
   "id": "f320a1e3",
   "metadata": {},
   "source": [
    "## 2315 Judge the triangle (Python version)"
   ]
  },
  {
   "cell_type": "code",
   "execution_count": 72,
   "id": "37845833",
   "metadata": {},
   "outputs": [
    {
     "name": "stdout",
     "output_type": "stream",
     "text": [
      "2\n",
      "3\n",
      "4\n",
      "Is a triangle\n"
     ]
    }
   ],
   "source": [
    "# write your code here\n",
    "# read data from console\n",
    "# output the answer to the console according to the requirements of the question\n",
    "a = int(input())\n",
    "b = int(input())\n",
    "c = int(input())\n",
    "\n",
    "list_1 = [a, b, c]\n",
    "if 2*(max(list_1)) < sum(list_1):\n",
    "\tprint('Is a triangle')\n",
    "else:\n",
    "\tprint('Not a triangle')"
   ]
  },
  {
   "cell_type": "markdown",
   "id": "4bcb746e",
   "metadata": {},
   "source": [
    "## 2317 Take A Square Root (Python version)"
   ]
  },
  {
   "cell_type": "code",
   "execution_count": 73,
   "id": "98180e16",
   "metadata": {},
   "outputs": [
    {
     "name": "stdout",
     "output_type": "stream",
     "text": [
      "4\n",
      "2.00\n"
     ]
    }
   ],
   "source": [
    "# write your code here\n",
    "# read data from console\n",
    "from math import sqrt\n",
    "# output the answer to the console according to the requirements of the question\n",
    "n = int(input())\n",
    "print('%.2f' % sqrt(n))"
   ]
  },
  {
   "cell_type": "markdown",
   "id": "938bdc65",
   "metadata": {},
   "source": [
    "## 2319 List nesting"
   ]
  },
  {
   "cell_type": "code",
   "execution_count": 74,
   "id": "0420e07f",
   "metadata": {},
   "outputs": [],
   "source": [
    "def list_nesting(list_1: list, list_2: list) -> list:\n",
    "    \"\"\"\n",
    "    :param list_1: the first list\n",
    "    :param list_2: the second list\n",
    "    :return: a new list\n",
    "    \"\"\"\n",
    "    # --write your code here--\n",
    "\n",
    "    # return list_3\n",
    "    list_3 = [list_1, list_2]\n",
    "    return list_3"
   ]
  },
  {
   "cell_type": "markdown",
   "id": "5d26f260",
   "metadata": {},
   "source": [
    "## 2321 Hit rate rating (Python version)"
   ]
  },
  {
   "cell_type": "code",
   "execution_count": 75,
   "id": "3678c06f",
   "metadata": {
    "scrolled": true
   },
   "outputs": [
    {
     "name": "stdout",
     "output_type": "stream",
     "text": [
      "78\n",
      "C\n"
     ]
    }
   ],
   "source": [
    "# write your code here\n",
    "# read data from console\n",
    "n = int(input())\n",
    "# output the answer to the console according to the requirements of the question\n",
    "if n >= 90: print('A')\n",
    "elif n >= 80: print('B')\n",
    "elif n >= 70: print('C')\n",
    "elif n >= 60: print('D')\n",
    "else: print('E')"
   ]
  },
  {
   "cell_type": "markdown",
   "id": "51be6d76",
   "metadata": {},
   "source": [
    "## 2324 Output String In Reverse Order (Python version)"
   ]
  },
  {
   "cell_type": "code",
   "execution_count": 76,
   "id": "b85f137a",
   "metadata": {},
   "outputs": [
    {
     "name": "stdout",
     "output_type": "stream",
     "text": [
      "dsadas\n",
      "sadasd\n"
     ]
    }
   ],
   "source": [
    "# write your code here\n",
    "# read data from console\n",
    "s = input()\n",
    "# output the answer to the console according to the requirements of the question\n",
    "print(s[::-1])"
   ]
  },
  {
   "cell_type": "markdown",
   "id": "7acd0161",
   "metadata": {},
   "source": [
    "## 2327 Finding The Distance Between Two Points In Rectangular Coordinate System (Python version)"
   ]
  },
  {
   "cell_type": "code",
   "execution_count": 77,
   "id": "04b776d8",
   "metadata": {},
   "outputs": [
    {
     "name": "stdout",
     "output_type": "stream",
     "text": [
      "3\n",
      "4\n",
      "5\n",
      "6\n",
      "2.83\n"
     ]
    }
   ],
   "source": [
    "# write your code here\n",
    "# read data from console\n",
    "x1 = int(input())\n",
    "y1 = int(input())\n",
    "x2 = int(input())\n",
    "y2 = int(input())\n",
    "# output the answer to the console according to the requirements of the question\n",
    "print('%.2f' % (((x1-x2))**2 + (y1-y2)**2)**0.5)"
   ]
  },
  {
   "cell_type": "markdown",
   "id": "5ef23cbd",
   "metadata": {},
   "source": [
    "## 2328 Operations between sets"
   ]
  },
  {
   "cell_type": "code",
   "execution_count": 78,
   "id": "a3c2dac9",
   "metadata": {},
   "outputs": [],
   "source": [
    "def set_operations(set_1: set, set_2: set) -> set:\n",
    "    '''\n",
    "    :param set_1: Input set one\n",
    "    :param set_2: Input set two\n",
    "    :return: The result of the set operation\n",
    "    '''\n",
    "    # -- write your code here --\n",
    "    print('Intersection: %d' % (set_1&set_2))\n",
    "    print('Union: %d' % (set_1|set_2))\n",
    "    print('Difference: %d' % (set_1-set_2))\n",
    "    print('Symmetric Difference: %d' % (set_1^set_2))"
   ]
  },
  {
   "cell_type": "markdown",
   "id": "4d607cae",
   "metadata": {},
   "source": [
    "## 2330 Calculate the time after x seconds"
   ]
  },
  {
   "cell_type": "code",
   "execution_count": 79,
   "id": "ebe9b10a",
   "metadata": {},
   "outputs": [
    {
     "name": "stdout",
     "output_type": "stream",
     "text": [
      "23:45:34\n",
      "79\n",
      "23:46:53\n"
     ]
    }
   ],
   "source": [
    "# write your code here\n",
    "# read data from console\n",
    "\n",
    "# output the answer to the console according to the requirements of the question\n",
    "s = input().replace('\\r', '').split(':')\n",
    "x = int(input())\n",
    "\n",
    "a = []\n",
    "for i in s:\n",
    "\ta.append(int(i))\n",
    "b = a[0]*60**2+a[1]*60+a[2]+x\n",
    "h = b//3600\n",
    "if h > 24:\n",
    "\th = h%24\n",
    "m = b%3600//60\n",
    "s = b%3600%60\n",
    "print('%02d:%02d:%02d' % (h, m, s))"
   ]
  },
  {
   "cell_type": "markdown",
   "id": "5436a1c3",
   "metadata": {},
   "source": [
    "## 2331 Find the length, maximum value and minimum value of list"
   ]
  },
  {
   "cell_type": "code",
   "execution_count": 80,
   "id": "da727985",
   "metadata": {},
   "outputs": [],
   "source": [
    "def list_max_min_len(list_1: list) -> tuple:\n",
    "    \"\"\"\n",
    "    :param list_1: the source list\n",
    "    :return: return the length, mdef list_max_min_len(list_1: list) -> tuple:\n",
    "    \"\"\"\n",
    "    # --write your code here--\n",
    "    return(len(list_1), max(list_1), min(list_1))"
   ]
  },
  {
   "cell_type": "markdown",
   "id": "c87b25da",
   "metadata": {},
   "source": [
    "## 2332 Calculate Factorial (Python Edition)"
   ]
  },
  {
   "cell_type": "code",
   "execution_count": 81,
   "id": "18bea404",
   "metadata": {},
   "outputs": [
    {
     "name": "stdout",
     "output_type": "stream",
     "text": [
      "3\n",
      "6\n"
     ]
    }
   ],
   "source": [
    "# write your code here\n",
    "# read data from console\n",
    "n = int(input())\n",
    "# output the answer to the console according to the\n",
    "# requirements of the question\n",
    "a = 1\n",
    "for i in range(2,n+1):\n",
    "\ta = a*i\n",
    "print(a)"
   ]
  },
  {
   "cell_type": "markdown",
   "id": "10956164",
   "metadata": {},
   "source": [
    "## 2937 The rightmost 1 of a binary number"
   ]
  },
  {
   "cell_type": "code",
   "execution_count": 82,
   "id": "1eb184fe",
   "metadata": {},
   "outputs": [
    {
     "name": "stdout",
     "output_type": "stream",
     "text": [
      "6\n",
      "2\n"
     ]
    }
   ],
   "source": [
    "# Get the number a\n",
    "num_1 = int(input())\n",
    "# Please write your code here\n",
    "print(num_1 & (-num_1))"
   ]
  },
  {
   "cell_type": "markdown",
   "id": "d15abb00",
   "metadata": {},
   "source": [
    "## 2333 Print matrix (Python version)"
   ]
  },
  {
   "cell_type": "code",
   "execution_count": 88,
   "id": "a169ff3b",
   "metadata": {},
   "outputs": [
    {
     "name": "stdout",
     "output_type": "stream",
     "text": [
      "3\n",
      "1 2 3\n",
      "4 5 6\n",
      "7 8 9\n"
     ]
    }
   ],
   "source": [
    "# write your code here\n",
    "# read data from console\n",
    "n = int(input())\n",
    "# output the answer to the console according to the requirements of the question\n",
    "l = []\n",
    "for i in range(1, n**2+1):\n",
    "    if i%n != 0:\n",
    "        print(i, end=' ')\n",
    "    else:\n",
    "        print(i)"
   ]
  },
  {
   "cell_type": "markdown",
   "id": "34ae3273",
   "metadata": {},
   "source": [
    "## 2335 Find all the daffodils (Python version)"
   ]
  },
  {
   "cell_type": "code",
   "execution_count": 89,
   "id": "9e672986",
   "metadata": {},
   "outputs": [
    {
     "name": "stdout",
     "output_type": "stream",
     "text": [
      "153\n",
      "370\n",
      "371\n",
      "407\n"
     ]
    }
   ],
   "source": [
    "# write your code here\n",
    "# output the answer to the console according to the requirements of the question\n",
    "for i in range(100, 1000):\n",
    "    i = str(i)\n",
    "    if sum([int(j)**3 for j in i]) == int(i):\n",
    "        print(i)"
   ]
  },
  {
   "cell_type": "markdown",
   "id": "d579184d",
   "metadata": {},
   "source": [
    "## 2337 Set containment"
   ]
  },
  {
   "cell_type": "code",
   "execution_count": 90,
   "id": "0e7592b9",
   "metadata": {},
   "outputs": [],
   "source": [
    "def set_containment(set_1: set, set_2: set) -> None:\n",
    "    '''\n",
    "    :param set_1: Input set_1\n",
    "    :param set_2: Input set_2\n",
    "    :return: None\n",
    "    '''\n",
    "    # -- write your code here --\n",
    "    # print(len(set_2-set_1)==0)\n",
    "    # print(len(set_1-set_2)==0)\n",
    "    # print(len(set_1&set_2)==0)\n",
    "\n",
    "    a = set_2.issubset(set_1)\n",
    "    b = set_1.issubset(set_2)\n",
    "    c = set_1.isdisjoint(set_2)\n",
    "    print(a, b, c, sep='\\n')"
   ]
  },
  {
   "cell_type": "markdown",
   "id": "4a09b949",
   "metadata": {},
   "source": [
    "## 2938 Complete the chain table class (I) (Medium)\n",
    "### Description: Given an unfinished linked list class LinkedList, complete the iterable methods of this class and iterate over the instances of this class to obtain the complete linked list."
   ]
  },
  {
   "cell_type": "code",
   "execution_count": 22,
   "id": "d2304f56",
   "metadata": {},
   "outputs": [],
   "source": [
    "class Node:\n",
    "    def __init__(self, val=None, next=None):\n",
    "        self.val = val\n",
    "        self.next = next\n",
    "\n",
    "\n",
    "class LinkedList:\n",
    "    def __init__(self):\n",
    "        self.__length = 0\n",
    "        self.head = None\n",
    "        self.tail = None\n",
    "\n",
    "    def add(self, val):\n",
    "        newnode = Node(val)\n",
    "        if self.__length == 0:\n",
    "            self.head = newnode\n",
    "            self.tail = self.head\n",
    "        else:\n",
    "            self.tail.next = newnode\n",
    "            self.tail = newnode\n",
    "        self.__length += 1\n",
    "\n",
    "    def __iter__(self):\n",
    "    # Please write your code here\n",
    "        cur = self.head\n",
    "        while cur:\n",
    "            yield cur.val\n",
    "            cur = cur.next\n",
    "        return cur"
   ]
  },
  {
   "cell_type": "markdown",
   "id": "b27d178b",
   "metadata": {},
   "source": [
    "## 2939 Complete the chain table class (II)\n",
    "### Description: Given an unfinished linked list class LinkedList, add a method to this class so that calling the len() method on an instance of this class will return the length of this linked list."
   ]
  },
  {
   "cell_type": "code",
   "execution_count": null,
   "id": "c8820709",
   "metadata": {},
   "outputs": [],
   "source": [
    "class Node:\n",
    "    def __init__(self, val=None, next=None):\n",
    "        self.val = val\n",
    "        self.next = next\n",
    "\n",
    "\n",
    "class LinkedList:\n",
    "    def __init__(self):\n",
    "        self.length = 0\n",
    "        self.head = None\n",
    "        self.tail = None\n",
    "\n",
    "    def add(self, val):\n",
    "        newnode = Node(val)\n",
    "        if self.length == 0:\n",
    "            self.head = newnode\n",
    "            self.tail = self.head\n",
    "        else:\n",
    "            self.tail.next = newnode\n",
    "            self.tail = newnode\n",
    "        self.length += 1\n",
    "\n",
    "    def __iter__(self):\n",
    "        cur = self.head\n",
    "        while cur:\n",
    "            yield cur.val\n",
    "            cur = cur.next\n",
    "\n",
    "    # Please write your code here\n",
    "    def __len__(self):\n",
    "        return  self.length"
   ]
  },
  {
   "cell_type": "markdown",
   "id": "7ca31f20",
   "metadata": {},
   "source": [
    "## 2940 Byte string and string interconversion\n",
    "### Description: Given a byte string content, the string text asks you to convert this byte string to a string in the UTF-8 character set, convert the string to a byte string, and print them out."
   ]
  },
  {
   "cell_type": "code",
   "execution_count": null,
   "id": "8e1f9295",
   "metadata": {},
   "outputs": [],
   "source": [
    "# read data from console\n",
    "content = eval(input())\n",
    "text = eval(input())\n",
    "# output the answer to the console according to the requirements of the question\n",
    "print(content.decode())\n",
    "print(text.encode())"
   ]
  },
  {
   "cell_type": "markdown",
   "id": "1238b6b3",
   "metadata": {},
   "source": [
    "## 2942 Blocking people on the blacklist\n",
    "### Description: Given a list of blacklists blacklist and a list of customers customers for a store's year-end sale, please complete the function selection with strict control."
   ]
  },
  {
   "cell_type": "code",
   "execution_count": null,
   "id": "473ace9f",
   "metadata": {},
   "outputs": [],
   "source": [
    "class DiscoverBlacklist(Exception):\n",
    "    pass\n",
    "\n",
    "\n",
    "def selection(blacklist: list, customers: list):\n",
    "    # please write your code here\n",
    "    for customer in customers:\n",
    "        if customer in blacklist:\n",
    "            raise DiscoverBlacklist('Alert, %s is on the blacklist.' % customer) \n",
    "    return 'Welcome to the next visit'"
   ]
  },
  {
   "cell_type": "markdown",
   "id": "4438ceca",
   "metadata": {},
   "source": [
    "## 2947 Determine if it is in the list\n",
    "### Description: Given a number num_1 and a list list_1, add num_1 to the square of num_1 and divide by num_1 + 2, then determine if the number is in the list list_1 and print out the result."
   ]
  },
  {
   "cell_type": "code",
   "execution_count": null,
   "id": "c78d49d3",
   "metadata": {},
   "outputs": [],
   "source": [
    "import sys\n",
    "# Get the num, list\n",
    "num_1 = int(sys.argv[1])\n",
    "list_1 = eval(sys.argv[2])\n",
    "# please write your code here\n",
    "print((num_1+num_1*num_1)//(num_1+2) in list_1)"
   ]
  },
  {
   "cell_type": "markdown",
   "id": "df1d1cf9",
   "metadata": {},
   "source": [
    "## 2948 Discounts for members\n",
    "### Description: There is a new item in the store and regular customers need to buy it at the original price, while members can enjoy 30% discount. If a customer is on the blacklist, then the store will not sell the item to him. There is a list of members, and a blacklist. A customer comes in and you print out the price that the customer will eventually have to pay. If the customer is on the blacklist, you need to print -1."
   ]
  },
  {
   "cell_type": "code",
   "execution_count": null,
   "id": "bb6629f5",
   "metadata": {},
   "outputs": [],
   "source": [
    "# Get Variables\n",
    "price = int(input())\n",
    "customer = eval(input())\n",
    "vip = eval(input())\n",
    "blacklist = eval(input())\n",
    "# please write your code here\n",
    "if customer in vip and customer not in blacklist:\n",
    "    print ('%.2f' % (0.7*price))\n",
    "else:\n",
    "    print(-1)"
   ]
  },
  {
   "cell_type": "markdown",
   "id": "3492626e",
   "metadata": {},
   "source": [
    "## 2949 Find the number that appears an odd number of times\n",
    "### Description: Given a list list_1 with one and only one number appearing an odd number of times and all other numbers appearing an even number of times, find this number and print it out."
   ]
  },
  {
   "cell_type": "code",
   "execution_count": null,
   "id": "30193c5b",
   "metadata": {},
   "outputs": [],
   "source": [
    "# Get List\n",
    "list_1 = eval(input())\n",
    "# Please write your code here\n",
    "for i in list_1: \n",
    "    if list_1.count(i) %2 == 1:\n",
    "        print (i)\n",
    "        break"
   ]
  },
  {
   "cell_type": "markdown",
   "id": "12a2fff2",
   "metadata": {},
   "source": [
    "## 2950 Check if it is the same object\n",
    "### Description: You are asked to define two variables num_1, num_2. Then do the following."
   ]
  },
  {
   "cell_type": "code",
   "execution_count": null,
   "id": "da51b4f3",
   "metadata": {},
   "outputs": [],
   "source": [
    "# Please write your code here\n",
    "for x in (256, 257, -5, -6):\n",
    "    num_1 = x\n",
    "    num_2 = x\n",
    "    print(num_1 is num_2)"
   ]
  },
  {
   "cell_type": "markdown",
   "id": "6d7d8713",
   "metadata": {},
   "source": [
    "## 2951 Find a right-angled side of a right triangle\n",
    "### Description: Given a right triangle with hypotenuse c, and one of its right-angled sides a, print out its other right-angled side.(Results are retained to integer digits only)"
   ]
  },
  {
   "cell_type": "code",
   "execution_count": null,
   "id": "3aefc7b3",
   "metadata": {},
   "outputs": [],
   "source": [
    "import math\n",
    "# Get a, c\n",
    "a = int(input())\n",
    "c = int(input())\n",
    "# Please write your code here\n",
    "print (int(math.sqrt(c**2 - a**2)))"
   ]
  },
  {
   "cell_type": "markdown",
   "id": "68c8798f",
   "metadata": {},
   "source": [
    "## 2955 Getting to know python deep and shallow copies\n",
    "### Description: Given a list list_1, and another list list_2, with list_1 nested in list_2, we will generate a shallow copy list list_3, and a deep copy list list_4, using a shallow copy, and a deep copy of the list_2 list, respectively, and ask you to print out five boolean values in order."
   ]
  },
  {
   "cell_type": "code",
   "execution_count": null,
   "id": "8f45b77e",
   "metadata": {},
   "outputs": [],
   "source": [
    "import copy\n",
    "list_1 = [1, 2, 3]\n",
    "list_2 = [list_1]\n",
    "list_3 = copy.copy(list_2)\n",
    "list_4 = copy.deepcopy(list_2)\n",
    "# Please write your code here\n",
    "print(list_1 is list_2[0])\n",
    "print(list_1 is list_3[0])\n",
    "print(list_1 is list_4)\n",
    "print(list_2[0] is list_3[0])\n",
    "print(list_2 is list_4)"
   ]
  },
  {
   "cell_type": "markdown",
   "id": "e4b312ab",
   "metadata": {},
   "source": [
    "## 2956 Determine if a discount is available\n",
    "### Description: For a shop anniversary, given a list of all items, items starting with j, z, d, f and h will be discounted, please count the discounted items and print them to the console as a list."
   ]
  },
  {
   "cell_type": "code",
   "execution_count": null,
   "id": "79968703",
   "metadata": {},
   "outputs": [],
   "source": [
    "list_1 = eval(input())\n",
    "# Please write your code here\n",
    "L = [i for i in list_1 if i[0] in  ['j', 'z', 'd', 'f', 'h']]\n",
    "print(L)"
   ]
  },
  {
   "cell_type": "markdown",
   "id": "9b1c4325",
   "metadata": {},
   "source": [
    "## 2958 Fetch the numbers in the list for operation\n",
    "### Description: Given a list list_1 containing four character numbers, convert the four character numbers to integer numbers by performing the following operations. a÷b×(c+d), keeping two decimal places for the result, and then print the result to the console."
   ]
  },
  {
   "cell_type": "code",
   "execution_count": null,
   "id": "65499c92",
   "metadata": {},
   "outputs": [],
   "source": [
    "list_1 = eval(input())\n",
    "# Please your code here\n",
    "a, b, c, d = map(int, list_1)\n",
    "print('%.2f' % (a/b*(c+d)))"
   ]
  },
  {
   "cell_type": "markdown",
   "id": "02845c66",
   "metadata": {},
   "source": [
    "## 2959 Find the average of the maximum values in each list\n",
    "### Description: Given a list list_1 with multiple nested lists, calculate the maximum value of each nested list and output the average of all the maximum values."
   ]
  },
  {
   "cell_type": "code",
   "execution_count": null,
   "id": "8bd70bd4",
   "metadata": {},
   "outputs": [],
   "source": [
    "list_1 = eval(input())\n",
    "# Please your code here\n",
    "max_list = [max(i) for i in list_1]\n",
    "print('%.2f' % (sum(max_list)/len(max_list)))"
   ]
  },
  {
   "cell_type": "markdown",
   "id": "e702018b",
   "metadata": {},
   "source": [
    "## 2960 Define a function\n",
    "### Description: You are asked to define a function my_name that returns a string 'hello'."
   ]
  },
  {
   "cell_type": "code",
   "execution_count": 4,
   "id": "af29ee6f",
   "metadata": {},
   "outputs": [],
   "source": [
    "def my_name(self):\n",
    "    return 'hello'"
   ]
  }
 ],
 "metadata": {
  "kernelspec": {
   "display_name": "Python 3 (ipykernel)",
   "language": "python",
   "name": "python3"
  },
  "language_info": {
   "codemirror_mode": {
    "name": "ipython",
    "version": 3
   },
   "file_extension": ".py",
   "mimetype": "text/x-python",
   "name": "python",
   "nbconvert_exporter": "python",
   "pygments_lexer": "ipython3",
   "version": "3.9.7"
  }
 },
 "nbformat": 4,
 "nbformat_minor": 5
}
