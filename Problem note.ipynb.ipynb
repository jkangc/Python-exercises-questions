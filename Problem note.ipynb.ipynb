{
 "cells": [
  {
   "cell_type": "markdown",
   "id": "005bf4c9",
   "metadata": {},
   "source": [
    "## 2089 Implement timer decorator\n",
    "### Description: Decorator is a special python syntax, You can written on the above line of the function to be decorated with the syntax @decorator_name like this: @decorator_name\n",
    "### def func():\n",
    "###    # do something\n",
    "###    pass"
   ]
  },
  {
   "cell_type": "code",
   "execution_count": null,
   "id": "9e740cc2",
   "metadata": {},
   "outputs": [],
   "source": []
  },
  {
   "cell_type": "markdown",
   "id": "e5d9fb63",
   "metadata": {},
   "source": [
    "## 2097 Find the sum of two parameters\n",
    "###  Description: Please write Python code, import the function plus from a_plus_b.py to main.py, and read two parameters from the command, then call the parameters from a_plus_b and output the sum of addition, and finally print the result."
   ]
  },
  {
   "cell_type": "code",
   "execution_count": null,
   "id": "333dc9a9",
   "metadata": {},
   "outputs": [],
   "source": [
    "import sys\n",
    "\n",
    "# try to import the function plus from a_plus_b.py in the same directory\n",
    "# - write your code here -\n",
    "from a_plus_b import plus\n",
    "# read two parameters from command like `python main.py 1 2` by sys.argv\n",
    "# - write your code here -\n",
    "a, b = int(sys.argv[1]), int(sys.argv[2])\n",
    "# call plus function and add them up\n",
    "# - write your code here -\n",
    "s = a+b\n",
    "# print the sum to the console\n",
    "# - write your code here -\n",
    "print(s)"
   ]
  },
  {
   "cell_type": "markdown",
   "id": "e73ec9e0",
   "metadata": {},
   "source": [
    "## 2098 Read the values in the file and sum them\n",
    "### Description: Please write the relevant Python code in main.py, read the contents of the file from the given path input_filepath, calculate and sum them, and finally print the result of the calculation."
   ]
  },
  {
   "cell_type": "code",
   "execution_count": null,
   "id": "96d9e6ad",
   "metadata": {},
   "outputs": [],
   "source": [
    "import sys\n",
    "\n",
    "input_filepath = sys.argv[1]\n",
    "\n",
    "# write your code here to read file content\n",
    "# and print it to console\n",
    "with open(input_filepath,'r') as f:\n",
    "    data_list = f.read().split(' ')\n",
    "print(sum(map(int,data_list)))"
   ]
  },
  {
   "cell_type": "markdown",
   "id": "fc7480de",
   "metadata": {},
   "source": [
    "## 2105 Write Hello World! in the file\n",
    "### Description: Please write the relevant Python code in the file write_hello_world.py, use the open() function to read the file content from the given file path filepath, and write'Hello World!' to the file."
   ]
  },
  {
   "cell_type": "code",
   "execution_count": null,
   "id": "fa72941a",
   "metadata": {},
   "outputs": [],
   "source": [
    "def write_to_file(filepath):\n",
    "    # write your code here\n",
    "    # you code should write \"Hello World!\" to the give filepath\n",
    "    # do not change the function name\n",
    "    with open(filepath, 'w') as f:\n",
    "        f.write(\"Hello World!\")\n",
    "        f.close()"
   ]
  },
  {
   "cell_type": "markdown",
   "id": "8e376a25",
   "metadata": {},
   "source": [
    "## 2106 Create a file directory and write Hello World!\n",
    "### Description: Please write Python code. If there may not be a file directory, import the os library and create a file directory, and write'Hello World!' into the newly created file."
   ]
  },
  {
   "cell_type": "code",
   "execution_count": null,
   "id": "0191d970",
   "metadata": {},
   "outputs": [],
   "source": [
    "import os\n",
    "def write_to_file(path):\n",
    "    file = os.path.dirname(path)\n",
    "    if not os.path.exists(file):\n",
    "        os.makedirs(file)\n",
    "    with open(path, 'w') as f:\n",
    "        f.write('Hello World!')"
   ]
  },
  {
   "cell_type": "markdown",
   "id": "c2802459",
   "metadata": {},
   "source": [
    "## 2123 Get yesterday's date\n",
    "### Description: Write Python code that implements a function named yesterday. This function will get the date of the day before the incoming date, and finally return that date."
   ]
  },
  {
   "cell_type": "code",
   "execution_count": null,
   "id": "90947278",
   "metadata": {},
   "outputs": [],
   "source": [
    "# import the required modules\n",
    "import datetime\n",
    "\n",
    "# complete custom functions\n",
    "def yesterday(today: datetime) -> datetime:\n",
    "    '''\n",
    "    :param today: get the date to be queried\n",
    "    :return: the date of yesterday\n",
    "    '''\n",
    "    # write your code here\n",
    "    return today + datetime.timedelta(days = -1)"
   ]
  },
  {
   "cell_type": "markdown",
   "id": "6d3186df",
   "metadata": {},
   "source": [
    "## 2124 print hello\n",
    "### Description: There is a function print_hello defined in solution and you need to refine the code in solution.py to print out the phrase Hello Python! We will import the code you refined in solution.py in main.py and run it. If your code logic works correctly, the program will print Hello Python!."
   ]
  },
  {
   "cell_type": "code",
   "execution_count": null,
   "id": "3c05491d",
   "metadata": {},
   "outputs": [],
   "source": [
    "def hello_python():\n",
    "    # --write your code here--\n",
    "    print('Hello Python!')"
   ]
  },
  {
   "cell_type": "markdown",
   "id": "375bfccd",
   "metadata": {},
   "source": [
    "## 2125 Call the methods in the file main\n",
    "### Description: In main.py there is a function we defined called let_run, please refine the code in solution.py to call and run the let_run method in main.py. If your code is logically correct and runs successfully, the program will print an I'm running! statement."
   ]
  },
  {
   "cell_type": "code",
   "execution_count": null,
   "id": "d0ca0265",
   "metadata": {},
   "outputs": [],
   "source": [
    "# --write your code here--\n",
    "from main import let_run\n",
    "let_run()"
   ]
  },
  {
   "cell_type": "markdown",
   "id": "4ba23ef1",
   "metadata": {},
   "source": [
    "## 2126 Import one of the files in a module folder\n",
    "### Description: In this question, we will practice the modules (files) under the import folder in python. In addition to importing modules from the current environment directory, Python can also import modules in the current environment directory. As follows:"
   ]
  },
  {
   "cell_type": "code",
   "execution_count": null,
   "id": "ce51026a",
   "metadata": {},
   "outputs": [],
   "source": [
    "# write your code here\n",
    "from branch import solution \n",
    "# keep the code below\n",
    "solution.do()"
   ]
  },
  {
   "cell_type": "markdown",
   "id": "4345ca18",
   "metadata": {},
   "source": [
    "## 2127 Implementing reverse sorting of numbers in a list\n",
    "### Description: Please refine the code in solution.py to implement the list_sort function. The list_sort function has one argument list_in, please sort the numbers in the argument list_in in reverse order and return it. We will import the code you refined in solution.py in main.py and run it. If your code is logically correct and runs successfully, the program will return a list as the result of the calculation.\n",
    "\n"
   ]
  },
  {
   "cell_type": "code",
   "execution_count": null,
   "id": "3ba95ffc",
   "metadata": {},
   "outputs": [],
   "source": [
    "def list_sort(list_in: list) -> list:\n",
    "    \"\"\"\n",
    "    :param list_in: The first input list\n",
    "    :return: A list sorted from largest to smallest\n",
    "    \"\"\"\n",
    "    # write your code here\n",
    "    list_in.sort(reverse=True)\n",
    "    return list_in"
   ]
  },
  {
   "cell_type": "markdown",
   "id": "7e0d0f24",
   "metadata": {},
   "source": [
    "## 2128 Use of list built-in methods\n",
    "### Description: Please refine the code in solution.py to implement the following functions"
   ]
  },
  {
   "cell_type": "code",
   "execution_count": null,
   "id": "11d8bf6f",
   "metadata": {},
   "outputs": [],
   "source": [
    "def get_len(list_in: list) -> int:\n",
    "    \"\"\"\n",
    "    :param list_in: The first input list\n",
    "    :return: The length of the list_in\n",
    "    \"\"\"\n",
    "    # write your code here\n",
    "    return len(list_in)\n",
    "\n",
    "def get_max(list_in: list) -> int:\n",
    "    \"\"\"\n",
    "    :param list_in: The first input list\n",
    "    :return: The largest value of list_in\n",
    "    \"\"\"\n",
    "    # write your code here\n",
    "    return max(list_in)\n",
    "\n",
    "def get_min(list_in: list) -> int:\n",
    "    \"\"\"\n",
    "    :param list_in: The first input list\n",
    "    :return: The smallest value of list_in\n",
    "    \"\"\"\n",
    "    # write your code here\n",
    "    return min(list_in)\n",
    "\n",
    "def pop_list(list_in: list) -> list:\n",
    "    \"\"\"\n",
    "    :param tuple_in: The first input tuple\n",
    "    :return: The list delete the last element\n",
    "    \"\"\"\n",
    "    # write your code here\n",
    "    return list_in.pop()"
   ]
  },
  {
   "cell_type": "markdown",
   "id": "8cd053de",
   "metadata": {},
   "source": [
    "## 2129 Modify the value of a specified subscript of a list\n",
    "### Description: Please refine the code in solution.py to implement the update function, which changes the value of the list list_in subscripted by idx to value. The update function takes three arguments: list_in, idx, and value. We will import the code you refined in solution.py into main.py and run it. If your code is logically correct and runs successfully, the program will return a list as the result of the operation."
   ]
  },
  {
   "cell_type": "code",
   "execution_count": null,
   "id": "251bb7a2",
   "metadata": {},
   "outputs": [],
   "source": [
    "def update(list_in: list, idx: int, value: str) -> list:\n",
    "    \"\"\"\n",
    "    :param list_in: The first input list\n",
    "    :param idx: The index of update element\n",
    "    :param value: The new element after update old element\n",
    "    :return: The new list after update the index element\n",
    "    \"\"\"\n",
    "    # write your code here\n",
    "    list_in[idx] = value\n",
    "    return list_in"
   ]
  },
  {
   "cell_type": "markdown",
   "id": "1860b681",
   "metadata": {},
   "source": [
    "## 2130 The subscript element of the specified list\n",
    "### Description: Please refine the code in solution.py to implement the delete function to delete the elements at the specified position in the list. We will import your code from solution.py in main.py and run it. If your code is logically correct and runs successfully, the program will output a list as the result of the operation."
   ]
  },
  {
   "cell_type": "code",
   "execution_count": null,
   "id": "23f2d550",
   "metadata": {},
   "outputs": [],
   "source": [
    "def delete(list_in: list, idx: int) -> list:\n",
    "    \"\"\"\n",
    "    :param list_in: The first source list\n",
    "    :param idx: The input index of list_in\n",
    "    :return: A list after delete the index element of list_in\n",
    "    \"\"\"\n",
    "    # write your code here\n",
    "    list_in.pop(idx)\n",
    "    return list_in"
   ]
  },
  {
   "cell_type": "markdown",
   "id": "aa296466",
   "metadata": {},
   "source": [
    "## 2131 Nesting of lists\n",
    "### Description: Please complete the code in solution.py to realize the function of nest. The nest function has two parameters: the column list_a and the list list_b. It returns a list with list_a' nested in this list. And list_b. We will import your perfect code in solution.py into main.py and run it. If your code logic is correct and run successfully, the program will output a list as the result of the operation.\n",
    "\n"
   ]
  },
  {
   "cell_type": "code",
   "execution_count": null,
   "id": "9fea880e",
   "metadata": {},
   "outputs": [],
   "source": [
    "def nest(list_a: list, list_b: list) -> list:\n",
    "    \"\"\"\n",
    "    :param list_a: The first source list\n",
    "    :param list_b: The second source list\n",
    "    :return: A list contains list_a and list_b\n",
    "    \"\"\"\n",
    "    # write your code here\n",
    "    return [list_a, list_b]"
   ]
  },
  {
   "cell_type": "markdown",
   "id": "3c78662a",
   "metadata": {},
   "source": [
    "## 2132 · Importing a module\n",
    "### Description: In this question, we will practice importing modules in python. A Python module, which is a Python file ending in .py, contains Python object definitions and Python statements. Modules allow you to organize your Python code snippets logically. Assigning related code to a module makes your code more usable and easier to understand. In addition, modules can define functions, classes, and variables, and they can contain executable code. This is shown below."
   ]
  },
  {
   "cell_type": "code",
   "execution_count": null,
   "id": "b50e225a",
   "metadata": {},
   "outputs": [],
   "source": [
    "# write your code here\n",
    "import solution\n",
    "# keep the code below\n",
    "solution.do()"
   ]
  },
  {
   "cell_type": "markdown",
   "id": "6df1f200",
   "metadata": {},
   "source": [
    "## 2133 Use list derivatives to filter elements in any range\n",
    "### Description: Please refine the code in solution.py to implement the list_comprehension function. The list_comprehension function has two arguments range1 and range2. Use the list derivative to find the elements from the given range range1 to range2, find elements that are both even and greater than 4, and return a list of those elements. We will import your code from solution.py in main.py and run it. If your code is logically correct and runs successfully, the program will return a list as the result."
   ]
  },
  {
   "cell_type": "code",
   "execution_count": null,
   "id": "29b0bac9",
   "metadata": {},
   "outputs": [],
   "source": [
    "def list_comprehension(range1: int, range2: int) -> list:\n",
    "    \"\"\"\n",
    "    :param range1: The first num of range\n",
    "    :param range2: The second num of range\n",
    "    :return: A list of elements that meet the conditions in the range \n",
    "             from range1 to range2\n",
    "    \"\"\"\n",
    "    # write your code here\n",
    "    l = [i for i in range(range1, range2) if i > 4 and i%2 == 0]\n",
    "    return l"
   ]
  },
  {
   "cell_type": "markdown",
   "id": "52088f0a",
   "metadata": {},
   "source": [
    "## 2134 General operation of the list\n",
    "### Description: Please complete the code in solution.py to realize the following functions\n",
    "\n"
   ]
  },
  {
   "cell_type": "code",
   "execution_count": null,
   "id": "2f4f0525",
   "metadata": {},
   "outputs": [],
   "source": [
    "def get_len_of_list(list_a: list) -> int:\n",
    "    \"\"\"\n",
    "    :param list_a: The first source list\n",
    "    :return: A length of list_in\n",
    "    \"\"\"\n",
    "    # --write your code here--\n",
    "    return len(list_a)\n",
    "\n",
    "def add_two_list(list_a: list, list_b: list) -> list:\n",
    "    \"\"\"\n",
    "    :param list_a: The second source list\n",
    "    :param list_b: The third source list\n",
    "    :return: A list about the combination of list_a and list_b\n",
    "    \"\"\"\n",
    "    # write your code here\n",
    "    return list_a+list_b\n",
    "\n",
    "def repeat_list(list_a: list) -> list:\n",
    "    \"\"\"\n",
    "    :param list_a: The first source list\n",
    "    :return: A list about 3 times reputations of list_in\n",
    "    \"\"\"\n",
    "    # write your code here\n",
    "    return list_a*3\n",
    "\n",
    "def is_in_list(value: str, list_a: list) -> bool:\n",
    "    \"\"\"\n",
    "    :param value: The fourth source string\n",
    "    :param list_a: The second source list\n",
    "    :return: A bool whether value is in list_a\n",
    "    \"\"\"\n",
    "    # write your code here\n",
    "    return value in list_a\n",
    "\n",
    "def iterate_list(list_a: list) -> list:\n",
    "    \"\"\"\n",
    "    :param list_a: The second source list\n",
    "    :return: A list about the initial character in each element of list_a\n",
    "    \"\"\"\n",
    "    # write your code here\n",
    "    return [i[0] for i in list_a]"
   ]
  },
  {
   "cell_type": "markdown",
   "id": "bce75eb7",
   "metadata": {},
   "source": [
    "## 2135 Import a module and alias it\n",
    "### Description: In the python syntax, there are many powerful libraries that we need to import if we want to use the methods in them. For example import xx. In this problem, we will practice importing and renaming methods using python modules. Write code in solution.py to import a module named time, using python's import syntax to import and name it LintCode_t."
   ]
  },
  {
   "cell_type": "code",
   "execution_count": null,
   "id": "2e95ac99",
   "metadata": {},
   "outputs": [],
   "source": [
    "# Please write your code here\n",
    "import datetime as LintCode_t"
   ]
  },
  {
   "cell_type": "markdown",
   "id": "641a4b71",
   "metadata": {},
   "source": [
    "## 2137 Print out SMS verification code\n",
    "### Description: print is one of the most basic methods in Python, and it's probably the first method we'll encounter when learning a language. When outputting a string, we can sometimes use the format method to output the variable along with it"
   ]
  },
  {
   "cell_type": "code",
   "execution_count": null,
   "id": "94be393d",
   "metadata": {},
   "outputs": [],
   "source": [
    "import sys\n",
    "\n",
    "name = str(sys.argv[1])\n",
    "SMS_verification_code = str(sys.argv[2])\n",
    "\n",
    "# print \"Hello, name! Your validation code is SMS_verification_code\n",
    "# please keep it in secret.\"\n",
    "print('Hello, %s! Your validation code is %s, please keep it in secret.' % (name, SMS_verification_code))"
   ]
  },
  {
   "cell_type": "markdown",
   "id": "4a55088f",
   "metadata": {},
   "source": [
    "## 2139 print format outputs course information\n",
    "### Description:Please edit the main.py file and use print format to print the course name and the number of people attending\n",
    "\n"
   ]
  },
  {
   "cell_type": "code",
   "execution_count": null,
   "id": "39065528",
   "metadata": {},
   "outputs": [],
   "source": [
    "import sys\n",
    "# keep this code\n",
    "course_name = str(sys.argv[1])\n",
    "number = str(sys.argv[2])\n",
    "# write your code here\n",
    "print('course_name:%s,number:%s' % (course_name, number))"
   ]
  },
  {
   "cell_type": "markdown",
   "id": "963abea9",
   "metadata": {},
   "source": [
    "## 2140 The number of the two numbers in the list whose sum is equal to n\n",
    "### Description: Python's for loop can traverse items of any sequence , such as a list or a string, and can traverse the elements in the list through a loop. For the list type variable lst, there are:"
   ]
  },
  {
   "cell_type": "code",
   "execution_count": null,
   "id": "9fdd9187",
   "metadata": {},
   "outputs": [],
   "source": [
    "def twonums_sum(n, lst):\n",
    "# -- write your code here --\n",
    "    for i in range(len(lst)):\n",
    "        for j in range(i+1, len(lst)):\n",
    "            if lst[i]+lst[j] == n:\n",
    "                return print((i, j))\n",
    "    return print('not found')"
   ]
  },
  {
   "cell_type": "markdown",
   "id": "b66abad7",
   "metadata": {},
   "source": [
    "## 2141 Determine if a string is uppercase and the consecutive characters are not repeated\n",
    "### Description: In using for loops we sometimes encounter situations where we don't have to execute the loop completely, but have to jump out of the loop when certain conditions are met, so we use continue, break, return, etc."
   ]
  },
  {
   "cell_type": "code",
   "execution_count": null,
   "id": "1ef8903b",
   "metadata": {},
   "outputs": [],
   "source": [
    "def solution(var_str):\n",
    "    # Iterate through the string\n",
    "\n",
    "    # for i in range(len(var_str)):\n",
    "\n",
    "    # Determine if the character is in A ~ Z. If not, return 'Dislikes'\n",
    "\n",
    "    # Determine if this character is the last character\n",
    "\n",
    "    # Determine if this character is equal to the next character, and if so, return 'Dislikes'\n",
    "\n",
    "    # If not, continue the for loop\n",
    "\n",
    "    # If the loop does not return after execution, return 'Likes'\n",
    "    for i in range(len(var_str)-1):\n",
    "        if var_str[i] == var_str[i+1]:\n",
    "            return 'Dislikes'\n",
    "    return 'Likes'"
   ]
  },
  {
   "cell_type": "markdown",
   "id": "131b57cc",
   "metadata": {},
   "source": [
    "## 2142 Replace the elements in a string\n",
    "### Description: String is a common data type in Python, and when we want to convert it to a list, we can use the character in the split() as the delimiter. We can iterate through the elements of any sequence with a for loop, and use if to determine execute what kind of operations when the condition is met"
   ]
  },
  {
   "cell_type": "code",
   "execution_count": null,
   "id": "52240f19",
   "metadata": {},
   "outputs": [],
   "source": [
    "def solution(var_str):\n",
    "\n",
    "    # Determine if the end of the string is '#', if so remove it.\n",
    "    # if condition:\n",
    "    # Convert a string to a list and output\n",
    "    # var_list =\n",
    "    # print(var_list)\n",
    "    # Traversing the entire table, Replace 'Zhuge Dan' in the character with 'Zhuge Liang' and output\n",
    "    # for i in range(len(var_list)):\n",
    "    print([i for i in var_str.replace('_', ' ').split('#') if i != ''])\n",
    "    print([i for i in var_str.replace('_', ' ').replace('Zhuge Dan','Zhuge Liang').split('#') if i !=''])"
   ]
  },
  {
   "cell_type": "markdown",
   "id": "b27d178b",
   "metadata": {},
   "source": [
    "## 2939 Complete the chain table class (II)\n",
    "### Description: Given an unfinished linked list class LinkedList, add a method to this class so that calling the len() method on an instance of this class will return the length of this linked list."
   ]
  },
  {
   "cell_type": "code",
   "execution_count": null,
   "id": "c8820709",
   "metadata": {},
   "outputs": [],
   "source": [
    "class Node:\n",
    "    def __init__(self, val=None, next=None):\n",
    "        self.val = val\n",
    "        self.next = next\n",
    "\n",
    "\n",
    "class LinkedList:\n",
    "    def __init__(self):\n",
    "        self.length = 0\n",
    "        self.head = None\n",
    "        self.tail = None\n",
    "\n",
    "    def add(self, val):\n",
    "        newnode = Node(val)\n",
    "        if self.length == 0:\n",
    "            self.head = newnode\n",
    "            self.tail = self.head\n",
    "        else:\n",
    "            self.tail.next = newnode\n",
    "            self.tail = newnode\n",
    "        self.length += 1\n",
    "\n",
    "    def __iter__(self):\n",
    "        cur = self.head\n",
    "        while cur:\n",
    "            yield cur.val\n",
    "            cur = cur.next\n",
    "\n",
    "    # Please write your code here\n",
    "    def __len__(self):\n",
    "        return  self.length"
   ]
  },
  {
   "cell_type": "markdown",
   "id": "7ca31f20",
   "metadata": {},
   "source": [
    "## 2940 Byte string and string interconversion\n",
    "### Description: Given a byte string content, the string text asks you to convert this byte string to a string in the UTF-8 character set, convert the string to a byte string, and print them out."
   ]
  },
  {
   "cell_type": "code",
   "execution_count": null,
   "id": "8e1f9295",
   "metadata": {},
   "outputs": [],
   "source": [
    "# read data from console\n",
    "content = eval(input())\n",
    "text = eval(input())\n",
    "# output the answer to the console according to the requirements of the question\n",
    "print(content.decode())\n",
    "print(text.encode())"
   ]
  },
  {
   "cell_type": "markdown",
   "id": "1238b6b3",
   "metadata": {},
   "source": [
    "## 2942 Blocking people on the blacklist\n",
    "### Description: Given a list of blacklists blacklist and a list of customers customers for a store's year-end sale, please complete the function selection with strict control."
   ]
  },
  {
   "cell_type": "code",
   "execution_count": null,
   "id": "473ace9f",
   "metadata": {},
   "outputs": [],
   "source": [
    "class DiscoverBlacklist(Exception):\n",
    "    pass\n",
    "\n",
    "\n",
    "def selection(blacklist: list, customers: list):\n",
    "    # please write your code here\n",
    "    for customer in customers:\n",
    "        if customer in blacklist:\n",
    "            raise DiscoverBlacklist('Alert, %s is on the blacklist.' % customer) \n",
    "    return 'Welcome to the next visit'"
   ]
  },
  {
   "cell_type": "markdown",
   "id": "4438ceca",
   "metadata": {},
   "source": [
    "## 2947 Determine if it is in the list\n",
    "### Description: Given a number num_1 and a list list_1, add num_1 to the square of num_1 and divide by num_1 + 2, then determine if the number is in the list list_1 and print out the result."
   ]
  },
  {
   "cell_type": "code",
   "execution_count": null,
   "id": "c78d49d3",
   "metadata": {},
   "outputs": [],
   "source": [
    "import sys\n",
    "# Get the num, list\n",
    "num_1 = int(sys.argv[1])\n",
    "list_1 = eval(sys.argv[2])\n",
    "# please write your code here\n",
    "print((num_1+num_1*num_1)//(num_1+2) in list_1)"
   ]
  },
  {
   "cell_type": "markdown",
   "id": "df1d1cf9",
   "metadata": {},
   "source": [
    "## 2948 Discounts for members\n",
    "### Description: There is a new item in the store and regular customers need to buy it at the original price, while members can enjoy 30% discount. If a customer is on the blacklist, then the store will not sell the item to him. There is a list of members, and a blacklist. A customer comes in and you print out the price that the customer will eventually have to pay. If the customer is on the blacklist, you need to print -1."
   ]
  },
  {
   "cell_type": "code",
   "execution_count": null,
   "id": "bb6629f5",
   "metadata": {},
   "outputs": [],
   "source": [
    "# Get Variables\n",
    "price = int(input())\n",
    "customer = eval(input())\n",
    "vip = eval(input())\n",
    "blacklist = eval(input())\n",
    "# please write your code here\n",
    "if customer in vip and customer not in blacklist:\n",
    "    print ('%.2f' % (0.7*price))\n",
    "else:\n",
    "    print(-1)"
   ]
  },
  {
   "cell_type": "markdown",
   "id": "3492626e",
   "metadata": {},
   "source": [
    "## 2949 Find the number that appears an odd number of times\n",
    "### Description: Given a list list_1 with one and only one number appearing an odd number of times and all other numbers appearing an even number of times, find this number and print it out."
   ]
  },
  {
   "cell_type": "code",
   "execution_count": null,
   "id": "30193c5b",
   "metadata": {},
   "outputs": [],
   "source": [
    "# Get List\n",
    "list_1 = eval(input())\n",
    "# Please write your code here\n",
    "for i in list_1: \n",
    "    if list_1.count(i) %2 == 1:\n",
    "        print (i)\n",
    "        break"
   ]
  },
  {
   "cell_type": "markdown",
   "id": "12a2fff2",
   "metadata": {},
   "source": [
    "## 2950 Check if it is the same object\n",
    "### Description: You are asked to define two variables num_1, num_2. Then do the following."
   ]
  },
  {
   "cell_type": "code",
   "execution_count": null,
   "id": "da51b4f3",
   "metadata": {},
   "outputs": [],
   "source": [
    "# Please write your code here\n",
    "for x in (256, 257, -5, -6):\n",
    "    num_1 = x\n",
    "    num_2 = x\n",
    "    print(num_1 is num_2)"
   ]
  },
  {
   "cell_type": "markdown",
   "id": "6d7d8713",
   "metadata": {},
   "source": [
    "## 2951 Find a right-angled side of a right triangle\n",
    "### Description: Given a right triangle with hypotenuse c, and one of its right-angled sides a, print out its other right-angled side.(Results are retained to integer digits only)"
   ]
  },
  {
   "cell_type": "code",
   "execution_count": null,
   "id": "3aefc7b3",
   "metadata": {},
   "outputs": [],
   "source": [
    "import math\n",
    "# Get a, c\n",
    "a = int(input())\n",
    "c = int(input())\n",
    "# Please write your code here\n",
    "print (int(math.sqrt(c**2 - a**2)))"
   ]
  },
  {
   "cell_type": "markdown",
   "id": "68c8798f",
   "metadata": {},
   "source": [
    "## 2955 Getting to know python deep and shallow copies\n",
    "### Description: Given a list list_1, and another list list_2, with list_1 nested in list_2, we will generate a shallow copy list list_3, and a deep copy list list_4, using a shallow copy, and a deep copy of the list_2 list, respectively, and ask you to print out five boolean values in order."
   ]
  },
  {
   "cell_type": "code",
   "execution_count": null,
   "id": "8f45b77e",
   "metadata": {},
   "outputs": [],
   "source": [
    "import copy\n",
    "list_1 = [1, 2, 3]\n",
    "list_2 = [list_1]\n",
    "list_3 = copy.copy(list_2)\n",
    "list_4 = copy.deepcopy(list_2)\n",
    "# Please write your code here\n",
    "print(list_1 is list_2[0])\n",
    "print(list_1 is list_3[0])\n",
    "print(list_1 is list_4)\n",
    "print(list_2[0] is list_3[0])\n",
    "print(list_2 is list_4)"
   ]
  },
  {
   "cell_type": "markdown",
   "id": "e4b312ab",
   "metadata": {},
   "source": [
    "## 2956 Determine if a discount is available\n",
    "### Description: For a shop anniversary, given a list of all items, items starting with j, z, d, f and h will be discounted, please count the discounted items and print them to the console as a list."
   ]
  },
  {
   "cell_type": "code",
   "execution_count": null,
   "id": "79968703",
   "metadata": {},
   "outputs": [],
   "source": [
    "list_1 = eval(input())\n",
    "# Please write your code here\n",
    "L = [i for i in list_1 if i[0] in  ['j', 'z', 'd', 'f', 'h']]\n",
    "print(L)"
   ]
  },
  {
   "cell_type": "markdown",
   "id": "9b1c4325",
   "metadata": {},
   "source": [
    "## 2958 Fetch the numbers in the list for operation\n",
    "### Description: Given a list list_1 containing four character numbers, convert the four character numbers to integer numbers by performing the following operations. a÷b×(c+d), keeping two decimal places for the result, and then print the result to the console."
   ]
  },
  {
   "cell_type": "code",
   "execution_count": null,
   "id": "65499c92",
   "metadata": {},
   "outputs": [],
   "source": [
    "list_1 = eval(input())\n",
    "# Please your code here\n",
    "a, b, c, d = map(int, list_1)\n",
    "print('%.2f' % (a/b*(c+d)))"
   ]
  },
  {
   "cell_type": "markdown",
   "id": "02845c66",
   "metadata": {},
   "source": [
    "## 2959 Find the average of the maximum values in each list\n",
    "### Description: Given a list list_1 with multiple nested lists, calculate the maximum value of each nested list and output the average of all the maximum values."
   ]
  },
  {
   "cell_type": "code",
   "execution_count": null,
   "id": "8bd70bd4",
   "metadata": {},
   "outputs": [],
   "source": [
    "list_1 = eval(input())\n",
    "# Please your code here\n",
    "max_list = [max(i) for i in list_1]\n",
    "print('%.2f' % (sum(max_list)/len(max_list)))"
   ]
  },
  {
   "cell_type": "markdown",
   "id": "e702018b",
   "metadata": {},
   "source": [
    "## 2960 Define a function\n",
    "### Description: You are asked to define a function my_name that returns a string 'hello'."
   ]
  },
  {
   "cell_type": "code",
   "execution_count": 4,
   "id": "af29ee6f",
   "metadata": {},
   "outputs": [],
   "source": [
    "def my_name(self):\n",
    "    return 'hello'"
   ]
  }
 ],
 "metadata": {
  "kernelspec": {
   "display_name": "Python 3 (ipykernel)",
   "language": "python",
   "name": "python3"
  },
  "language_info": {
   "codemirror_mode": {
    "name": "ipython",
    "version": 3
   },
   "file_extension": ".py",
   "mimetype": "text/x-python",
   "name": "python",
   "nbconvert_exporter": "python",
   "pygments_lexer": "ipython3",
   "version": "3.9.7"
  }
 },
 "nbformat": 4,
 "nbformat_minor": 5
}
