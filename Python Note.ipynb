{
 "cells": [
  {
   "cell_type": "markdown",
   "id": "483c562d",
   "metadata": {},
   "source": [
    "# Jupyter Node:\n",
    "1. show Shortcut using => \"h\" or Help -> keyboard Shortcuts\n",
    "2. change edit mode to command mode => y\n",
    "3. change command mode to edit mode => m\n",
    "4. execute cell + insert one line => option + enter \n",
    "5. execute cell => control + enter \n",
    "6. delete cell => dd\n",
    "7. insert cell above => a\n",
    "8. insert cell below => b\n"
   ]
  },
  {
   "cell_type": "markdown",
   "id": "787def2d",
   "metadata": {},
   "source": [
    "# Python practice"
   ]
  },
  {
   "cell_type": "code",
   "execution_count": 19,
   "id": "ca17d261",
   "metadata": {},
   "outputs": [
    {
     "name": "stdout",
     "output_type": "stream",
     "text": [
      "hello world\n",
      "please enter your name: jason\n"
     ]
    },
    {
     "data": {
      "text/plain": [
       "'jason'"
      ]
     },
     "execution_count": 19,
     "metadata": {},
     "output_type": "execute_result"
    }
   ],
   "source": [
    "print(\"hello world\")\n",
    "\n",
    "name = input('please enter your name: ')\n",
    "name"
   ]
  },
  {
   "cell_type": "code",
   "execution_count": 22,
   "id": "28b7e967",
   "metadata": {},
   "outputs": [
    {
     "name": "stdout",
     "output_type": "stream",
     "text": [
      "0.2\n"
     ]
    }
   ],
   "source": [
    "s1 = 72\n",
    "s2 = 85\n",
    "r = (s2-s1)/s1\n",
    "print('%.1f' % r)"
   ]
  },
  {
   "cell_type": "markdown",
   "id": "e1477134",
   "metadata": {},
   "source": [
    "# List"
   ]
  },
  {
   "cell_type": "code",
   "execution_count": 39,
   "id": "3eb45d16",
   "metadata": {},
   "outputs": [
    {
     "data": {
      "text/plain": [
       "['Michael', 'Bob', 'Tracy']"
      ]
     },
     "execution_count": 39,
     "metadata": {},
     "output_type": "execute_result"
    }
   ],
   "source": [
    "classmates = ['Michael', 'Bob', 'Tracy']\n",
    "classmates"
   ]
  },
  {
   "cell_type": "code",
   "execution_count": 38,
   "id": "4469aa83",
   "metadata": {},
   "outputs": [
    {
     "data": {
      "text/plain": [
       "6"
      ]
     },
     "execution_count": 38,
     "metadata": {},
     "output_type": "execute_result"
    }
   ],
   "source": [
    "len(classmates)"
   ]
  },
  {
   "cell_type": "code",
   "execution_count": 37,
   "id": "79fc5633",
   "metadata": {},
   "outputs": [
    {
     "data": {
      "text/plain": [
       "4"
      ]
     },
     "execution_count": 37,
     "metadata": {},
     "output_type": "execute_result"
    }
   ],
   "source": [
    "s = ['python', 'java', ['asp', 'php'], 'scheme']\n",
    "len(s)"
   ]
  },
  {
   "cell_type": "code",
   "execution_count": 36,
   "id": "48dc8ada",
   "metadata": {},
   "outputs": [
    {
     "data": {
      "text/plain": [
       "['Michael', 'Jack', 'Bob', 'Tracy', 'Adam', 'Adam']"
      ]
     },
     "execution_count": 36,
     "metadata": {},
     "output_type": "execute_result"
    }
   ],
   "source": [
    "classmates.append('Adam')\n",
    "classmates"
   ]
  },
  {
   "cell_type": "code",
   "execution_count": 35,
   "id": "a6e7e56a",
   "metadata": {},
   "outputs": [
    {
     "data": {
      "text/plain": [
       "['Michael', 'Jack', 'Bob', 'Tracy', 'Adam']"
      ]
     },
     "execution_count": 35,
     "metadata": {},
     "output_type": "execute_result"
    }
   ],
   "source": [
    "classmates.insert(1, 'Jack')\n",
    "classmates"
   ]
  },
  {
   "cell_type": "code",
   "execution_count": 34,
   "id": "5740db60",
   "metadata": {},
   "outputs": [
    {
     "data": {
      "text/plain": [
       "['python', 'java', ['asp', 'php'], 'scheme']"
      ]
     },
     "execution_count": 34,
     "metadata": {},
     "output_type": "execute_result"
    }
   ],
   "source": [
    "p = ['asp', 'php']\n",
    "s = ['python', 'java', p, 'scheme']\n",
    "s"
   ]
  },
  {
   "cell_type": "code",
   "execution_count": 33,
   "id": "878d422e",
   "metadata": {},
   "outputs": [
    {
     "data": {
      "text/plain": [
       "0"
      ]
     },
     "execution_count": 33,
     "metadata": {},
     "output_type": "execute_result"
    }
   ],
   "source": [
    "L = []\n",
    "len(L)"
   ]
  },
  {
   "cell_type": "markdown",
   "id": "144a6df4",
   "metadata": {},
   "source": [
    "# Tuple"
   ]
  },
  {
   "cell_type": "code",
   "execution_count": 40,
   "id": "8b1aff1f",
   "metadata": {},
   "outputs": [],
   "source": [
    "classmates = ('Michael', 'Bob', 'Tracy')"
   ]
  },
  {
   "cell_type": "code",
   "execution_count": 42,
   "id": "19db467c",
   "metadata": {},
   "outputs": [
    {
     "data": {
      "text/plain": [
       "('a', 'b', ['X', 'Y'])"
      ]
     },
     "execution_count": 42,
     "metadata": {},
     "output_type": "execute_result"
    }
   ],
   "source": [
    "t = ('a', 'b', ['A', 'B'])\n",
    "t[2][0] = 'X'\n",
    "t[2][1] = 'Y'\n",
    "t"
   ]
  },
  {
   "cell_type": "code",
   "execution_count": 43,
   "id": "446a3f17",
   "metadata": {},
   "outputs": [
    {
     "data": {
      "text/plain": [
       "(1,)"
      ]
     },
     "execution_count": 43,
     "metadata": {},
     "output_type": "execute_result"
    }
   ],
   "source": [
    "t = (1,)\n",
    "t"
   ]
  },
  {
   "cell_type": "code",
   "execution_count": 1,
   "id": "cf74c57d",
   "metadata": {},
   "outputs": [
    {
     "name": "stdout",
     "output_type": "stream",
     "text": [
      "BMI indicator：a little heavy 26.3\n"
     ]
    }
   ],
   "source": [
    "height = 1.75\n",
    "weight = 80.5\n",
    "\n",
    "variable = 'BMI indicator：'\n",
    "bmi = weight/(height**2)\n",
    "if bmi<18.5:\n",
    "    print(f'{variable }too light')\n",
    "elif bmi < 25:\n",
    "    print('{0}normal'.format(variable ))\n",
    "elif bmi < 28:\n",
    "    print(f'%sa little heavy {bmi:.1f}' % variable )\n",
    "elif bmi <32:\n",
    "    print(f'bmi is {bmi:.1f}, heavy')\n",
    "else:\n",
    "    print(f'bmi is {bmi:.1f}, too heavy')"
   ]
  },
  {
   "cell_type": "markdown",
   "id": "ed7a4d68",
   "metadata": {},
   "source": [
    "# More Note"
   ]
  },
  {
   "cell_type": "code",
   "execution_count": 34,
   "id": "21d32b66",
   "metadata": {},
   "outputs": [],
   "source": [
    "# open file and wirte, close\n",
    "# with open(path, 'w') as f:\n",
    "#    f.write('Hello World!')\n",
    "# f.close()\n",
    "\n",
    "# with open(input_path, 'r') as f:\n",
    "#      contents=f.read()\n",
    "\n",
    "# with open(input_filepath, 'r') as f:\n",
    "#     data_list = f.read().split(' ')\n",
    "# print (sum(map(int, data_list)))\n",
    "\n",
    "# print([i for i in var_str.replace('_', ' ').replace('Zhuge Dan','Zhuge Liang').split('#') if i !=''])\n",
    "\n",
    "\n",
    "#    with open(input_path, 'r') as f:\n",
    "#        a = f.readlines()\n",
    "#    with open(output_path, 'w') as f:\n",
    "#        for s in a:\n",
    "#            if s != '\\n':\n",
    "#                f.write(s)\n",
    "\n",
    "# print(a+b, a-b, a*b, a//b, sep='\\n')\n",
    "\n",
    "# s = input().replace('\\r', '').split(':')\n",
    "# x = int(input())\n"
   ]
  },
  {
   "cell_type": "code",
   "execution_count": 58,
   "id": "5ddc892c",
   "metadata": {},
   "outputs": [],
   "source": [
    "# from a_plus_b import plus\n",
    "\n",
    "# from folder_name import module_name\n",
    "\n",
    "# import math\n",
    "# print (int(math.sqrt(c**2 - a**2)))"
   ]
  },
  {
   "cell_type": "code",
   "execution_count": 56,
   "id": "8c852f7d",
   "metadata": {},
   "outputs": [],
   "source": [
    "# L = [i for i in list_1 if i[0] in  ['j', 'z', 'd', 'f', 'h']]\n",
    "\n",
    "# l = [i for i in range(range1, range2) if i > 4 and i%2 == 0]\n",
    "\n",
    "# if list_1.count(i) %2 == 1:"
   ]
  },
  {
   "cell_type": "code",
   "execution_count": 52,
   "id": "c3443f24",
   "metadata": {},
   "outputs": [],
   "source": [
    "# import datetime\n",
    "# return today + datetime.timedelta(days = -1)"
   ]
  },
  {
   "cell_type": "code",
   "execution_count": 53,
   "id": "efb12614",
   "metadata": {},
   "outputs": [],
   "source": [
    "# list_in.sort(reverse=True) "
   ]
  },
  {
   "cell_type": "code",
   "execution_count": 57,
   "id": "ce385f57",
   "metadata": {},
   "outputs": [],
   "source": [
    "# combine 2 list => list_a+list_b\n",
    "\n",
    "# repeat 3 time => list_a*3\n",
    "\n",
    "# bool whether the value exist => return value in list_a\n",
    "# print(num_1 is num_2)\n",
    "\n",
    "# list the initial character in each element => return [i[0] for i in list_a]\n",
    "\n",
    "# divide and round down => print((num_1+num_1*num_1)//(num_1+2) in list_1)"
   ]
  },
  {
   "cell_type": "code",
   "execution_count": 60,
   "id": "9e235567",
   "metadata": {},
   "outputs": [],
   "source": [
    "# exception, %s\n",
    "# raise DiscoverBlacklist('Alert, %s is on the blacklist.' % customer)"
   ]
  },
  {
   "cell_type": "code",
   "execution_count": 61,
   "id": "2a1c85ed",
   "metadata": {},
   "outputs": [],
   "source": [
    "# de, short, en expland\n",
    "# print(content.decode())\n",
    "# print(text.encode())"
   ]
  },
  {
   "cell_type": "code",
   "execution_count": 62,
   "id": "6171c9be",
   "metadata": {},
   "outputs": [],
   "source": [
    "# 2939 · Complete the chain table class (II)"
   ]
  },
  {
   "cell_type": "code",
   "execution_count": 63,
   "id": "4a68dbf2",
   "metadata": {},
   "outputs": [],
   "source": [
    "# var = \n",
    "# f\"var is {var}\"\n",
    "# \"var is {}\".format(var)\n",
    "# \"var is {v}\".format(v=var)\n",
    "# \"var is %s\" % var"
   ]
  },
  {
   "cell_type": "code",
   "execution_count": 2,
   "id": "93754294",
   "metadata": {},
   "outputs": [],
   "source": [
    "# slice() Syntax\n",
    "# slice(start, stop, step)\n",
    "# return list_input[3:-3:3]"
   ]
  },
  {
   "cell_type": "code",
   "execution_count": 3,
   "id": "3722f566",
   "metadata": {},
   "outputs": [],
   "source": [
    "# try:\n",
    "# c = (a+b)/(a-b)\n",
    "# print('a = %d, b = %d, (a+b)/(a-b) = %s' % (a, b, c))        \n",
    "# except: \n",
    "# print ('a = %d, b = %d, the denominator of (a+b)/(a-b) cannot be zero' % (a, b))"
   ]
  },
  {
   "cell_type": "code",
   "execution_count": 7,
   "id": "45cdb0a5",
   "metadata": {},
   "outputs": [],
   "source": [
    "# def repeat_func(n):\n",
    "#      def wrapper(func):\n",
    "#          def dec(*args, **kwargs):\n",
    "#               print('before function run')\n",
    "#               for i in range(n):\n",
    "#                    func(*args, **kwargs)\n",
    "#               print('after function run')\n",
    "#               #return func(*args, **kwargs)  --return back to the function and execute the rest of code\n",
    "#          return dec\n",
    "#     return wrapper\n",
    "\n",
    "\n",
    "# from decorators import repeat_func\n",
    "# import sys\n",
    "\n",
    "# n = int(sys.argv[1])\n",
    "\n",
    "# @repeat_func(n=n)\n",
    "# def func():\n",
    "#    print('function run')"
   ]
  },
  {
   "cell_type": "code",
   "execution_count": 10,
   "id": "43d3dccf",
   "metadata": {},
   "outputs": [],
   "source": [
    "# count from a file content\n",
    "# return poem.count(' your ')\n",
    "\n",
    "# return list_1.count(5)"
   ]
  },
  {
   "cell_type": "code",
   "execution_count": 11,
   "id": "947844d4",
   "metadata": {},
   "outputs": [],
   "source": [
    "# print (sorted(list_1+list_2))"
   ]
  },
  {
   "cell_type": "code",
   "execution_count": 13,
   "id": "52f82146",
   "metadata": {},
   "outputs": [],
   "source": [
    "# print(int((1+n)*n/2))\n",
    "# n = int(input())\n",
    "# list = [i for i in range(1, n+1)]\n",
    "# print(sum(list))\n"
   ]
  },
  {
   "cell_type": "code",
   "execution_count": 14,
   "id": "6302a875",
   "metadata": {},
   "outputs": [],
   "source": [
    "# from functools import partial\n",
    "# def func():\n",
    "    # n = partial(int, base=2)"
   ]
  },
  {
   "cell_type": "code",
   "execution_count": 15,
   "id": "dfbb0702",
   "metadata": {},
   "outputs": [],
   "source": [
    "#     return str_1 == str_1[::-1]"
   ]
  },
  {
   "cell_type": "code",
   "execution_count": 32,
   "id": "0d3b81e5",
   "metadata": {},
   "outputs": [],
   "source": [
    "# from math import sqrt\n",
    "#    if num > 1:\n",
    "#        for i in range(2, int(sqrt(num)+1)):\n",
    "#            if num%i == 0:\n",
    "#                return False\n",
    "#        return True\n",
    "#    else:\n",
    "#        return False\n",
    "\n",
    "\n",
    "#    for i in range(2, int(sqrt(n)+1)):\n",
    "#            if n%i == 0:\n",
    "#                n = n-1\n",
    "#    print(n)\n",
    "\n",
    "# print('%.2f' % sqrt(n))\n",
    "\n",
    "# print('%.2f' % (((x1-x2))**2 + (y1-y2)**2)**0.5)"
   ]
  },
  {
   "cell_type": "code",
   "execution_count": 23,
   "id": "5d5ea476",
   "metadata": {},
   "outputs": [],
   "source": [
    "#    # return list_1[:3]+list_1[6:]\n",
    "#    del list_1[3:6]\n",
    "#    return list_1\n",
    "\n",
    "# print(int(str(n)[::-1]))"
   ]
  },
  {
   "cell_type": "code",
   "execution_count": 24,
   "id": "ac24cde7",
   "metadata": {},
   "outputs": [],
   "source": [
    "# tuple, split\n",
    "# return '-'.join(seq),''.join(seq)\n",
    "\n",
    "# dictionary, join two dic\n",
    "# dict_2.update(dict_1)"
   ]
  },
  {
   "cell_type": "code",
   "execution_count": 20,
   "id": "eba25bc6",
   "metadata": {},
   "outputs": [],
   "source": [
    "# return str_in.swapcase()"
   ]
  },
  {
   "cell_type": "code",
   "execution_count": 22,
   "id": "648cde68",
   "metadata": {},
   "outputs": [],
   "source": [
    "# return sum(dict_1.values())"
   ]
  },
  {
   "cell_type": "code",
   "execution_count": 26,
   "id": "2aa1b13f",
   "metadata": {},
   "outputs": [],
   "source": [
    "# print('%.2f' % (2*math.pi*r))"
   ]
  },
  {
   "cell_type": "code",
   "execution_count": 27,
   "id": "51b5bd9f",
   "metadata": {},
   "outputs": [],
   "source": [
    "# print(n%15 is 0)"
   ]
  },
  {
   "cell_type": "code",
   "execution_count": 28,
   "id": "af1307a9",
   "metadata": {},
   "outputs": [],
   "source": [
    "# while a%i or b%i:\n",
    "#         i -= 1\n",
    "#    print(i)"
   ]
  },
  {
   "cell_type": "code",
   "execution_count": 29,
   "id": "084f0b26",
   "metadata": {},
   "outputs": [],
   "source": [
    "# ASCII\n",
    "# print((ord(c)))"
   ]
  },
  {
   "cell_type": "code",
   "execution_count": 30,
   "id": "cc7cd105",
   "metadata": {},
   "outputs": [],
   "source": [
    "# triangle\n",
    "# if 2*(max(list_1)) < sum(list_1): "
   ]
  },
  {
   "cell_type": "code",
   "execution_count": 33,
   "id": "fb3d30db",
   "metadata": {},
   "outputs": [],
   "source": [
    "#    print('Intersection:', set_1&set_2)\n",
    "#    print('Union:', set_1|set_2)\n",
    "#    print('Difference:', set_1-set_2)\n",
    "#    print('Symmetric Difference:', set_1^set_2)"
   ]
  },
  {
   "cell_type": "code",
   "execution_count": 35,
   "id": "553be129",
   "metadata": {},
   "outputs": [],
   "source": [
    "# time conver\n",
    "# a = []\n",
    "# for i in s:\n",
    "#      a.append(int(i))\n",
    "# b = a[0]*60**2+a[1]*60+a[2]+x\n",
    "# h = b//3600\n",
    "# if h > 24:\n",
    "#      h = h%24\n",
    "# m = b%3600//60\n",
    "# s = b%3600%60\n",
    "# print('%02d:%02d:%02d' % (h, m, s))"
   ]
  },
  {
   "cell_type": "code",
   "execution_count": 36,
   "id": "9673df56",
   "metadata": {},
   "outputs": [],
   "source": [
    "# factorial\n",
    "# for i in range(2,n+1):\n",
    "#     a = a*i"
   ]
  },
  {
   "cell_type": "code",
   "execution_count": 37,
   "id": "4d7c8a7d",
   "metadata": {},
   "outputs": [],
   "source": [
    "# The rightmost 1 of a binary number\n",
    "# print(num_1 & (-num_1))"
   ]
  },
  {
   "cell_type": "code",
   "execution_count": 38,
   "id": "93c33deb",
   "metadata": {},
   "outputs": [],
   "source": [
    "# if ss.islower():\n",
    "\n",
    "#           nums = input()\n",
    "#           nums = nums.split(\" \")\n",
    "\n",
    "# l=[i for i in range(1,n) if n%i==0]\n",
    "# print('is perfect number' if sum(l)==n else 'not perfect number')"
   ]
  },
  {
   "cell_type": "code",
   "execution_count": 39,
   "id": "31037f0a",
   "metadata": {},
   "outputs": [],
   "source": [
    "# res = 100\n",
    "# first = 100\n",
    "# for i in range(1, n):\n",
    "#      first /= 2\n",
    "#     res += first*2\n",
    "# print('%.2f' % res)"
   ]
  },
  {
   "cell_type": "code",
   "execution_count": 40,
   "id": "1833bc95",
   "metadata": {},
   "outputs": [],
   "source": [
    "# leap year\n",
    "# if (n%4==0 and n%100!=0 or n%400==0):"
   ]
  },
  {
   "cell_type": "code",
   "execution_count": 42,
   "id": "4a041880",
   "metadata": {},
   "outputs": [],
   "source": [
    "# dictionary\n",
    "# return {i:i**2 for i in range(1,int_1+1)}"
   ]
  },
  {
   "cell_type": "code",
   "execution_count": null,
   "id": "0cd2eb22",
   "metadata": {},
   "outputs": [],
   "source": [
    "# print(sum([i for i in range(1,n+1) if i%2 == 0]))"
   ]
  },
  {
   "cell_type": "code",
   "execution_count": 43,
   "id": "e2c13c71",
   "metadata": {},
   "outputs": [],
   "source": [
    "# for i in range(1, 10):\n",
    "#     for j in range(1, i+1):\n",
    "#          print('%d*%d=%d' % (j, i, i*j), end=' ' if j<i else '\\n')"
   ]
  },
  {
   "cell_type": "code",
   "execution_count": 44,
   "id": "36585488",
   "metadata": {},
   "outputs": [],
   "source": [
    "# s[0],s[-1] = s[-1], s[0]"
   ]
  },
  {
   "cell_type": "code",
   "execution_count": 45,
   "id": "7c79a733",
   "metadata": {},
   "outputs": [],
   "source": [
    "#    d, a = 0, 0\n",
    "#     for i in list_in:\n",
    "#        if i.isdigit():\n",
    "#            d += 1\n",
    "#        elif i.isalpha():\n",
    "#            a+=1\n",
    "#    return {'Digits num': d, 'Alphas num': a}"
   ]
  },
  {
   "cell_type": "code",
   "execution_count": 46,
   "id": "0190dab0",
   "metadata": {},
   "outputs": [],
   "source": [
    "# for j in range(2, int(i**0.5+1)):"
   ]
  },
  {
   "cell_type": "code",
   "execution_count": 47,
   "id": "b4454f06",
   "metadata": {},
   "outputs": [],
   "source": [
    "# if n != 0:\n",
    "#      list_1 = input().split()\n",
    "#      print(sum([int(list_1[i]) for i in range(n)]))\n",
    "# else:\n",
    "#      print(0)"
   ]
  },
  {
   "cell_type": "code",
   "execution_count": 48,
   "id": "19980e2b",
   "metadata": {},
   "outputs": [],
   "source": [
    "# list_1 = sorted([int(i) for i in input().split()])"
   ]
  },
  {
   "cell_type": "code",
   "execution_count": 49,
   "id": "68f1e05f",
   "metadata": {},
   "outputs": [],
   "source": [
    "# return {value:key for key, value in src.items()}"
   ]
  },
  {
   "cell_type": "code",
   "execution_count": null,
   "id": "356bb08f",
   "metadata": {},
   "outputs": [],
   "source": [
    "# print('-'.join(l))"
   ]
  },
  {
   "cell_type": "code",
   "execution_count": null,
   "id": "5489f209",
   "metadata": {},
   "outputs": [],
   "source": [
    "# str_in.title()\n",
    "\n",
    "#    str_1 = str_in.split(' ')\n",
    "#    str_list = (' '.join([s[0].upper()+s[1:] for s in str_1])).split('-')\n",
    "#    return ('-'.join(ss[0].upper()+ss[1:] for ss in str_list))"
   ]
  },
  {
   "cell_type": "code",
   "execution_count": null,
   "id": "e1a38222",
   "metadata": {},
   "outputs": [],
   "source": [
    "# dic = {i[\"name\"]: i[\"price\"] for i in src}\n",
    "#        # 一：lambda\n",
    "#        # return max(dic, key=lambda k:dic[k])\n",
    "#        # 二：\n",
    "#        return max(dic, key=dic.get)"
   ]
  },
  {
   "cell_type": "code",
   "execution_count": null,
   "id": "cd7051ac",
   "metadata": {},
   "outputs": [],
   "source": [
    "# return (str_1.count('a'), str_1[:41].count('going'))"
   ]
  },
  {
   "cell_type": "code",
   "execution_count": null,
   "id": "d289c6d3",
   "metadata": {},
   "outputs": [],
   "source": [
    "#    with open(path,'r') as f:\n",
    "#        lines=f.readlines()\n",
    "#        lines[0]=lines[0].replace('name','student_name')\n",
    "#    with open(path,'w') as f:\n",
    "#        f.writelines(lines)"
   ]
  },
  {
   "cell_type": "code",
   "execution_count": null,
   "id": "383550cb",
   "metadata": {},
   "outputs": [],
   "source": [
    "#    print([x * y for x in list_1 for y in list_2])\n",
    "#    print([x + y for x in list_1 for y in list_2])\n",
    "#    print([x * y for x, y in zip(list_1, list_2)])"
   ]
  },
  {
   "cell_type": "code",
   "execution_count": null,
   "id": "23b074af",
   "metadata": {},
   "outputs": [],
   "source": [
    "#    list_1.extend(list_2)\n",
    "#    list_1.sort()"
   ]
  },
  {
   "cell_type": "code",
   "execution_count": null,
   "id": "a8590102",
   "metadata": {},
   "outputs": [],
   "source": [
    "# res = ''\n",
    "# for i in range(len(s)):\n",
    "#     idx = ord(s[i]) - ord('A') + 1\n",
    "#     res += chr(26 - idx + ord('A'))\n",
    "# print(res)\n"
   ]
  },
  {
   "cell_type": "code",
   "execution_count": null,
   "id": "664ad393",
   "metadata": {},
   "outputs": [],
   "source": [
    "#     print(str_2.replace(\"*\", \"career\", 1))"
   ]
  },
  {
   "cell_type": "code",
   "execution_count": null,
   "id": "ea42968f",
   "metadata": {},
   "outputs": [],
   "source": [
    "#     num=int_1\n",
    "#    num_1=int_1\n",
    "#    for i in range(3):\n",
    "#        num_1=num_1*10+int_1\n",
    "#        num=num+num_1\n",
    "#    print(num)"
   ]
  },
  {
   "cell_type": "code",
   "execution_count": null,
   "id": "6726b10a",
   "metadata": {},
   "outputs": [],
   "source": [
    "# return {i:default_score for i in seq_keys}"
   ]
  },
  {
   "cell_type": "code",
   "execution_count": null,
   "id": "483c8326",
   "metadata": {},
   "outputs": [],
   "source": [
    "#     dict_in.popitem()"
   ]
  },
  {
   "cell_type": "code",
   "execution_count": null,
   "id": "fc804b17",
   "metadata": {},
   "outputs": [],
   "source": [
    "# ans=[str(i) for i in range(1,n+1) if i%3!=0]\n",
    "# print('\\n'.join(ans))"
   ]
  },
  {
   "cell_type": "code",
   "execution_count": null,
   "id": "cdcbb306",
   "metadata": {},
   "outputs": [],
   "source": [
    "# for i in range(2, n+1):\n",
    "#     ss = 1\n",
    "#     for j in range(2, int(i**0.5+1)):\n",
    "#          if i%j == 0:\n",
    "#               ss = 0\n",
    "#               break\n",
    "#     if ss == 1:\n",
    "#          print(i)\n",
    "\n",
    "\n",
    "# print(n<<3)"
   ]
  },
  {
   "cell_type": "code",
   "execution_count": null,
   "id": "99481d40",
   "metadata": {},
   "outputs": [],
   "source": [
    "# for i in range(1, n):\n",
    "#     if i-1 != list_1[i] and i == 1:\n",
    "#          print(list_1[i-1])\n",
    "#     else:\n",
    "#          print(list_1[i])"
   ]
  },
  {
   "cell_type": "code",
   "execution_count": null,
   "id": "e6bbd97c",
   "metadata": {},
   "outputs": [],
   "source": [
    "# def print_avg(*args, **kwargs):\n",
    "# \tname = kwargs['student_name']\n",
    "#\tage = kwargs['student_age']\n",
    "#\tavg = sum(args) / len(args)\n",
    "# return f'name: {name}, age: {age}, avg: {avg:.2f}'"
   ]
  },
  {
   "cell_type": "code",
   "execution_count": null,
   "id": "638bf915",
   "metadata": {},
   "outputs": [],
   "source": [
    "# print([s if s%num_1 == 0 and s%num_2 == 0 else 0 for s in list_1])"
   ]
  },
  {
   "cell_type": "code",
   "execution_count": null,
   "id": "6301d4a4",
   "metadata": {},
   "outputs": [],
   "source": [
    "#     goods.sort(key=lambda x: [x[1], x[0]])\n",
    "#    return goods[-1][0]"
   ]
  },
  {
   "cell_type": "code",
   "execution_count": null,
   "id": "8d468067",
   "metadata": {},
   "outputs": [],
   "source": [
    "#         f.write(str(list_1))"
   ]
  },
  {
   "cell_type": "code",
   "execution_count": null,
   "id": "bb725128",
   "metadata": {},
   "outputs": [],
   "source": [
    "# def get_write_dict(path:str):\n",
    "#    # Please write your code\n",
    "#    with open(path,'r') as f:\n",
    "#        sub = json.load(f)\n",
    "#    sub['age']=18\n",
    "#    with open(path,'w') as f:\n",
    "#        json.dump(sub,f)"
   ]
  },
  {
   "cell_type": "code",
   "execution_count": null,
   "id": "b32c4f82",
   "metadata": {},
   "outputs": [],
   "source": [
    "# class MyError(Exception):\n",
    "#    def __init__(self, code):\n",
    "#        # write your code here: \n",
    "#        self.__code=code       \n",
    "\n",
    "#    def __str__(self):\n",
    "#        # write your code here:\n",
    "#        return str(self.__code)"
   ]
  },
  {
   "cell_type": "code",
   "execution_count": null,
   "id": "d011e447",
   "metadata": {},
   "outputs": [],
   "source": [
    "#    def __next__(self):\n",
    "#        # write your code here:\n",
    "#        self.a,self.b = self.b,self.a + self.b\n",
    "#        return self.a"
   ]
  },
  {
   "cell_type": "code",
   "execution_count": null,
   "id": "fb70c350",
   "metadata": {},
   "outputs": [],
   "source": [
    "# class EvenIterator:\n",
    "#     def __init__(self, max_value):\n",
    "#        self.max_value = max_value\n",
    "#        self.num = 0\n",
    "\n",
    "#     def __iter__(self):\n",
    "#        return self\n",
    "\n",
    "#     def __next__(self):\n",
    "#        if self.num > self.max_value:\n",
    "#            raise StopIteration\n",
    "#        temp = self.num\n",
    "#        self.num += 2\n",
    "#        return temp"
   ]
  },
  {
   "cell_type": "code",
   "execution_count": null,
   "id": "a7ada581",
   "metadata": {},
   "outputs": [],
   "source": [
    "# import functools\n",
    "\n",
    "# def division(m, n):\n",
    "#     return n % m\n",
    "\n",
    "# result = functools.partial(division, 999)"
   ]
  },
  {
   "cell_type": "code",
   "execution_count": null,
   "id": "b17d1581",
   "metadata": {},
   "outputs": [],
   "source": [
    "#     [result.extend([k, v]) for k, v in dict_1.items()]"
   ]
  },
  {
   "cell_type": "code",
   "execution_count": null,
   "id": "bee7a280",
   "metadata": {},
   "outputs": [],
   "source": [
    "# def splitlines(src: str) -> str:\n",
    "#    \"\"\"\n",
    "#    :param src: The source string needs to be processed\n",
    "#    :return: The maximum length of the string\n",
    "#    \"\"\"\n",
    "#    # -- write your code here --\n",
    "\n",
    "#    return max(src.splitlines(), key= lambda i: len(i))"
   ]
  },
  {
   "cell_type": "code",
   "execution_count": null,
   "id": "9e5daf7d",
   "metadata": {},
   "outputs": [],
   "source": [
    "'''\n",
    "class Student:\n",
    "    count = 0\n",
    "\n",
    "    def __init__(self, name):\n",
    "        # write your code to initialize a student\n",
    "        # -- write your code here --\n",
    "        self.name = name\n",
    "        Student.count += 1\n",
    "    def speaking(self):\n",
    "        # print something like `Hello, My name is John , there are 1 students in total!`\n",
    "        # -- write your code here --\n",
    "        print(\"Hello, My name is \"+self.name+\" , there are \"+str(self.count)+\" students in total!\")\n",
    "''''''"
   ]
  },
  {
   "cell_type": "code",
   "execution_count": null,
   "id": "9f8f65e6",
   "metadata": {},
   "outputs": [],
   "source": [
    "'''\n",
    "import shutil\n",
    "import os\n",
    "\n",
    "\n",
    "def copy_folder(from_dir_path, to_dir_path):\n",
    "    # write your code here\n",
    "    shutil.copytree(from_dir_path, to_dir_path)\n",
    "'''"
   ]
  },
  {
   "cell_type": "code",
   "execution_count": null,
   "id": "a53569db",
   "metadata": {},
   "outputs": [],
   "source": [
    "'''\n",
    "def odd(list_in):\n",
    "    # write your code here\n",
    "    for i in list_in:\n",
    "        if i%2 != 0:\n",
    "            yield i\n",
    "'''"
   ]
  }
 ],
 "metadata": {
  "kernelspec": {
   "display_name": "Python 3 (ipykernel)",
   "language": "python",
   "name": "python3"
  },
  "language_info": {
   "codemirror_mode": {
    "name": "ipython",
    "version": 3
   },
   "file_extension": ".py",
   "mimetype": "text/x-python",
   "name": "python",
   "nbconvert_exporter": "python",
   "pygments_lexer": "ipython3",
   "version": "3.9.7"
  }
 },
 "nbformat": 4,
 "nbformat_minor": 5
}
