{
 "cells": [
  {
   "cell_type": "markdown",
   "id": "483c562d",
   "metadata": {},
   "source": [
    "# Jupyter Node:\n",
    "1. show Shortcut using => \"h\" or Help -> keyboard Shortcuts\n",
    "2. change edit mode to command mode => y\n",
    "3. change command mode to edit mode => m\n",
    "4. execute cell + insert one line => option + enter \n",
    "5. execute cell => control + enter \n",
    "6. delete cell => dd\n",
    "7. insert cell above => a\n",
    "8. insert cell below => b\n"
   ]
  },
  {
   "cell_type": "markdown",
   "id": "787def2d",
   "metadata": {},
   "source": [
    "# Python practice"
   ]
  },
  {
   "cell_type": "code",
   "execution_count": 19,
   "id": "ca17d261",
   "metadata": {},
   "outputs": [
    {
     "name": "stdout",
     "output_type": "stream",
     "text": [
      "hello world\n",
      "please enter your name: jason\n"
     ]
    },
    {
     "data": {
      "text/plain": [
       "'jason'"
      ]
     },
     "execution_count": 19,
     "metadata": {},
     "output_type": "execute_result"
    }
   ],
   "source": [
    "print(\"hello world\")\n",
    "\n",
    "name = input('please enter your name: ')\n",
    "name"
   ]
  },
  {
   "cell_type": "code",
   "execution_count": 22,
   "id": "28b7e967",
   "metadata": {},
   "outputs": [
    {
     "name": "stdout",
     "output_type": "stream",
     "text": [
      "0.2\n"
     ]
    }
   ],
   "source": [
    "s1 = 72\n",
    "s2 = 85\n",
    "r = (s2-s1)/s1\n",
    "print('%.1f' % r)"
   ]
  },
  {
   "cell_type": "markdown",
   "id": "e1477134",
   "metadata": {},
   "source": [
    "# List"
   ]
  },
  {
   "cell_type": "code",
   "execution_count": 39,
   "id": "3eb45d16",
   "metadata": {},
   "outputs": [
    {
     "data": {
      "text/plain": [
       "['Michael', 'Bob', 'Tracy']"
      ]
     },
     "execution_count": 39,
     "metadata": {},
     "output_type": "execute_result"
    }
   ],
   "source": [
    "classmates = ['Michael', 'Bob', 'Tracy']\n",
    "classmates"
   ]
  },
  {
   "cell_type": "code",
   "execution_count": 38,
   "id": "4469aa83",
   "metadata": {},
   "outputs": [
    {
     "data": {
      "text/plain": [
       "6"
      ]
     },
     "execution_count": 38,
     "metadata": {},
     "output_type": "execute_result"
    }
   ],
   "source": [
    "len(classmates)"
   ]
  },
  {
   "cell_type": "code",
   "execution_count": 37,
   "id": "79fc5633",
   "metadata": {},
   "outputs": [
    {
     "data": {
      "text/plain": [
       "4"
      ]
     },
     "execution_count": 37,
     "metadata": {},
     "output_type": "execute_result"
    }
   ],
   "source": [
    "s = ['python', 'java', ['asp', 'php'], 'scheme']\n",
    "len(s)"
   ]
  },
  {
   "cell_type": "code",
   "execution_count": 36,
   "id": "48dc8ada",
   "metadata": {},
   "outputs": [
    {
     "data": {
      "text/plain": [
       "['Michael', 'Jack', 'Bob', 'Tracy', 'Adam', 'Adam']"
      ]
     },
     "execution_count": 36,
     "metadata": {},
     "output_type": "execute_result"
    }
   ],
   "source": [
    "classmates.append('Adam')\n",
    "classmates"
   ]
  },
  {
   "cell_type": "code",
   "execution_count": 35,
   "id": "a6e7e56a",
   "metadata": {},
   "outputs": [
    {
     "data": {
      "text/plain": [
       "['Michael', 'Jack', 'Bob', 'Tracy', 'Adam']"
      ]
     },
     "execution_count": 35,
     "metadata": {},
     "output_type": "execute_result"
    }
   ],
   "source": [
    "classmates.insert(1, 'Jack')\n",
    "classmates"
   ]
  },
  {
   "cell_type": "code",
   "execution_count": 34,
   "id": "5740db60",
   "metadata": {},
   "outputs": [
    {
     "data": {
      "text/plain": [
       "['python', 'java', ['asp', 'php'], 'scheme']"
      ]
     },
     "execution_count": 34,
     "metadata": {},
     "output_type": "execute_result"
    }
   ],
   "source": [
    "p = ['asp', 'php']\n",
    "s = ['python', 'java', p, 'scheme']\n",
    "s"
   ]
  },
  {
   "cell_type": "code",
   "execution_count": 33,
   "id": "878d422e",
   "metadata": {},
   "outputs": [
    {
     "data": {
      "text/plain": [
       "0"
      ]
     },
     "execution_count": 33,
     "metadata": {},
     "output_type": "execute_result"
    }
   ],
   "source": [
    "L = []\n",
    "len(L)"
   ]
  },
  {
   "cell_type": "markdown",
   "id": "144a6df4",
   "metadata": {},
   "source": [
    "# Tuple"
   ]
  },
  {
   "cell_type": "code",
   "execution_count": 40,
   "id": "8b1aff1f",
   "metadata": {},
   "outputs": [],
   "source": [
    "classmates = ('Michael', 'Bob', 'Tracy')"
   ]
  },
  {
   "cell_type": "code",
   "execution_count": 42,
   "id": "19db467c",
   "metadata": {},
   "outputs": [
    {
     "data": {
      "text/plain": [
       "('a', 'b', ['X', 'Y'])"
      ]
     },
     "execution_count": 42,
     "metadata": {},
     "output_type": "execute_result"
    }
   ],
   "source": [
    "t = ('a', 'b', ['A', 'B'])\n",
    "t[2][0] = 'X'\n",
    "t[2][1] = 'Y'\n",
    "t"
   ]
  },
  {
   "cell_type": "code",
   "execution_count": 43,
   "id": "446a3f17",
   "metadata": {},
   "outputs": [
    {
     "data": {
      "text/plain": [
       "(1,)"
      ]
     },
     "execution_count": 43,
     "metadata": {},
     "output_type": "execute_result"
    }
   ],
   "source": [
    "t = (1,)\n",
    "t"
   ]
  },
  {
   "cell_type": "code",
   "execution_count": 1,
   "id": "cf74c57d",
   "metadata": {},
   "outputs": [
    {
     "name": "stdout",
     "output_type": "stream",
     "text": [
      "BMI indicator：a little heavy 26.3\n"
     ]
    }
   ],
   "source": [
    "height = 1.75\n",
    "weight = 80.5\n",
    "\n",
    "variable = 'BMI indicator：'\n",
    "bmi = weight/(height**2)\n",
    "if bmi<18.5:\n",
    "    print(f'{variable }too light')\n",
    "elif bmi < 25:\n",
    "    print('{0}normal'.format(variable ))\n",
    "elif bmi < 28:\n",
    "    print(f'%sa little heavy {bmi:.1f}' % variable )\n",
    "elif bmi <32:\n",
    "    print(f'bmi is {bmi:.1f}, heavy')\n",
    "else:\n",
    "    print(f'bmi is {bmi:.1f}, too heavy')"
   ]
  },
  {
   "cell_type": "markdown",
   "id": "ed7a4d68",
   "metadata": {},
   "source": [
    "# More Note"
   ]
  },
  {
   "cell_type": "code",
   "execution_count": 12,
   "id": "21d32b66",
   "metadata": {},
   "outputs": [],
   "source": [
    "# open file and wirte, close\n",
    "# with open(path, 'w') as f:\n",
    "#    f.write('Hello World!')\n",
    "# f.close()\n",
    "\n",
    "# with open(input_path, 'r') as f:\n",
    "#      contents=f.read()\n",
    "\n",
    "# with open(input_filepath, 'r') as f:\n",
    "#     data_list = f.read().split(' ')\n",
    "# print (sum(map(int, data_list)))\n",
    "\n",
    "# print([i for i in var_str.replace('_', ' ').replace('Zhuge Dan','Zhuge Liang').split('#') if i !=''])\n",
    "\n",
    "\n",
    "#    with open(input_path, 'r') as f:\n",
    "#        a = f.readlines()\n",
    "#    with open(output_path, 'w') as f:\n",
    "#        for s in a:\n",
    "#            if s != '\\n':\n",
    "#                f.write(s)"
   ]
  },
  {
   "cell_type": "code",
   "execution_count": 58,
   "id": "5ddc892c",
   "metadata": {},
   "outputs": [],
   "source": [
    "# from a_plus_b import plus\n",
    "\n",
    "# from folder_name import module_name\n",
    "\n",
    "# import math\n",
    "# print (int(math.sqrt(c**2 - a**2)))"
   ]
  },
  {
   "cell_type": "code",
   "execution_count": 56,
   "id": "8c852f7d",
   "metadata": {},
   "outputs": [],
   "source": [
    "# L = [i for i in list_1 if i[0] in  ['j', 'z', 'd', 'f', 'h']]\n",
    "\n",
    "# l = [i for i in range(range1, range2) if i > 4 and i%2 == 0]\n",
    "\n",
    "# if list_1.count(i) %2 == 1:"
   ]
  },
  {
   "cell_type": "code",
   "execution_count": 52,
   "id": "c3443f24",
   "metadata": {},
   "outputs": [],
   "source": [
    "# import datetime\n",
    "# return today + datetime.timedelta(days = -1)"
   ]
  },
  {
   "cell_type": "code",
   "execution_count": 53,
   "id": "efb12614",
   "metadata": {},
   "outputs": [],
   "source": [
    "# list_in.sort(reverse=True) "
   ]
  },
  {
   "cell_type": "code",
   "execution_count": 57,
   "id": "ce385f57",
   "metadata": {},
   "outputs": [],
   "source": [
    "# combine 2 list => list_a+list_b\n",
    "\n",
    "# repeat 3 time => list_a*3\n",
    "\n",
    "# bool whether the value exist => return value in list_a\n",
    "# print(num_1 is num_2)\n",
    "\n",
    "# list the initial character in each element => return [i[0] for i in list_a]\n",
    "\n",
    "# divide and round down => print((num_1+num_1*num_1)//(num_1+2) in list_1)"
   ]
  },
  {
   "cell_type": "code",
   "execution_count": 60,
   "id": "9e235567",
   "metadata": {},
   "outputs": [],
   "source": [
    "# exception, %s\n",
    "# raise DiscoverBlacklist('Alert, %s is on the blacklist.' % customer)"
   ]
  },
  {
   "cell_type": "code",
   "execution_count": 61,
   "id": "2a1c85ed",
   "metadata": {},
   "outputs": [],
   "source": [
    "# de, short, en expland\n",
    "# print(content.decode())\n",
    "# print(text.encode())"
   ]
  },
  {
   "cell_type": "code",
   "execution_count": 62,
   "id": "6171c9be",
   "metadata": {},
   "outputs": [],
   "source": [
    "# 2939 · Complete the chain table class (II)"
   ]
  },
  {
   "cell_type": "code",
   "execution_count": 63,
   "id": "4a68dbf2",
   "metadata": {},
   "outputs": [],
   "source": [
    "# var = \n",
    "# f\"var is {var}\"\n",
    "# \"var is {}\".format(var)\n",
    "# \"var is {v}\".format(v=var)\n",
    "# \"var is %s\" % var"
   ]
  },
  {
   "cell_type": "code",
   "execution_count": 2,
   "id": "bea813b2",
   "metadata": {},
   "outputs": [],
   "source": [
    "# slice() Syntax\n",
    "# slice(start, stop, step)\n",
    "# return list_input[3:-3:3]"
   ]
  },
  {
   "cell_type": "code",
   "execution_count": 3,
   "id": "23027a61",
   "metadata": {},
   "outputs": [],
   "source": [
    "# try:\n",
    "# c = (a+b)/(a-b)\n",
    "# print('a = %d, b = %d, (a+b)/(a-b) = %s' % (a, b, c))        \n",
    "# except: \n",
    "# print ('a = %d, b = %d, the denominator of (a+b)/(a-b) cannot be zero' % (a, b))"
   ]
  },
  {
   "cell_type": "code",
   "execution_count": 7,
   "id": "6b60e450",
   "metadata": {},
   "outputs": [],
   "source": [
    "# def repeat_func(n):\n",
    "#      def wrapper(func):\n",
    "#          def dec(*args, **kwargs):\n",
    "#               print('before function run')\n",
    "#               for i in range(n):\n",
    "#                    func(*args, **kwargs)\n",
    "#               print('after function run')\n",
    "#               #return func(*args, **kwargs)  --return back to the function and execute the rest of code\n",
    "#          return dec\n",
    "#     return wrapper\n",
    "\n",
    "\n",
    "# from decorators import repeat_func\n",
    "# import sys\n",
    "\n",
    "# n = int(sys.argv[1])\n",
    "\n",
    "# @repeat_func(n=n)\n",
    "# def func():\n",
    "#    print('function run')"
   ]
  },
  {
   "cell_type": "code",
   "execution_count": 10,
   "id": "0b04cf23",
   "metadata": {},
   "outputs": [],
   "source": [
    "# count from a file content\n",
    "# return poem.count(' your ')\n",
    "\n",
    "# return list_1.count(5)"
   ]
  },
  {
   "cell_type": "code",
   "execution_count": 11,
   "id": "9bda43c0",
   "metadata": {},
   "outputs": [],
   "source": [
    "# print (sorted(list_1+list_2))"
   ]
  },
  {
   "cell_type": "code",
   "execution_count": 13,
   "id": "07fabcc1",
   "metadata": {},
   "outputs": [],
   "source": [
    "# print(int((1+n)*n/2))\n",
    "# n = int(input())\n",
    "# list = [i for i in range(1, n+1)]\n",
    "# print(sum(list))\n"
   ]
  },
  {
   "cell_type": "code",
   "execution_count": 14,
   "id": "33811f6f",
   "metadata": {},
   "outputs": [],
   "source": [
    "# from functools import partial\n",
    "# def func():\n",
    "    # n = partial(int, base=2)"
   ]
  },
  {
   "cell_type": "code",
   "execution_count": 15,
   "id": "e67f4b13",
   "metadata": {},
   "outputs": [],
   "source": [
    "#     return str_1 == str_1[::-1]"
   ]
  },
  {
   "cell_type": "code",
   "execution_count": 17,
   "id": "f19241e7",
   "metadata": {},
   "outputs": [],
   "source": [
    "# from math import sqrt\n",
    "#    if num > 1:\n",
    "#        for i in range(2, int(sqrt(num)+1)):\n",
    "#            if num%i == 0:\n",
    "#                return False\n",
    "#        return True\n",
    "#    else:\n",
    "#        return False\n",
    "\n",
    "\n",
    "#    for i in range(2, int(sqrt(n)+1)):\n",
    "#            if n%i == 0:\n",
    "#                n = n-1\n",
    "#    print(n)"
   ]
  },
  {
   "cell_type": "code",
   "execution_count": null,
   "id": "8e33c405",
   "metadata": {},
   "outputs": [],
   "source": []
  }
 ],
 "metadata": {
  "kernelspec": {
   "display_name": "Python 3 (ipykernel)",
   "language": "python",
   "name": "python3"
  },
  "language_info": {
   "codemirror_mode": {
    "name": "ipython",
    "version": 3
   },
   "file_extension": ".py",
   "mimetype": "text/x-python",
   "name": "python",
   "nbconvert_exporter": "python",
   "pygments_lexer": "ipython3",
   "version": "3.9.7"
  }
 },
 "nbformat": 4,
 "nbformat_minor": 5
}
